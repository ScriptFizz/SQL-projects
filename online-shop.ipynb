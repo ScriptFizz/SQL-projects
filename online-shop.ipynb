{
 "cells": [
  {
   "cell_type": "code",
   "execution_count": 1,
   "id": "b93d365f",
   "metadata": {
    "_cell_guid": "b1076dfc-b9ad-4769-8c92-a6c4dae69d19",
    "_uuid": "8f2839f25d086af736a60e9eeb907d3b93b6e0e5",
    "execution": {
     "iopub.execute_input": "2025-03-31T14:27:43.599901Z",
     "iopub.status.busy": "2025-03-31T14:27:43.599515Z",
     "iopub.status.idle": "2025-03-31T14:27:44.654177Z",
     "shell.execute_reply": "2025-03-31T14:27:44.652731Z"
    },
    "papermill": {
     "duration": 1.064514,
     "end_time": "2025-03-31T14:27:44.656105",
     "exception": false,
     "start_time": "2025-03-31T14:27:43.591591",
     "status": "completed"
    },
    "tags": []
   },
   "outputs": [
    {
     "name": "stdout",
     "output_type": "stream",
     "text": [
      "/kaggle/input/online-shop-2024/products.csv\n",
      "/kaggle/input/online-shop-2024/suppliers.csv\n",
      "/kaggle/input/online-shop-2024/shipments.csv\n",
      "/kaggle/input/online-shop-2024/order_items.csv\n",
      "/kaggle/input/online-shop-2024/reviews.csv\n",
      "/kaggle/input/online-shop-2024/payment.csv\n",
      "/kaggle/input/online-shop-2024/orders.csv\n",
      "/kaggle/input/online-shop-2024/customers.csv\n"
     ]
    }
   ],
   "source": [
    "# This Python 3 environment comes with many helpful analytics libraries installed\n",
    "# It is defined by the kaggle/python Docker image: https://github.com/kaggle/docker-python\n",
    "# For example, here's several helpful packages to load\n",
    "\n",
    "import numpy as np # linear algebra\n",
    "import pandas as pd # data processing, CSV file I/O (e.g. pd.read_csv)\n",
    "\n",
    "# Input data files are available in the read-only \"../input/\" directory\n",
    "# For example, running this (by clicking run or pressing Shift+Enter) will list all files under the input directory\n",
    "\n",
    "import os\n",
    "for dirname, _, filenames in os.walk('/kaggle/input'):\n",
    "    for filename in filenames:\n",
    "        print(os.path.join(dirname, filename))\n",
    "\n",
    "# You can write up to 20GB to the current directory (/kaggle/working/) that gets preserved as output when you create a version using \"Save & Run All\" \n",
    "# You can also write temporary files to /kaggle/temp/, but they won't be saved outside of the current session"
   ]
  },
  {
   "cell_type": "markdown",
   "id": "f02af416",
   "metadata": {
    "papermill": {
     "duration": 0.00608,
     "end_time": "2025-03-31T14:27:44.668755",
     "exception": false,
     "start_time": "2025-03-31T14:27:44.662675",
     "status": "completed"
    },
    "tags": []
   },
   "source": [
    "As stated in the <a href='https://www.kaggle.com/datasets/marthadimgba/online-shop-2024'>dataset page</a> \"The structure of the online_shop dataset consists of interconnected tables that simulate a real-world e-commerce platform. Each table represents a key aspect of the business, such as products, orders, customers, suppliers, and reviews.\"</br>\n",
    "In this analysis we'll use this dataset to study sales performances and to build a basic product recommender."
   ]
  },
  {
   "cell_type": "code",
   "execution_count": 2,
   "id": "3a65ffb9",
   "metadata": {
    "execution": {
     "iopub.execute_input": "2025-03-31T14:27:44.682393Z",
     "iopub.status.busy": "2025-03-31T14:27:44.681906Z",
     "iopub.status.idle": "2025-03-31T14:27:44.686461Z",
     "shell.execute_reply": "2025-03-31T14:27:44.685092Z"
    },
    "papermill": {
     "duration": 0.013101,
     "end_time": "2025-03-31T14:27:44.688147",
     "exception": false,
     "start_time": "2025-03-31T14:27:44.675046",
     "status": "completed"
    },
    "tags": []
   },
   "outputs": [],
   "source": [
    "import sqlite3"
   ]
  },
  {
   "cell_type": "markdown",
   "id": "45de1f68",
   "metadata": {
    "papermill": {
     "duration": 0.005641,
     "end_time": "2025-03-31T14:27:44.700133",
     "exception": false,
     "start_time": "2025-03-31T14:27:44.694492",
     "status": "completed"
    },
    "tags": []
   },
   "source": [
    "<h2>Creating the database</h2>"
   ]
  },
  {
   "cell_type": "markdown",
   "id": "0b334356",
   "metadata": {
    "papermill": {
     "duration": 0.005847,
     "end_time": "2025-03-31T14:27:44.711887",
     "exception": false,
     "start_time": "2025-03-31T14:27:44.706040",
     "status": "completed"
    },
    "tags": []
   },
   "source": [
    "Being the different tables related to each other, we load the csv file in a relational database:"
   ]
  },
  {
   "cell_type": "code",
   "execution_count": 3,
   "id": "848384d8",
   "metadata": {
    "execution": {
     "iopub.execute_input": "2025-03-31T14:27:44.725088Z",
     "iopub.status.busy": "2025-03-31T14:27:44.724743Z",
     "iopub.status.idle": "2025-03-31T14:27:44.943516Z",
     "shell.execute_reply": "2025-03-31T14:27:44.942512Z"
    },
    "papermill": {
     "duration": 0.227496,
     "end_time": "2025-03-31T14:27:44.945369",
     "exception": false,
     "start_time": "2025-03-31T14:27:44.717873",
     "status": "completed"
    },
    "tags": []
   },
   "outputs": [],
   "source": [
    "products_df = pd.read_csv('/kaggle/input/online-shop-2024/products.csv')\n",
    "suppliers_df = pd.read_csv('/kaggle/input/online-shop-2024/suppliers.csv')\n",
    "shipments_df = pd.read_csv('/kaggle/input/online-shop-2024/shipments.csv', parse_dates = ['shipment_date', 'delivery_date'])\n",
    "order_items_df = pd.read_csv('/kaggle/input/online-shop-2024/order_items.csv')\n",
    "payment_df = pd.read_csv('/kaggle/input/online-shop-2024/payment.csv')#, parse_dates = ['payment_date'])\n",
    "reviews_df = pd.read_csv('/kaggle/input/online-shop-2024/reviews.csv', parse_dates = ['review_date'])\n",
    "orders_df = pd.read_csv('/kaggle/input/online-shop-2024/orders.csv', parse_dates = ['order_date'])\n",
    "customers_df = pd.read_csv('/kaggle/input/online-shop-2024/customers.csv')"
   ]
  },
  {
   "cell_type": "code",
   "execution_count": 4,
   "id": "0fc2eacc",
   "metadata": {
    "execution": {
     "iopub.execute_input": "2025-03-31T14:27:44.960460Z",
     "iopub.status.busy": "2025-03-31T14:27:44.960044Z",
     "iopub.status.idle": "2025-03-31T14:27:45.494557Z",
     "shell.execute_reply": "2025-03-31T14:27:45.493482Z"
    },
    "papermill": {
     "duration": 0.544513,
     "end_time": "2025-03-31T14:27:45.496483",
     "exception": false,
     "start_time": "2025-03-31T14:27:44.951970",
     "status": "completed"
    },
    "tags": []
   },
   "outputs": [],
   "source": [
    "conn = sqlite3.connect('online_shop.db')\n",
    "products_df.to_sql('products', con = conn, if_exists = 'replace', index = False)\n",
    "suppliers_df.to_sql('suppliers', con = conn, if_exists = 'replace', index = False)\n",
    "shipments_df.to_sql('shipments', con = conn, if_exists = 'replace', index = False)\n",
    "order_items_df.to_sql('order_items', con = conn, if_exists = 'replace', index = False)\n",
    "payment_df.to_sql('payments', con = conn, if_exists = 'replace', index = False)\n",
    "reviews_df.to_sql('reviews', con = conn, if_exists = 'replace', index = False)\n",
    "orders_df.to_sql('orders', con = conn, if_exists = 'replace', index = False)\n",
    "customers_df.to_sql('customers', con = conn, if_exists = 'replace', index = False)\n",
    "\n",
    "TABLES = ['products', 'suppliers', 'shipments', 'order_items', 'payments', 'reviews', 'orders', 'customers']"
   ]
  },
  {
   "cell_type": "markdown",
   "id": "85615f1a",
   "metadata": {
    "papermill": {
     "duration": 0.005883,
     "end_time": "2025-03-31T14:27:45.509189",
     "exception": false,
     "start_time": "2025-03-31T14:27:45.503306",
     "status": "completed"
    },
    "tags": []
   },
   "source": [
    "We also define two functions for speeding up querying/formatting:"
   ]
  },
  {
   "cell_type": "code",
   "execution_count": 5,
   "id": "e5dba3db",
   "metadata": {
    "execution": {
     "iopub.execute_input": "2025-03-31T14:27:45.523027Z",
     "iopub.status.busy": "2025-03-31T14:27:45.522682Z",
     "iopub.status.idle": "2025-03-31T14:27:45.529888Z",
     "shell.execute_reply": "2025-03-31T14:27:45.528921Z"
    },
    "papermill": {
     "duration": 0.016286,
     "end_time": "2025-03-31T14:27:45.531626",
     "exception": false,
     "start_time": "2025-03-31T14:27:45.515340",
     "status": "completed"
    },
    "tags": []
   },
   "outputs": [],
   "source": [
    "def print_table(cnames, rows, max_columns = 7, max_rows = 20):\n",
    "    \"\"\"\n",
    "    Print the result of a (SELECT) query in a table format with at most max_columns columns and max_rows rows\n",
    "    \"\"\"\n",
    "    _cnames = cnames[:]\n",
    "    _rows = rows[:]\n",
    "    if len(cnames) > max_columns:\n",
    "        _cnames = _cnames[:max_columns] + ['...']\n",
    "        _rows = [row[:max_columns] + ['...'] for row in rows]\n",
    "    print('|'.join(f'{cname:^15}' for cname in _cnames) + '\\n')\n",
    "    print('-' * 15 * len(_cnames))\n",
    "    for row in _rows[:max_rows]:\n",
    "        print('|'.join(f'{item:^15}' for item in row) + '\\n')\n",
    "\n",
    "def do_query(sql, connection = conn):\n",
    "    \"\"\"\n",
    "    Use a cursor to execute a SQL query and print the results with the print_table function\n",
    "    \"\"\"\n",
    "    cur = conn.cursor()\n",
    "    cur.execute(sql)\n",
    "    rows = cur.fetchall()\n",
    "    cnames = list(map(lambda x : x[0], cur.description))\n",
    "    print_table(cnames, rows)\n",
    "    cur.close()"
   ]
  },
  {
   "cell_type": "markdown",
   "id": "92182bb5",
   "metadata": {
    "papermill": {
     "duration": 0.005592,
     "end_time": "2025-03-31T14:27:45.543227",
     "exception": false,
     "start_time": "2025-03-31T14:27:45.537635",
     "status": "completed"
    },
    "tags": []
   },
   "source": [
    "<h3>View tables</h3>"
   ]
  },
  {
   "cell_type": "markdown",
   "id": "9920d2d4",
   "metadata": {
    "papermill": {
     "duration": 0.005612,
     "end_time": "2025-03-31T14:27:45.554776",
     "exception": false,
     "start_time": "2025-03-31T14:27:45.549164",
     "status": "completed"
    },
    "tags": []
   },
   "source": [
    "We start by simply looking at the first few rows of each table:"
   ]
  },
  {
   "cell_type": "code",
   "execution_count": 6,
   "id": "90be9ded",
   "metadata": {
    "execution": {
     "iopub.execute_input": "2025-03-31T14:27:45.568796Z",
     "iopub.status.busy": "2025-03-31T14:27:45.568343Z",
     "iopub.status.idle": "2025-03-31T14:27:45.586834Z",
     "shell.execute_reply": "2025-03-31T14:27:45.585654Z"
    },
    "papermill": {
     "duration": 0.028355,
     "end_time": "2025-03-31T14:27:45.589092",
     "exception": false,
     "start_time": "2025-03-31T14:27:45.560737",
     "status": "completed"
    },
    "tags": []
   },
   "outputs": [
    {
     "name": "stdout",
     "output_type": "stream",
     "text": [
      "PRODUCTS\n",
      "\n",
      "  product_id   | product_name  |   category    |     price     |  supplier_id  \n",
      "\n",
      "---------------------------------------------------------------------------\n",
      "       1       | Office Chair  |   Furniture   |    445.01     |      501      \n",
      "\n",
      "       2       | Coffee Maker  |Home & Kitchen |    937.29     |      502      \n",
      "\n",
      "       3       |Document Scanner|  Electronics  |    940.02     |      503      \n",
      "\n",
      "       4       |   Desk Mat    |  Accessories  |     76.11     |      504      \n",
      "\n",
      "       5       | Tablet Stand  |  Accessories  |    388.17     |      505      \n",
      "\n",
      "\n",
      "\n",
      "SUPPLIERS\n",
      "\n",
      "  supplier_id  | supplier_name | contact_name  |    address    | phone_number  |     email     \n",
      "\n",
      "------------------------------------------------------------------------------------------\n",
      "      501      |Dynamic Systems Group|Donald Benjamin|141 Shore Ln, Island City, MA|(555) 484-6922 |dbenjamin@supplier.com\n",
      "\n",
      "      502      |Dynamic Systems Group|Nicholas Dennis|161 Harbor Ln, Bay Point, FM|(555) 397-6986 |ndennis@supplier.com\n",
      "\n",
      "      503      |Mega Suppliers |Catherine Moore|151 Pearl St, Seaside, SD|(555) 240-4096 |cmoore@supplier.com\n",
      "\n",
      "      504      |Tech Supplies Inc.|Linda Virginia |505 Walnut St, Coast City, OR|(555) 624-2518 |lvirginia@supplier.com\n",
      "\n",
      "      505      |Ultimate Services|  Mark Samuel  |585 Lighthouse Rd, Sea Haven, LA|(555) 295-9426 |msamuel@supplier.com\n",
      "\n",
      "\n",
      "\n",
      "SHIPMENTS\n",
      "\n",
      "  shipment_id  |   order_id    | shipment_date |    carrier    |tracking_number| delivery_date |shipment_status\n",
      "\n",
      "---------------------------------------------------------------------------------------------------------\n",
      "       1       |       1       |2024-10-13 00:00:00|      UPS      |   TRK344284   |2024-10-14 00:00:00|    Pending    \n",
      "\n",
      "       2       |       2       |2024-08-27 00:00:00|      DHL      |   TRK718398   |2024-08-28 00:00:00|   Delivered   \n",
      "\n",
      "       3       |       3       |2024-05-23 00:00:00|     FedEx     |   TRK161368   |2024-05-31 00:00:00|    Pending    \n",
      "\n",
      "       4       |       4       |2024-06-06 00:00:00|      UPS      |   TRK890181   |2024-06-10 00:00:00|    Pending    \n",
      "\n",
      "       5       |       5       |2024-11-03 00:00:00|      DHL      |   TRK681341   |2024-11-08 00:00:00|   Delivered   \n",
      "\n",
      "\n",
      "\n",
      "ORDER_ITEMS\n",
      "\n",
      " order_item_id |   order_id    |  product_id   |   quantity    |price_at_purchase\n",
      "\n",
      "---------------------------------------------------------------------------\n",
      "       1       |     6550      |     1032      |       1       |    342.92     \n",
      "\n",
      "       2       |     7324      |     1695      |       1       |    955.86     \n",
      "\n",
      "       3       |     11952     |     1962      |       1       |    909.45     \n",
      "\n",
      "       4       |     8938      |     1958      |       1       |    984.91     \n",
      "\n",
      "       5       |     4238      |     1880      |       1       |    649.18     \n",
      "\n",
      "\n",
      "\n",
      "PAYMENTS\n",
      "\n",
      "  payment_id   |   order_id    |payment_method |    amount     |transaction_status\n",
      "\n",
      "---------------------------------------------------------------------------\n",
      "       1       |       1       |  Credit Card  |    232.15     |   Completed   \n",
      "\n",
      "       2       |       2       |  Credit Card  |    454.44     |   Completed   \n",
      "\n",
      "       3       |       3       |  Credit Card  |     26.14     |   Completed   \n",
      "\n",
      "       4       |       4       |  Credit Card  |     985.7     |   Completed   \n",
      "\n",
      "       5       |       5       |  Credit Card  |    733.32     |   Completed   \n",
      "\n",
      "\n",
      "\n",
      "REVIEWS\n",
      "\n",
      "   review_id   |  product_id   |  customer_id  |    rating     |  review_text  |  review_date  \n",
      "\n",
      "------------------------------------------------------------------------------------------\n",
      "       1       |      16       |     1516      |       4       |Customer service was excellent, product too.|2024-03-03 00:00:00\n",
      "\n",
      "       2       |     1516      |     1516      |       4       |Customer service was excellent, product too.|2024-01-08 00:00:00\n",
      "\n",
      "       3       |     1566      |     9066      |       1       |Basic functionality but reliable.|2024-03-23 00:00:00\n",
      "\n",
      "       4       |      66       |     9066      |       1       |Basic functionality but reliable.|2024-03-25 00:00:00\n",
      "\n",
      "       5       |     1522      |     1522      |       3       |Better than similar products I have tried.|2024-03-03 00:00:00\n",
      "\n",
      "\n",
      "\n",
      "ORDERS\n",
      "\n",
      "   order_id    |  order_date   |  customer_id  |  total_price  \n",
      "\n",
      "------------------------------------------------------------\n",
      "     7324      |2023-11-27 00:00:00|     2160      |    955.86     \n",
      "\n",
      "     8938      |2024-08-31 00:00:00|     8497      |    984.91     \n",
      "\n",
      "     4238      |2023-12-05 00:00:00|     6295      |    649.18     \n",
      "\n",
      "     10944     |2024-02-22 00:00:00|     2936      |     54.83     \n",
      "\n",
      "     11075     |2024-08-14 00:00:00|     2994      |    320.24     \n",
      "\n",
      "\n",
      "\n",
      "CUSTOMERS\n",
      "\n",
      "  customer_id  |  first_name   |   last_name   |    address    |     email     | phone_number  \n",
      "\n",
      "------------------------------------------------------------------------------------------\n",
      "       1       |     James     |     Smith     |123 Main St, Springfield, IL|jsmith1@customer.com| 555-190-3233  \n",
      "\n",
      "       2       |     James     |    Johnson    |123 Main St, Springfield, IL|jjohnson2@customer.com| 555-525-8357  \n",
      "\n",
      "       3       |     James     |   Williams    |123 Main St, Springfield, IL|jwilliams3@customer.com| 555-933-4447  \n",
      "\n",
      "       4       |     James     |     Brown     |123 Main St, Springfield, IL|jbrown4@customer.com| 555-897-0326  \n",
      "\n",
      "       5       |     James     |     Jones     |123 Main St, Springfield, IL|jjones5@customer.com| 555-762-5836  \n",
      "\n",
      "\n",
      "\n"
     ]
    }
   ],
   "source": [
    "for table in TABLES:\n",
    "    sql_view = f\"\"\"\n",
    "    SELECT * FROM {table} LIMIT 5;\n",
    "    \"\"\"\n",
    "    print(table.upper() + '\\n')\n",
    "    cur = conn.cursor()\n",
    "    cur.execute(sql_view)\n",
    "    rows = cur.fetchall()\n",
    "    cnames = list(map(lambda x : x[0], cur.description))\n",
    "    print_table(cnames, rows)\n",
    "    print('\\n')"
   ]
  },
  {
   "cell_type": "markdown",
   "id": "160cde28",
   "metadata": {
    "execution": {
     "iopub.execute_input": "2025-03-31T13:44:34.265249Z",
     "iopub.status.busy": "2025-03-31T13:44:34.264655Z",
     "iopub.status.idle": "2025-03-31T13:44:34.273573Z",
     "shell.execute_reply": "2025-03-31T13:44:34.271712Z",
     "shell.execute_reply.started": "2025-03-31T13:44:34.265200Z"
    },
    "papermill": {
     "duration": 0.005872,
     "end_time": "2025-03-31T14:27:45.601181",
     "exception": false,
     "start_time": "2025-03-31T14:27:45.595309",
     "status": "completed"
    },
    "tags": []
   },
   "source": [
    "<h2>Sales Analysis</h2>"
   ]
  },
  {
   "cell_type": "markdown",
   "id": "58dc74a9",
   "metadata": {
    "papermill": {
     "duration": 0.005813,
     "end_time": "2025-03-31T14:27:45.613545",
     "exception": false,
     "start_time": "2025-03-31T14:27:45.607732",
     "status": "completed"
    },
    "tags": []
   },
   "source": [
    "<h3>Top 10 most purchased products</h3>"
   ]
  },
  {
   "cell_type": "markdown",
   "id": "409e2e04",
   "metadata": {
    "papermill": {
     "duration": 0.005955,
     "end_time": "2025-03-31T14:27:45.625819",
     "exception": false,
     "start_time": "2025-03-31T14:27:45.619864",
     "status": "completed"
    },
    "tags": []
   },
   "source": [
    "We're interested to know which products are the most popular, the products names are in the products table while the quantity purchased in different orders is stated in the order_items table:"
   ]
  },
  {
   "cell_type": "code",
   "execution_count": 7,
   "id": "f3867f4e",
   "metadata": {
    "execution": {
     "iopub.execute_input": "2025-03-31T14:27:45.639544Z",
     "iopub.status.busy": "2025-03-31T14:27:45.639088Z",
     "iopub.status.idle": "2025-03-31T14:27:45.676992Z",
     "shell.execute_reply": "2025-03-31T14:27:45.675686Z"
    },
    "papermill": {
     "duration": 0.047082,
     "end_time": "2025-03-31T14:27:45.679081",
     "exception": false,
     "start_time": "2025-03-31T14:27:45.631999",
     "status": "completed"
    },
    "tags": []
   },
   "outputs": [
    {
     "name": "stdout",
     "output_type": "stream",
     "text": [
      "    Product    |   Category    |   Quantity    \n",
      "\n",
      "---------------------------------------------\n",
      "  4K Monitor   |  Electronics  |     2280      \n",
      "\n",
      " Throw Pillows |Home & Kitchen |     2072      \n",
      "\n",
      " Air Purifier  |Home & Kitchen |     2031      \n",
      "\n",
      " Standing Desk |   Furniture   |     2030      \n",
      "\n",
      "Kitchen Blender|Home & Kitchen |     2024      \n",
      "\n",
      "Bluetooth Headphones|  Electronics  |     2021      \n",
      "\n",
      " Storage Shelf |   Furniture   |     2007      \n",
      "\n",
      " External SSD  |  Electronics  |     2003      \n",
      "\n",
      "  Microphone   |  Electronics  |     2001      \n",
      "\n",
      " Monitor Stand |   Furniture   |     1972      \n",
      "\n"
     ]
    }
   ],
   "source": [
    "sql_top_10 = \"\"\"\n",
    "SELECT p.product_name AS Product, \n",
    "p.category AS Category,\n",
    "SUM(oi.quantity) AS Quantity\n",
    "FROM products AS p \n",
    "JOIN order_items AS oi ON p.product_id = oi.product_id\n",
    "GROUP BY p.product_name ORDER BY Quantity DESC LIMIT 10\n",
    "\"\"\"\n",
    "\n",
    "cur = conn.cursor()\n",
    "cur.execute(sql_top_10)\n",
    "rows = cur.fetchall()\n",
    "cnames = list(map(lambda x : x[0], cur.description))\n",
    "print_table(cnames, rows)\n",
    "cur.close()"
   ]
  },
  {
   "cell_type": "markdown",
   "id": "c70afe25",
   "metadata": {
    "papermill": {
     "duration": 0.006111,
     "end_time": "2025-03-31T14:27:45.691844",
     "exception": false,
     "start_time": "2025-03-31T14:27:45.685733",
     "status": "completed"
    },
    "tags": []
   },
   "source": [
    "From this results we note how electionics products are very popular, followed by varied home items and \"electonics-related\" forniture (such as standing desk and monitor stands)."
   ]
  },
  {
   "cell_type": "markdown",
   "id": "6118b17e",
   "metadata": {
    "papermill": {
     "duration": 0.005915,
     "end_time": "2025-03-31T14:27:45.704121",
     "exception": false,
     "start_time": "2025-03-31T14:27:45.698206",
     "status": "completed"
    },
    "tags": []
   },
   "source": [
    "<h3>Monthly gross sales</h3>"
   ]
  },
  {
   "cell_type": "markdown",
   "id": "78195f77",
   "metadata": {
    "papermill": {
     "duration": 0.005768,
     "end_time": "2025-03-31T14:27:45.716339",
     "exception": false,
     "start_time": "2025-03-31T14:27:45.710571",
     "status": "completed"
    },
    "tags": []
   },
   "source": [
    "We check the gross sales values for each month:"
   ]
  },
  {
   "cell_type": "code",
   "execution_count": 8,
   "id": "8a460082",
   "metadata": {
    "execution": {
     "iopub.execute_input": "2025-03-31T14:27:45.730061Z",
     "iopub.status.busy": "2025-03-31T14:27:45.729739Z",
     "iopub.status.idle": "2025-03-31T14:27:45.770042Z",
     "shell.execute_reply": "2025-03-31T14:27:45.768656Z"
    },
    "papermill": {
     "duration": 0.049318,
     "end_time": "2025-03-31T14:27:45.771995",
     "exception": false,
     "start_time": "2025-03-31T14:27:45.722677",
     "status": "completed"
    },
    "tags": []
   },
   "outputs": [
    {
     "name": "stdout",
     "output_type": "stream",
     "text": [
      "     Year      |     Month     |  Gross Sales  \n",
      "\n",
      "---------------------------------------------\n",
      "     2023      |      11       |   346991.19   \n",
      "\n",
      "     2023      |      12       |   441734.7    \n",
      "\n",
      "     2024      |      01       |   459458.14   \n",
      "\n",
      "     2024      |      02       |   408462.62   \n",
      "\n",
      "     2024      |      03       |   475475.15   \n",
      "\n",
      "     2024      |      04       |   442748.32   \n",
      "\n",
      "     2024      |      05       |   445395.85   \n",
      "\n",
      "     2024      |      06       |   432774.14   \n",
      "\n",
      "     2024      |      07       |   492759.03   \n",
      "\n",
      "     2024      |      08       |   471184.74   \n",
      "\n",
      "     2024      |      09       |   447226.92   \n",
      "\n",
      "     2024      |      10       |   469681.23   \n",
      "\n",
      "     2024      |      11       |    50757.7    \n",
      "\n"
     ]
    }
   ],
   "source": [
    "sql_monthly = \"\"\"\n",
    "SELECT SUBSTR(orders.order_date, 1, 4) AS Year,\n",
    "SUBSTR(orders.order_date, 6, 2) AS Month,\n",
    "ROUND(SUM(payments.amount), 2) as 'Gross Sales'\n",
    "FROM orders JOIN payments ON orders.order_id = payments.order_id\n",
    "GROUP BY Year, Month\n",
    "ORDER BY Year, Month ASC\n",
    "\"\"\"\n",
    "\n",
    "do_query(sql_monthly)"
   ]
  },
  {
   "cell_type": "markdown",
   "id": "1c3cad8a",
   "metadata": {
    "papermill": {
     "duration": 0.006124,
     "end_time": "2025-03-31T14:27:45.784558",
     "exception": false,
     "start_time": "2025-03-31T14:27:45.778434",
     "status": "completed"
    },
    "tags": []
   },
   "source": [
    "The sudden drop from November 2024 is simply due to partial records, the months of highest sales were July and March 2024."
   ]
  },
  {
   "cell_type": "markdown",
   "id": "59f5c056",
   "metadata": {
    "papermill": {
     "duration": 0.005983,
     "end_time": "2025-03-31T14:27:45.796891",
     "exception": false,
     "start_time": "2025-03-31T14:27:45.790908",
     "status": "completed"
    },
    "tags": []
   },
   "source": [
    "<h3>Top/Worst 10 product by review</h3>"
   ]
  },
  {
   "cell_type": "markdown",
   "id": "a0ee5f46",
   "metadata": {
    "papermill": {
     "duration": 0.005958,
     "end_time": "2025-03-31T14:27:45.810111",
     "exception": false,
     "start_time": "2025-03-31T14:27:45.804153",
     "status": "completed"
    },
    "tags": []
   },
   "source": [
    "We compute the average rating for each product (the rating score goes from 1 to 5 where 1 is worst, 5 is best), we then show the 10 best rated products:"
   ]
  },
  {
   "cell_type": "code",
   "execution_count": 9,
   "id": "57f0c0d4",
   "metadata": {
    "execution": {
     "iopub.execute_input": "2025-03-31T14:27:45.824898Z",
     "iopub.status.busy": "2025-03-31T14:27:45.824533Z",
     "iopub.status.idle": "2025-03-31T14:27:45.833510Z",
     "shell.execute_reply": "2025-03-31T14:27:45.832266Z"
    },
    "papermill": {
     "duration": 0.018881,
     "end_time": "2025-03-31T14:27:45.835231",
     "exception": false,
     "start_time": "2025-03-31T14:27:45.816350",
     "status": "completed"
    },
    "tags": []
   },
   "outputs": [
    {
     "name": "stdout",
     "output_type": "stream",
     "text": [
      "    Product    |  Avg_Rating   \n",
      "\n",
      "------------------------------\n",
      " Throw Pillows |      5.0      \n",
      "\n",
      " Storage Shelf |      5.0      \n",
      "\n",
      "  Smart Watch  |      5.0      \n",
      "\n",
      "Screen Protector|      5.0      \n",
      "\n",
      "Portable Charger|      5.0      \n",
      "\n",
      "  Phone Grip   |      5.0      \n",
      "\n",
      " Laptop Sleeve |      5.0      \n",
      "\n",
      "Food Processor |      5.0      \n",
      "\n",
      "Electric Kettle|      5.0      \n",
      "\n",
      "Wireless Charger|      4.0      \n",
      "\n"
     ]
    }
   ],
   "source": [
    "sql_top_rating = \"\"\"\n",
    "WITH reviews_avg AS\n",
    "(SELECT\n",
    "product_id, \n",
    "ROUND(AVG(rating), 2) as average_rating\n",
    "FROM reviews\n",
    "GROUP BY product_id)\n",
    "SELECT products.product_name AS Product,\n",
    "reviews_avg.average_rating AS Avg_Rating\n",
    "FROM products JOIN reviews_avg ON products.product_id = reviews_avg.product_id\n",
    "GROUP BY products.product_name\n",
    "ORDER BY Avg_Rating DESC\n",
    "LIMIT 10\n",
    "\"\"\"\n",
    "\n",
    "do_query(sql_top_rating)"
   ]
  },
  {
   "cell_type": "markdown",
   "id": "2934b59a",
   "metadata": {
    "papermill": {
     "duration": 0.006002,
     "end_time": "2025-03-31T14:27:45.847888",
     "exception": false,
     "start_time": "2025-03-31T14:27:45.841886",
     "status": "completed"
    },
    "tags": []
   },
   "source": [
    "To find the worst rated product the quering logic is the name; it's worth noting how \"bluethooth headphones\" is in the list while also being one of the most purchased product:"
   ]
  },
  {
   "cell_type": "code",
   "execution_count": 10,
   "id": "f6e48709",
   "metadata": {
    "execution": {
     "iopub.execute_input": "2025-03-31T14:27:45.861884Z",
     "iopub.status.busy": "2025-03-31T14:27:45.861518Z",
     "iopub.status.idle": "2025-03-31T14:27:45.870641Z",
     "shell.execute_reply": "2025-03-31T14:27:45.869123Z"
    },
    "papermill": {
     "duration": 0.018413,
     "end_time": "2025-03-31T14:27:45.872632",
     "exception": false,
     "start_time": "2025-03-31T14:27:45.854219",
     "status": "completed"
    },
    "tags": []
   },
   "outputs": [
    {
     "name": "stdout",
     "output_type": "stream",
     "text": [
      "    Product    |  Avg_Rating   \n",
      "\n",
      "------------------------------\n",
      "Bluetooth Headphones|      1.0      \n",
      "\n",
      "   Bookshelf   |      1.0      \n",
      "\n",
      "Cable Organizer|      1.0      \n",
      "\n",
      " Coffee Maker  |      1.0      \n",
      "\n",
      "   Desk Mat    |      1.0      \n",
      "\n",
      "Document Scanner|      1.0      \n",
      "\n",
      "  Drawer Unit  |      1.0      \n",
      "\n",
      "Noise Cancelling Headset|      1.0      \n",
      "\n",
      "Storage Containers|      1.0      \n",
      "\n",
      " Tablet Stand  |      1.0      \n",
      "\n"
     ]
    }
   ],
   "source": [
    "sql_worst_rating = \"\"\"\n",
    "WITH reviews_avg AS\n",
    "(SELECT\n",
    "product_id, \n",
    "ROUND(AVG(rating), 2) as average_rating\n",
    "FROM reviews\n",
    "GROUP BY product_id)\n",
    "SELECT products.product_name AS Product,\n",
    "reviews_avg.average_rating AS Avg_Rating\n",
    "FROM products JOIN reviews_avg ON products.product_id = reviews_avg.product_id\n",
    "GROUP BY products.product_name\n",
    "ORDER BY Avg_Rating ASC\n",
    "LIMIT 10\n",
    "\"\"\"\n",
    "\n",
    "do_query(sql_worst_rating)"
   ]
  },
  {
   "cell_type": "markdown",
   "id": "9142a0d0",
   "metadata": {
    "papermill": {
     "duration": 0.006417,
     "end_time": "2025-03-31T14:27:45.886173",
     "exception": false,
     "start_time": "2025-03-31T14:27:45.879756",
     "status": "completed"
    },
    "tags": []
   },
   "source": [
    "<h2>Basic Recommender</h2>"
   ]
  },
  {
   "cell_type": "markdown",
   "id": "0d71b4a5",
   "metadata": {
    "papermill": {
     "duration": 0.00618,
     "end_time": "2025-03-31T14:27:45.898994",
     "exception": false,
     "start_time": "2025-03-31T14:27:45.892814",
     "status": "completed"
    },
    "tags": []
   },
   "source": [
    "Finally we use the sales information to build a simple products recommender: when a customer buys a product we'll suggest them the most purchased products by the other customer who also bought the product.</br>\n",
    "To make a more refined recommender, we could suggest popular products that have been purchased in the same order, but as we see below each order in this database contains only one product ID:"
   ]
  },
  {
   "cell_type": "code",
   "execution_count": 11,
   "id": "b0d17ea8",
   "metadata": {
    "execution": {
     "iopub.execute_input": "2025-03-31T14:27:45.913618Z",
     "iopub.status.busy": "2025-03-31T14:27:45.913198Z",
     "iopub.status.idle": "2025-03-31T14:27:45.936267Z",
     "shell.execute_reply": "2025-03-31T14:27:45.934790Z"
    },
    "papermill": {
     "duration": 0.032477,
     "end_time": "2025-03-31T14:27:45.938238",
     "exception": false,
     "start_time": "2025-03-31T14:27:45.905761",
     "status": "completed"
    },
    "tags": []
   },
   "outputs": [
    {
     "name": "stdout",
     "output_type": "stream",
     "text": [
      "   order_id    |  Order_Size   \n",
      "\n",
      "------------------------------\n",
      "     15000     |       1       \n",
      "\n",
      "     14999     |       1       \n",
      "\n",
      "     14998     |       1       \n",
      "\n",
      "     14997     |       1       \n",
      "\n",
      "     14996     |       1       \n",
      "\n"
     ]
    }
   ],
   "source": [
    "sql_order_size = \"\"\"\n",
    "SELECT\n",
    "order_id, \n",
    "COUNT(DISTINCT product_id) AS Order_Size \n",
    "FROM order_items\n",
    "GROUP BY order_id\n",
    "ORDER BY Order_Size DESC\n",
    "LIMIT 5\n",
    "\"\"\"\n",
    "do_query(sql_order_size)"
   ]
  },
  {
   "cell_type": "markdown",
   "id": "e313322d",
   "metadata": {
    "papermill": {
     "duration": 0.006533,
     "end_time": "2025-03-31T14:27:45.951589",
     "exception": false,
     "start_time": "2025-03-31T14:27:45.945056",
     "status": "completed"
    },
    "tags": []
   },
   "source": [
    "For convenience we first create a temporary view with the customer ID and the product name for each order, which are the only data we need:"
   ]
  },
  {
   "cell_type": "code",
   "execution_count": 12,
   "id": "56518b9d",
   "metadata": {
    "execution": {
     "iopub.execute_input": "2025-03-31T14:27:45.965998Z",
     "iopub.status.busy": "2025-03-31T14:27:45.965670Z",
     "iopub.status.idle": "2025-03-31T14:27:45.970978Z",
     "shell.execute_reply": "2025-03-31T14:27:45.969768Z"
    },
    "papermill": {
     "duration": 0.01465,
     "end_time": "2025-03-31T14:27:45.972862",
     "exception": false,
     "start_time": "2025-03-31T14:27:45.958212",
     "status": "completed"
    },
    "tags": []
   },
   "outputs": [],
   "source": [
    "sql_view = \"\"\"\n",
    "DROP VIEW IF EXISTS customers_products;\n",
    "CREATE TEMP VIEW IF NOT EXISTS customers_products AS\n",
    "SELECT products.product_name,\n",
    "customers.customer_id\n",
    "FROM customers JOIN orders ON customers.customer_id = orders.customer_id\n",
    "JOIN order_items on orders.order_id = order_items.order_id\n",
    "JOIN products ON order_items.product_id = products.product_id;\n",
    "\"\"\"\n",
    "\n",
    "cur = conn.cursor()\n",
    "cur.executescript(sql_view)\n",
    "cur.close()"
   ]
  },
  {
   "cell_type": "code",
   "execution_count": 13,
   "id": "c3c29e84",
   "metadata": {
    "execution": {
     "iopub.execute_input": "2025-03-31T14:27:45.987296Z",
     "iopub.status.busy": "2025-03-31T14:27:45.986916Z",
     "iopub.status.idle": "2025-03-31T14:27:46.028309Z",
     "shell.execute_reply": "2025-03-31T14:27:46.027154Z"
    },
    "papermill": {
     "duration": 0.050527,
     "end_time": "2025-03-31T14:27:46.030131",
     "exception": false,
     "start_time": "2025-03-31T14:27:45.979604",
     "status": "completed"
    },
    "tags": []
   },
   "outputs": [
    {
     "name": "stdout",
     "output_type": "stream",
     "text": [
      " product_name  |  customer_id  \n",
      "\n",
      "------------------------------\n",
      "  Smart Watch  |       1       \n",
      "\n",
      "  Smart Watch  |       1       \n",
      "\n",
      "  Microphone   |       1       \n",
      "\n",
      "  Microphone   |       1       \n",
      "\n",
      "Bluetooth Headphones|       2       \n",
      "\n",
      "Storage Containers|       3       \n",
      "\n",
      "Storage Containers|       3       \n",
      "\n",
      "Cable Organizer|       4       \n",
      "\n",
      "Cable Organizer|       4       \n",
      "\n",
      "Screen Protector|       5       \n",
      "\n",
      "   Bookshelf   |       5       \n",
      "\n",
      "  Smart Watch  |       6       \n",
      "\n",
      "  Smart Watch  |       6       \n",
      "\n",
      "   USB-C Hub   |       6       \n",
      "\n",
      " Throw Pillows |       7       \n",
      "\n",
      " Office Chair  |       7       \n",
      "\n",
      " Office Chair  |       7       \n",
      "\n",
      " Monitor Stand |       8       \n",
      "\n",
      "Screen Protector|       9       \n",
      "\n",
      "Screen Protector|      10       \n",
      "\n"
     ]
    }
   ],
   "source": [
    "sql_select_view = \"\"\"\n",
    "SELECT * \n",
    "FROM customers_products\n",
    "LIMIT 20\n",
    "\"\"\"\n",
    "\n",
    "do_query(sql_select_view)"
   ]
  },
  {
   "cell_type": "markdown",
   "id": "d2bd96c0",
   "metadata": {
    "papermill": {
     "duration": 0.006311,
     "end_time": "2025-03-31T14:27:46.043353",
     "exception": false,
     "start_time": "2025-03-31T14:27:46.037042",
     "status": "completed"
    },
    "tags": []
   },
   "source": [
    "For the recommender we then write a simple function that takes as input a product name and:\n",
    "<ul>\n",
    "    <li>Find the customer ID of all the customers who purchased that product</li>\n",
    "    <li>Select all the product names from these customers (excluded the input) and how many time these name appears</li>\n",
    "    <li>Order the product names by appearances and select the top 3 most popular products.</li>\n",
    "</ul>"
   ]
  },
  {
   "cell_type": "code",
   "execution_count": 14,
   "id": "24fc591c",
   "metadata": {
    "execution": {
     "iopub.execute_input": "2025-03-31T14:27:46.057633Z",
     "iopub.status.busy": "2025-03-31T14:27:46.057180Z",
     "iopub.status.idle": "2025-03-31T14:27:46.137583Z",
     "shell.execute_reply": "2025-03-31T14:27:46.135988Z"
    },
    "papermill": {
     "duration": 0.090021,
     "end_time": "2025-03-31T14:27:46.139824",
     "exception": false,
     "start_time": "2025-03-31T14:27:46.049803",
     "status": "completed"
    },
    "tags": []
   },
   "outputs": [
    {
     "name": "stdout",
     "output_type": "stream",
     "text": [
      "People who purchased smart watch also bought:\n",
      "4K Monitor\n",
      "Wireless Mouse\n",
      "Desk Mat\n"
     ]
    }
   ],
   "source": [
    "def suggest_product(product_name):\n",
    "    sql_find_view = \"\"\"\n",
    "SELECT product_name, COUNT(product_name) AS product_count\n",
    "FROM customers_products\n",
    "WHERE (customer_id IN (SELECT customer_id FROM customers_products WHERE lower(product_name) = ?)) AND (lower(product_name) != ?)\n",
    "GROUP BY product_name\n",
    "ORDER BY product_count DESC\n",
    "LIMIT 3\n",
    "\"\"\"\n",
    "    cur = conn.cursor()\n",
    "    cur.execute(sql_find_view, (product_name.lower(), product_name.lower()))\n",
    "    suggested_products = [row[0] for row in cur.fetchall()]\n",
    "    print(f'People who purchased {product_name} also bought:', *suggested_products, sep='\\n')\n",
    "    cur.close()\n",
    "\n",
    "suggest_product('smart watch')"
   ]
  }
 ],
 "metadata": {
  "kaggle": {
   "accelerator": "none",
   "dataSources": [
    {
     "datasetId": 6254379,
     "sourceId": 10133963,
     "sourceType": "datasetVersion"
    }
   ],
   "dockerImageVersionId": 30918,
   "isGpuEnabled": false,
   "isInternetEnabled": true,
   "language": "python",
   "sourceType": "notebook"
  },
  "kernelspec": {
   "display_name": "Python 3",
   "language": "python",
   "name": "python3"
  },
  "language_info": {
   "codemirror_mode": {
    "name": "ipython",
    "version": 3
   },
   "file_extension": ".py",
   "mimetype": "text/x-python",
   "name": "python",
   "nbconvert_exporter": "python",
   "pygments_lexer": "ipython3",
   "version": "3.10.12"
  },
  "papermill": {
   "default_parameters": {},
   "duration": 6.051705,
   "end_time": "2025-03-31T14:27:46.768983",
   "environment_variables": {},
   "exception": null,
   "input_path": "__notebook__.ipynb",
   "output_path": "__notebook__.ipynb",
   "parameters": {},
   "start_time": "2025-03-31T14:27:40.717278",
   "version": "2.6.0"
  }
 },
 "nbformat": 4,
 "nbformat_minor": 5
}
