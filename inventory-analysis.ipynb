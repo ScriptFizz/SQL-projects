{
 "cells": [
  {
   "cell_type": "code",
   "execution_count": 1,
   "id": "a81a69c3",
   "metadata": {
    "execution": {
     "iopub.execute_input": "2025-07-11T19:57:01.778535Z",
     "iopub.status.busy": "2025-07-11T19:57:01.778201Z",
     "iopub.status.idle": "2025-07-11T19:57:03.623327Z",
     "shell.execute_reply": "2025-07-11T19:57:03.622157Z"
    },
    "papermill": {
     "duration": 1.860386,
     "end_time": "2025-07-11T19:57:03.624824",
     "exception": false,
     "start_time": "2025-07-11T19:57:01.764438",
     "status": "completed"
    },
    "tags": []
   },
   "outputs": [
    {
     "name": "stdout",
     "output_type": "stream",
     "text": [
      "/kaggle/input/inventory-analysis-case-study/InvoicePurchases12312016.csv\n",
      "/kaggle/input/inventory-analysis-case-study/EndInvFINAL12312016.csv\n",
      "/kaggle/input/inventory-analysis-case-study/SalesFINAL12312016.csv\n",
      "/kaggle/input/inventory-analysis-case-study/BegInvFINAL12312016.csv\n",
      "/kaggle/input/inventory-analysis-case-study/2017PurchasePricesDec.csv\n",
      "/kaggle/input/inventory-analysis-case-study/PurchasesFINAL12312016.csv\n"
     ]
    }
   ],
   "source": [
    "import numpy as np # linear algebra\n",
    "import pandas as pd # data processing, CSV file I/O (e.g. pd.read_csv)\n",
    "\n",
    "# Input data files are available in the read-only \"../input/\" directory\n",
    "# For example, running this (by clicking run or pressing Shift+Enter) will list all files under the input directory\n",
    "\n",
    "import os\n",
    "for dirname, _, filenames in os.walk('/kaggle/input'):\n",
    "    for filename in filenames:\n",
    "        print(os.path.join(dirname, filename))"
   ]
  },
  {
   "cell_type": "markdown",
   "id": "d0d7f8b4",
   "metadata": {
    "papermill": {
     "duration": 0.011781,
     "end_time": "2025-07-11T19:57:03.648228",
     "exception": false,
     "start_time": "2025-07-11T19:57:03.636447",
     "status": "completed"
    },
    "tags": []
   },
   "source": [
    "# Inventory Management"
   ]
  },
  {
   "cell_type": "markdown",
   "id": "21d2c688",
   "metadata": {
    "papermill": {
     "duration": 0.010914,
     "end_time": "2025-07-11T19:57:03.670465",
     "exception": false,
     "start_time": "2025-07-11T19:57:03.659551",
     "status": "completed"
    },
    "tags": []
   },
   "source": [
    "An optimal inventory management is a key factor to ensure both profitability and customer satisfaction; this is ensured by:\n",
    "<ul>\n",
    "    <li>Analyzing product sales performance.</li>\n",
    "    <li>Defining the most efficient purchasing strategies.</li>\n",
    "    <li>Minimizing waste by predicting optimal orders values.</li>\n",
    "</ul>\n",
    "Accordingly, this project will be organized in the following sections:\n",
    "<ul>\n",
    "    <li>In <em>Inventory Analysis</em> we take a general look at the data, studying the most/least requested product and the inventory stocks over time.</li>\n",
    "    <li>In <em>Sales Analysis</em> we study the sales volume and its trend.</li>\n",
    "    <li>In <em>Purchase Analysis</em> we take a look at purchases stats and the top vendors.</li>\n",
    "    <li>In <em>Optimal Stock Level</em> we compute the optimal amount of each products to have in stock.</li>\n",
    "    <li>In <em>Optimal Orders Calculation</em> we use the results of the previous section to compute the orders to place.</li>\n",
    "</ul>"
   ]
  },
  {
   "cell_type": "markdown",
   "id": "a554ef38",
   "metadata": {
    "papermill": {
     "duration": 0.010784,
     "end_time": "2025-07-11T19:57:03.692321",
     "exception": false,
     "start_time": "2025-07-11T19:57:03.681537",
     "status": "completed"
    },
    "tags": []
   },
   "source": [
    "# Table of Contents\n",
    "* [Setup](#setup)\n",
    "    * [Loading libraries/useful functions](#code)\n",
    "    * [Data prep](#dataprep)\n",
    "    * [Missing values](#missval)\n",
    "* [Inventory Analysis](#chp1)\n",
    "    * [Inventory Summary - Top 10 stocks](#chp1_1)\n",
    "        * [Beginning of the year](#chp1_1_1)\n",
    "        * [End of the year](#chp1_1_2)\n",
    "    * [Inventory Summary - Bottom 10 stocks](#chp1_2)\n",
    "        * [Beginning of the year](#chp1_2_1)\n",
    "        * [End of the year](#chp1_2_2)\n",
    "    * [Time Stats](#chp1_3)\n",
    "        * [Average Supply Time](#chp1_3_1)\n",
    "        * [Average Payment Time](#chp_1_3_2)\n",
    "* [Sales Analysis](#chp2)\n",
    "    * [Best SellingProducts](#chp2_1)\n",
    "    * [Slow Moving Products](#chp2_2)\n",
    "    * [Sales Trends](#chp2_3)\n",
    "* [Purchase Analysis](#chp3)\n",
    "    * [Top 10 Vendors by Purchase Volume](#chp3_1)\n",
    "    * [Top 10 Vendors by Purchase Cost](#chp3_2)\n",
    "    * [Top 10 Vendors](#chp3_4)\n",
    "* [Optimal Stock Level](#chp4)\n",
    "    * [Sales Velocity](#chp4_1)\n",
    "    * [Special Case: problematic products](#chp4_2)\n",
    "* [Optimal Orders Calculation](#chp5)"
   ]
  },
  {
   "cell_type": "markdown",
   "id": "c1b4a4bf",
   "metadata": {
    "papermill": {
     "duration": 0.010569,
     "end_time": "2025-07-11T19:57:03.713912",
     "exception": false,
     "start_time": "2025-07-11T19:57:03.703343",
     "status": "completed"
    },
    "tags": []
   },
   "source": [
    "## Setup <a name=\"setup\"></a>"
   ]
  },
  {
   "cell_type": "markdown",
   "id": "02fd4385",
   "metadata": {
    "papermill": {
     "duration": 0.010734,
     "end_time": "2025-07-11T19:57:03.735765",
     "exception": false,
     "start_time": "2025-07-11T19:57:03.725031",
     "status": "completed"
    },
    "tags": []
   },
   "source": [
    "### Loading libraries/useful functions <a name=\"code\"></a>"
   ]
  },
  {
   "cell_type": "code",
   "execution_count": 2,
   "id": "4afbfc85",
   "metadata": {
    "execution": {
     "iopub.execute_input": "2025-07-11T19:57:03.759133Z",
     "iopub.status.busy": "2025-07-11T19:57:03.758750Z",
     "iopub.status.idle": "2025-07-11T19:57:05.623041Z",
     "shell.execute_reply": "2025-07-11T19:57:05.622044Z"
    },
    "papermill": {
     "duration": 1.878157,
     "end_time": "2025-07-11T19:57:05.624912",
     "exception": false,
     "start_time": "2025-07-11T19:57:03.746755",
     "status": "completed"
    },
    "tags": []
   },
   "outputs": [],
   "source": [
    "import matplotlib.pyplot as plt\n",
    "import seaborn as sns\n",
    "from IPython.display import display\n",
    "\n",
    "import sqlite3"
   ]
  },
  {
   "cell_type": "code",
   "execution_count": 3,
   "id": "4f547f2f",
   "metadata": {
    "execution": {
     "iopub.execute_input": "2025-07-11T19:57:05.650276Z",
     "iopub.status.busy": "2025-07-11T19:57:05.649784Z",
     "iopub.status.idle": "2025-07-11T19:57:05.660479Z",
     "shell.execute_reply": "2025-07-11T19:57:05.659699Z"
    },
    "papermill": {
     "duration": 0.024823,
     "end_time": "2025-07-11T19:57:05.661808",
     "exception": false,
     "start_time": "2025-07-11T19:57:05.636985",
     "status": "completed"
    },
    "tags": []
   },
   "outputs": [],
   "source": [
    "def format_value(data, width: int, dec: str = ' ', end: str = '\\n'):\n",
    "    \"\"\"\n",
    "    Print text centered in a space of defined width.\n",
    "    Args:\n",
    "    data: the value to print\n",
    "    width: the width of the full text to print.\n",
    "    dec: a filler character to print in the eventual empty padding.\n",
    "    end: a character at the end of the text.\n",
    "    \"\"\"\n",
    "    text = str(data)\n",
    "    if len(text) > width:\n",
    "        text = text[:width]\n",
    "    print(text.center(width, dec), end = end)\n",
    "\n",
    "def title(text: str, dec: str = '*', width: int = 130):\n",
    "    text = (' ' + text + ' ').upper()\n",
    "    format_value(data = text, width = width, dec = dec)\n",
    "    \n",
    "def format_table(rows_data, headers, max_rows: int = 10, max_cols: int = 10, sep: str = '|', col_width: int = 15):\n",
    "    \"\"\"\n",
    "    Print tabular data (i.e. the result of a SELECT query) to screen.\n",
    "    Args:\n",
    "    rows_data: iterable of data in the table\n",
    "    headers: iterable with the names of the table columns\n",
    "    max_rows: maximum number to rows to display.\n",
    "    max_cols: maximum number to columns to display.\n",
    "    sep: character used to separate columns.\n",
    "    col_width: the number of character a column is wide.\n",
    "    \"\"\"\n",
    "    rows_num = min(len(rows_data), max_rows)\n",
    "    cols_num = min(len(headers), max_cols)\n",
    "    for value in headers[:cols_num]:\n",
    "        format_value(value, col_width, end = '|')\n",
    "    print('\\n', col_width * cols_num * '-', '\\n')\n",
    "    for i in range(rows_num):\n",
    "        for value in rows_data[i][:cols_num]:\n",
    "            format_value(value, col_width, end = '|')\n",
    "        print('\\n')\n",
    "\n",
    "def get_query(query: str, conn):\n",
    "    \"\"\"\n",
    "    Execute an SQL query and return the resulting data.\n",
    "    Args:\n",
    "    query: the query to use.\n",
    "    conn: a connection to the database to query.\n",
    "    Output:\n",
    "    A tuple with the name of the table columns and the list with data values.\n",
    "    \"\"\"\n",
    "    cur = conn.cursor()\n",
    "    try:\n",
    "        cur.execute(query)\n",
    "        rows = cur.fetchall()\n",
    "        cnames = list(map(lambda x: x[0], cur.description))\n",
    "        return (cnames, rows)\n",
    "    except Exception as e:\n",
    "        print('Unable to query the database due to the following error: ', e)\n",
    "    finally:\n",
    "        cur.close()\n",
    "\n",
    "def print_query(query: str, conn, max_rows: int = 10):\n",
    "    \"\"\"\n",
    "    Print the results of an SQL query to screen.\n",
    "    Args:\n",
    "    query: the query to use.\n",
    "    conn: a connection to the database to query.\n",
    "    max_rows: the maximum number of rows to display.\n",
    "    \"\"\"\n",
    "    cnames, rows = get_query(query = query, conn = conn)\n",
    "    format_table(rows_data = rows, headers = cnames, max_rows = max_rows)\n"
   ]
  },
  {
   "cell_type": "markdown",
   "id": "55e92272",
   "metadata": {
    "papermill": {
     "duration": 0.011302,
     "end_time": "2025-07-11T19:57:05.684613",
     "exception": false,
     "start_time": "2025-07-11T19:57:05.673311",
     "status": "completed"
    },
    "tags": []
   },
   "source": [
    "### Data prep <a name=\"dataprep\"></a> "
   ]
  },
  {
   "cell_type": "code",
   "execution_count": 4,
   "id": "c96b2e4a",
   "metadata": {
    "execution": {
     "iopub.execute_input": "2025-07-11T19:57:05.708129Z",
     "iopub.status.busy": "2025-07-11T19:57:05.707827Z",
     "iopub.status.idle": "2025-07-11T19:57:19.658799Z",
     "shell.execute_reply": "2025-07-11T19:57:19.658083Z"
    },
    "papermill": {
     "duration": 13.964706,
     "end_time": "2025-07-11T19:57:19.660426",
     "exception": false,
     "start_time": "2025-07-11T19:57:05.695720",
     "status": "completed"
    },
    "tags": []
   },
   "outputs": [],
   "source": [
    "purch_prices_dec_2017 = pd.read_csv('/kaggle/input/inventory-analysis-case-study/2017PurchasePricesDec.csv')\n",
    "beg_inv_final_2016 = pd.read_csv('/kaggle/input/inventory-analysis-case-study/BegInvFINAL12312016.csv')\n",
    "end_inv_final_2016 = pd.read_csv('/kaggle/input/inventory-analysis-case-study/EndInvFINAL12312016.csv')\n",
    "inv_purch_2016 = pd.read_csv('/kaggle/input/inventory-analysis-case-study/InvoicePurchases12312016.csv')\n",
    "purch_final_2016 = pd.read_csv('/kaggle/input/inventory-analysis-case-study/PurchasesFINAL12312016.csv')\n",
    "sales_final_2016 = pd.read_csv('/kaggle/input/inventory-analysis-case-study/SalesFINAL12312016.csv')\n",
    "\n",
    "df_list = [\n",
    "purch_prices_dec_2017,\n",
    "beg_inv_final_2016,\n",
    "end_inv_final_2016,\n",
    "inv_purch_2016,\n",
    "purch_final_2016,\n",
    "sales_final_2016\n",
    "]"
   ]
  },
  {
   "cell_type": "markdown",
   "id": "489c36f2",
   "metadata": {
    "papermill": {
     "duration": 0.010871,
     "end_time": "2025-07-11T19:57:19.682779",
     "exception": false,
     "start_time": "2025-07-11T19:57:19.671908",
     "status": "completed"
    },
    "tags": []
   },
   "source": [
    "Let's take a look at the data:"
   ]
  },
  {
   "cell_type": "code",
   "execution_count": 5,
   "id": "06ac6287",
   "metadata": {
    "execution": {
     "iopub.execute_input": "2025-07-11T19:57:19.706805Z",
     "iopub.status.busy": "2025-07-11T19:57:19.705874Z",
     "iopub.status.idle": "2025-07-11T19:57:19.772529Z",
     "shell.execute_reply": "2025-07-11T19:57:19.771707Z"
    },
    "papermill": {
     "duration": 0.07986,
     "end_time": "2025-07-11T19:57:19.773795",
     "exception": false,
     "start_time": "2025-07-11T19:57:19.693935",
     "status": "completed"
    },
    "tags": []
   },
   "outputs": [
    {
     "name": "stdout",
     "output_type": "stream",
     "text": [
      "***************************************************** PURCH_PRICES_DEC_2017 ******************************************************\n"
     ]
    },
    {
     "data": {
      "text/html": [
       "<div>\n",
       "<style scoped>\n",
       "    .dataframe tbody tr th:only-of-type {\n",
       "        vertical-align: middle;\n",
       "    }\n",
       "\n",
       "    .dataframe tbody tr th {\n",
       "        vertical-align: top;\n",
       "    }\n",
       "\n",
       "    .dataframe thead th {\n",
       "        text-align: right;\n",
       "    }\n",
       "</style>\n",
       "<table border=\"1\" class=\"dataframe\">\n",
       "  <thead>\n",
       "    <tr style=\"text-align: right;\">\n",
       "      <th></th>\n",
       "      <th>Brand</th>\n",
       "      <th>Description</th>\n",
       "      <th>Price</th>\n",
       "      <th>Size</th>\n",
       "      <th>Volume</th>\n",
       "      <th>Classification</th>\n",
       "      <th>PurchasePrice</th>\n",
       "      <th>VendorNumber</th>\n",
       "      <th>VendorName</th>\n",
       "    </tr>\n",
       "  </thead>\n",
       "  <tbody>\n",
       "    <tr>\n",
       "      <th>0</th>\n",
       "      <td>58</td>\n",
       "      <td>Gekkeikan Black &amp; Gold Sake</td>\n",
       "      <td>12.99</td>\n",
       "      <td>750mL</td>\n",
       "      <td>750</td>\n",
       "      <td>1</td>\n",
       "      <td>9.28</td>\n",
       "      <td>8320</td>\n",
       "      <td>SHAW ROSS INT L IMP LTD</td>\n",
       "    </tr>\n",
       "    <tr>\n",
       "      <th>1</th>\n",
       "      <td>62</td>\n",
       "      <td>Herradura Silver Tequila</td>\n",
       "      <td>36.99</td>\n",
       "      <td>750mL</td>\n",
       "      <td>750</td>\n",
       "      <td>1</td>\n",
       "      <td>28.67</td>\n",
       "      <td>1128</td>\n",
       "      <td>BROWN-FORMAN CORP</td>\n",
       "    </tr>\n",
       "    <tr>\n",
       "      <th>2</th>\n",
       "      <td>63</td>\n",
       "      <td>Herradura Reposado Tequila</td>\n",
       "      <td>38.99</td>\n",
       "      <td>750mL</td>\n",
       "      <td>750</td>\n",
       "      <td>1</td>\n",
       "      <td>30.46</td>\n",
       "      <td>1128</td>\n",
       "      <td>BROWN-FORMAN CORP</td>\n",
       "    </tr>\n",
       "  </tbody>\n",
       "</table>\n",
       "</div>"
      ],
      "text/plain": [
       "   Brand                  Description  Price   Size Volume  Classification  \\\n",
       "0     58  Gekkeikan Black & Gold Sake  12.99  750mL    750               1   \n",
       "1     62     Herradura Silver Tequila  36.99  750mL    750               1   \n",
       "2     63   Herradura Reposado Tequila  38.99  750mL    750               1   \n",
       "\n",
       "   PurchasePrice  VendorNumber                   VendorName  \n",
       "0           9.28          8320  SHAW ROSS INT L IMP LTD      \n",
       "1          28.67          1128  BROWN-FORMAN CORP            \n",
       "2          30.46          1128  BROWN-FORMAN CORP            "
      ]
     },
     "metadata": {},
     "output_type": "display_data"
    },
    {
     "name": "stdout",
     "output_type": "stream",
     "text": [
      "******************************************************* BEG_INV_FINAL_2016 *******************************************************\n"
     ]
    },
    {
     "data": {
      "text/html": [
       "<div>\n",
       "<style scoped>\n",
       "    .dataframe tbody tr th:only-of-type {\n",
       "        vertical-align: middle;\n",
       "    }\n",
       "\n",
       "    .dataframe tbody tr th {\n",
       "        vertical-align: top;\n",
       "    }\n",
       "\n",
       "    .dataframe thead th {\n",
       "        text-align: right;\n",
       "    }\n",
       "</style>\n",
       "<table border=\"1\" class=\"dataframe\">\n",
       "  <thead>\n",
       "    <tr style=\"text-align: right;\">\n",
       "      <th></th>\n",
       "      <th>InventoryId</th>\n",
       "      <th>Store</th>\n",
       "      <th>City</th>\n",
       "      <th>Brand</th>\n",
       "      <th>Description</th>\n",
       "      <th>Size</th>\n",
       "      <th>onHand</th>\n",
       "      <th>Price</th>\n",
       "      <th>startDate</th>\n",
       "    </tr>\n",
       "  </thead>\n",
       "  <tbody>\n",
       "    <tr>\n",
       "      <th>0</th>\n",
       "      <td>1_HARDERSFIELD_58</td>\n",
       "      <td>1</td>\n",
       "      <td>HARDERSFIELD</td>\n",
       "      <td>58</td>\n",
       "      <td>Gekkeikan Black &amp; Gold Sake</td>\n",
       "      <td>750mL</td>\n",
       "      <td>8</td>\n",
       "      <td>12.99</td>\n",
       "      <td>2016-01-01</td>\n",
       "    </tr>\n",
       "    <tr>\n",
       "      <th>1</th>\n",
       "      <td>1_HARDERSFIELD_60</td>\n",
       "      <td>1</td>\n",
       "      <td>HARDERSFIELD</td>\n",
       "      <td>60</td>\n",
       "      <td>Canadian Club 1858 VAP</td>\n",
       "      <td>750mL</td>\n",
       "      <td>7</td>\n",
       "      <td>10.99</td>\n",
       "      <td>2016-01-01</td>\n",
       "    </tr>\n",
       "    <tr>\n",
       "      <th>2</th>\n",
       "      <td>1_HARDERSFIELD_62</td>\n",
       "      <td>1</td>\n",
       "      <td>HARDERSFIELD</td>\n",
       "      <td>62</td>\n",
       "      <td>Herradura Silver Tequila</td>\n",
       "      <td>750mL</td>\n",
       "      <td>6</td>\n",
       "      <td>36.99</td>\n",
       "      <td>2016-01-01</td>\n",
       "    </tr>\n",
       "  </tbody>\n",
       "</table>\n",
       "</div>"
      ],
      "text/plain": [
       "         InventoryId  Store          City  Brand                  Description  \\\n",
       "0  1_HARDERSFIELD_58      1  HARDERSFIELD     58  Gekkeikan Black & Gold Sake   \n",
       "1  1_HARDERSFIELD_60      1  HARDERSFIELD     60       Canadian Club 1858 VAP   \n",
       "2  1_HARDERSFIELD_62      1  HARDERSFIELD     62     Herradura Silver Tequila   \n",
       "\n",
       "    Size  onHand  Price   startDate  \n",
       "0  750mL       8  12.99  2016-01-01  \n",
       "1  750mL       7  10.99  2016-01-01  \n",
       "2  750mL       6  36.99  2016-01-01  "
      ]
     },
     "metadata": {},
     "output_type": "display_data"
    },
    {
     "name": "stdout",
     "output_type": "stream",
     "text": [
      "******************************************************* END_INV_FINAL_2016 *******************************************************\n"
     ]
    },
    {
     "data": {
      "text/html": [
       "<div>\n",
       "<style scoped>\n",
       "    .dataframe tbody tr th:only-of-type {\n",
       "        vertical-align: middle;\n",
       "    }\n",
       "\n",
       "    .dataframe tbody tr th {\n",
       "        vertical-align: top;\n",
       "    }\n",
       "\n",
       "    .dataframe thead th {\n",
       "        text-align: right;\n",
       "    }\n",
       "</style>\n",
       "<table border=\"1\" class=\"dataframe\">\n",
       "  <thead>\n",
       "    <tr style=\"text-align: right;\">\n",
       "      <th></th>\n",
       "      <th>InventoryId</th>\n",
       "      <th>Store</th>\n",
       "      <th>City</th>\n",
       "      <th>Brand</th>\n",
       "      <th>Description</th>\n",
       "      <th>Size</th>\n",
       "      <th>onHand</th>\n",
       "      <th>Price</th>\n",
       "      <th>endDate</th>\n",
       "    </tr>\n",
       "  </thead>\n",
       "  <tbody>\n",
       "    <tr>\n",
       "      <th>0</th>\n",
       "      <td>1_HARDERSFIELD_58</td>\n",
       "      <td>1</td>\n",
       "      <td>HARDERSFIELD</td>\n",
       "      <td>58</td>\n",
       "      <td>Gekkeikan Black &amp; Gold Sake</td>\n",
       "      <td>750mL</td>\n",
       "      <td>11</td>\n",
       "      <td>12.99</td>\n",
       "      <td>2016-12-31</td>\n",
       "    </tr>\n",
       "    <tr>\n",
       "      <th>1</th>\n",
       "      <td>1_HARDERSFIELD_62</td>\n",
       "      <td>1</td>\n",
       "      <td>HARDERSFIELD</td>\n",
       "      <td>62</td>\n",
       "      <td>Herradura Silver Tequila</td>\n",
       "      <td>750mL</td>\n",
       "      <td>7</td>\n",
       "      <td>36.99</td>\n",
       "      <td>2016-12-31</td>\n",
       "    </tr>\n",
       "    <tr>\n",
       "      <th>2</th>\n",
       "      <td>1_HARDERSFIELD_63</td>\n",
       "      <td>1</td>\n",
       "      <td>HARDERSFIELD</td>\n",
       "      <td>63</td>\n",
       "      <td>Herradura Reposado Tequila</td>\n",
       "      <td>750mL</td>\n",
       "      <td>7</td>\n",
       "      <td>38.99</td>\n",
       "      <td>2016-12-31</td>\n",
       "    </tr>\n",
       "  </tbody>\n",
       "</table>\n",
       "</div>"
      ],
      "text/plain": [
       "         InventoryId  Store          City  Brand                  Description  \\\n",
       "0  1_HARDERSFIELD_58      1  HARDERSFIELD     58  Gekkeikan Black & Gold Sake   \n",
       "1  1_HARDERSFIELD_62      1  HARDERSFIELD     62     Herradura Silver Tequila   \n",
       "2  1_HARDERSFIELD_63      1  HARDERSFIELD     63   Herradura Reposado Tequila   \n",
       "\n",
       "    Size  onHand  Price     endDate  \n",
       "0  750mL      11  12.99  2016-12-31  \n",
       "1  750mL       7  36.99  2016-12-31  \n",
       "2  750mL       7  38.99  2016-12-31  "
      ]
     },
     "metadata": {},
     "output_type": "display_data"
    },
    {
     "name": "stdout",
     "output_type": "stream",
     "text": [
      "********************************************************* INV_PURCH_2016 *********************************************************\n"
     ]
    },
    {
     "data": {
      "text/html": [
       "<div>\n",
       "<style scoped>\n",
       "    .dataframe tbody tr th:only-of-type {\n",
       "        vertical-align: middle;\n",
       "    }\n",
       "\n",
       "    .dataframe tbody tr th {\n",
       "        vertical-align: top;\n",
       "    }\n",
       "\n",
       "    .dataframe thead th {\n",
       "        text-align: right;\n",
       "    }\n",
       "</style>\n",
       "<table border=\"1\" class=\"dataframe\">\n",
       "  <thead>\n",
       "    <tr style=\"text-align: right;\">\n",
       "      <th></th>\n",
       "      <th>VendorNumber</th>\n",
       "      <th>VendorName</th>\n",
       "      <th>InvoiceDate</th>\n",
       "      <th>PONumber</th>\n",
       "      <th>PODate</th>\n",
       "      <th>PayDate</th>\n",
       "      <th>Quantity</th>\n",
       "      <th>Dollars</th>\n",
       "      <th>Freight</th>\n",
       "      <th>Approval</th>\n",
       "    </tr>\n",
       "  </thead>\n",
       "  <tbody>\n",
       "    <tr>\n",
       "      <th>0</th>\n",
       "      <td>105</td>\n",
       "      <td>ALTAMAR BRANDS LLC</td>\n",
       "      <td>2016-01-04</td>\n",
       "      <td>8124</td>\n",
       "      <td>2015-12-21</td>\n",
       "      <td>2016-02-16</td>\n",
       "      <td>6</td>\n",
       "      <td>214.26</td>\n",
       "      <td>3.47</td>\n",
       "      <td>NaN</td>\n",
       "    </tr>\n",
       "    <tr>\n",
       "      <th>1</th>\n",
       "      <td>4466</td>\n",
       "      <td>AMERICAN VINTAGE BEVERAGE</td>\n",
       "      <td>2016-01-07</td>\n",
       "      <td>8137</td>\n",
       "      <td>2015-12-22</td>\n",
       "      <td>2016-02-21</td>\n",
       "      <td>15</td>\n",
       "      <td>140.55</td>\n",
       "      <td>8.57</td>\n",
       "      <td>NaN</td>\n",
       "    </tr>\n",
       "    <tr>\n",
       "      <th>2</th>\n",
       "      <td>388</td>\n",
       "      <td>ATLANTIC IMPORTING COMPANY</td>\n",
       "      <td>2016-01-09</td>\n",
       "      <td>8169</td>\n",
       "      <td>2015-12-24</td>\n",
       "      <td>2016-02-16</td>\n",
       "      <td>5</td>\n",
       "      <td>106.60</td>\n",
       "      <td>4.61</td>\n",
       "      <td>NaN</td>\n",
       "    </tr>\n",
       "  </tbody>\n",
       "</table>\n",
       "</div>"
      ],
      "text/plain": [
       "   VendorNumber                   VendorName InvoiceDate  PONumber  \\\n",
       "0           105  ALTAMAR BRANDS LLC           2016-01-04      8124   \n",
       "1          4466  AMERICAN VINTAGE BEVERAGE    2016-01-07      8137   \n",
       "2           388  ATLANTIC IMPORTING COMPANY   2016-01-09      8169   \n",
       "\n",
       "       PODate     PayDate  Quantity  Dollars  Freight Approval  \n",
       "0  2015-12-21  2016-02-16         6   214.26     3.47      NaN  \n",
       "1  2015-12-22  2016-02-21        15   140.55     8.57      NaN  \n",
       "2  2015-12-24  2016-02-16         5   106.60     4.61      NaN  "
      ]
     },
     "metadata": {},
     "output_type": "display_data"
    },
    {
     "name": "stdout",
     "output_type": "stream",
     "text": [
      "******************************************************** PURCH_FINAL_2016 ********************************************************\n"
     ]
    },
    {
     "data": {
      "text/html": [
       "<div>\n",
       "<style scoped>\n",
       "    .dataframe tbody tr th:only-of-type {\n",
       "        vertical-align: middle;\n",
       "    }\n",
       "\n",
       "    .dataframe tbody tr th {\n",
       "        vertical-align: top;\n",
       "    }\n",
       "\n",
       "    .dataframe thead th {\n",
       "        text-align: right;\n",
       "    }\n",
       "</style>\n",
       "<table border=\"1\" class=\"dataframe\">\n",
       "  <thead>\n",
       "    <tr style=\"text-align: right;\">\n",
       "      <th></th>\n",
       "      <th>InventoryId</th>\n",
       "      <th>Store</th>\n",
       "      <th>Brand</th>\n",
       "      <th>Description</th>\n",
       "      <th>Size</th>\n",
       "      <th>VendorNumber</th>\n",
       "      <th>VendorName</th>\n",
       "      <th>PONumber</th>\n",
       "      <th>PODate</th>\n",
       "      <th>ReceivingDate</th>\n",
       "      <th>InvoiceDate</th>\n",
       "      <th>PayDate</th>\n",
       "      <th>PurchasePrice</th>\n",
       "      <th>Quantity</th>\n",
       "      <th>Dollars</th>\n",
       "      <th>Classification</th>\n",
       "    </tr>\n",
       "  </thead>\n",
       "  <tbody>\n",
       "    <tr>\n",
       "      <th>0</th>\n",
       "      <td>69_MOUNTMEND_8412</td>\n",
       "      <td>69</td>\n",
       "      <td>8412</td>\n",
       "      <td>Tequila Ocho Plata Fresno</td>\n",
       "      <td>750mL</td>\n",
       "      <td>105</td>\n",
       "      <td>ALTAMAR BRANDS LLC</td>\n",
       "      <td>8124</td>\n",
       "      <td>2015-12-21</td>\n",
       "      <td>2016-01-02</td>\n",
       "      <td>2016-01-04</td>\n",
       "      <td>2016-02-16</td>\n",
       "      <td>35.71</td>\n",
       "      <td>6</td>\n",
       "      <td>214.26</td>\n",
       "      <td>1</td>\n",
       "    </tr>\n",
       "    <tr>\n",
       "      <th>1</th>\n",
       "      <td>30_CULCHETH_5255</td>\n",
       "      <td>30</td>\n",
       "      <td>5255</td>\n",
       "      <td>TGI Fridays Ultimte Mudslide</td>\n",
       "      <td>1.75L</td>\n",
       "      <td>4466</td>\n",
       "      <td>AMERICAN VINTAGE BEVERAGE</td>\n",
       "      <td>8137</td>\n",
       "      <td>2015-12-22</td>\n",
       "      <td>2016-01-01</td>\n",
       "      <td>2016-01-07</td>\n",
       "      <td>2016-02-21</td>\n",
       "      <td>9.35</td>\n",
       "      <td>4</td>\n",
       "      <td>37.40</td>\n",
       "      <td>1</td>\n",
       "    </tr>\n",
       "    <tr>\n",
       "      <th>2</th>\n",
       "      <td>34_PITMERDEN_5215</td>\n",
       "      <td>34</td>\n",
       "      <td>5215</td>\n",
       "      <td>TGI Fridays Long Island Iced</td>\n",
       "      <td>1.75L</td>\n",
       "      <td>4466</td>\n",
       "      <td>AMERICAN VINTAGE BEVERAGE</td>\n",
       "      <td>8137</td>\n",
       "      <td>2015-12-22</td>\n",
       "      <td>2016-01-02</td>\n",
       "      <td>2016-01-07</td>\n",
       "      <td>2016-02-21</td>\n",
       "      <td>9.41</td>\n",
       "      <td>5</td>\n",
       "      <td>47.05</td>\n",
       "      <td>1</td>\n",
       "    </tr>\n",
       "  </tbody>\n",
       "</table>\n",
       "</div>"
      ],
      "text/plain": [
       "         InventoryId  Store  Brand                   Description   Size  \\\n",
       "0  69_MOUNTMEND_8412     69   8412     Tequila Ocho Plata Fresno  750mL   \n",
       "1   30_CULCHETH_5255     30   5255  TGI Fridays Ultimte Mudslide  1.75L   \n",
       "2  34_PITMERDEN_5215     34   5215  TGI Fridays Long Island Iced  1.75L   \n",
       "\n",
       "   VendorNumber                   VendorName  PONumber      PODate  \\\n",
       "0           105  ALTAMAR BRANDS LLC               8124  2015-12-21   \n",
       "1          4466  AMERICAN VINTAGE BEVERAGE        8137  2015-12-22   \n",
       "2          4466  AMERICAN VINTAGE BEVERAGE        8137  2015-12-22   \n",
       "\n",
       "  ReceivingDate InvoiceDate     PayDate  PurchasePrice  Quantity  Dollars  \\\n",
       "0    2016-01-02  2016-01-04  2016-02-16          35.71         6   214.26   \n",
       "1    2016-01-01  2016-01-07  2016-02-21           9.35         4    37.40   \n",
       "2    2016-01-02  2016-01-07  2016-02-21           9.41         5    47.05   \n",
       "\n",
       "   Classification  \n",
       "0               1  \n",
       "1               1  \n",
       "2               1  "
      ]
     },
     "metadata": {},
     "output_type": "display_data"
    },
    {
     "name": "stdout",
     "output_type": "stream",
     "text": [
      "******************************************************** SALES_FINAL_2016 ********************************************************\n"
     ]
    },
    {
     "data": {
      "text/html": [
       "<div>\n",
       "<style scoped>\n",
       "    .dataframe tbody tr th:only-of-type {\n",
       "        vertical-align: middle;\n",
       "    }\n",
       "\n",
       "    .dataframe tbody tr th {\n",
       "        vertical-align: top;\n",
       "    }\n",
       "\n",
       "    .dataframe thead th {\n",
       "        text-align: right;\n",
       "    }\n",
       "</style>\n",
       "<table border=\"1\" class=\"dataframe\">\n",
       "  <thead>\n",
       "    <tr style=\"text-align: right;\">\n",
       "      <th></th>\n",
       "      <th>InventoryId</th>\n",
       "      <th>Store</th>\n",
       "      <th>Brand</th>\n",
       "      <th>Description</th>\n",
       "      <th>Size</th>\n",
       "      <th>SalesQuantity</th>\n",
       "      <th>SalesDollars</th>\n",
       "      <th>SalesPrice</th>\n",
       "      <th>SalesDate</th>\n",
       "      <th>Volume</th>\n",
       "      <th>Classification</th>\n",
       "      <th>ExciseTax</th>\n",
       "      <th>VendorNo</th>\n",
       "      <th>VendorName</th>\n",
       "    </tr>\n",
       "  </thead>\n",
       "  <tbody>\n",
       "    <tr>\n",
       "      <th>0</th>\n",
       "      <td>1_HARDERSFIELD_1004</td>\n",
       "      <td>1</td>\n",
       "      <td>1004</td>\n",
       "      <td>Jim Beam w/2 Rocks Glasses</td>\n",
       "      <td>750mL</td>\n",
       "      <td>1</td>\n",
       "      <td>16.49</td>\n",
       "      <td>16.49</td>\n",
       "      <td>1/1/2016</td>\n",
       "      <td>750</td>\n",
       "      <td>1</td>\n",
       "      <td>0.79</td>\n",
       "      <td>12546</td>\n",
       "      <td>JIM BEAM BRANDS COMPANY</td>\n",
       "    </tr>\n",
       "    <tr>\n",
       "      <th>1</th>\n",
       "      <td>1_HARDERSFIELD_1004</td>\n",
       "      <td>1</td>\n",
       "      <td>1004</td>\n",
       "      <td>Jim Beam w/2 Rocks Glasses</td>\n",
       "      <td>750mL</td>\n",
       "      <td>2</td>\n",
       "      <td>32.98</td>\n",
       "      <td>16.49</td>\n",
       "      <td>1/2/2016</td>\n",
       "      <td>750</td>\n",
       "      <td>1</td>\n",
       "      <td>1.57</td>\n",
       "      <td>12546</td>\n",
       "      <td>JIM BEAM BRANDS COMPANY</td>\n",
       "    </tr>\n",
       "    <tr>\n",
       "      <th>2</th>\n",
       "      <td>1_HARDERSFIELD_1004</td>\n",
       "      <td>1</td>\n",
       "      <td>1004</td>\n",
       "      <td>Jim Beam w/2 Rocks Glasses</td>\n",
       "      <td>750mL</td>\n",
       "      <td>1</td>\n",
       "      <td>16.49</td>\n",
       "      <td>16.49</td>\n",
       "      <td>1/3/2016</td>\n",
       "      <td>750</td>\n",
       "      <td>1</td>\n",
       "      <td>0.79</td>\n",
       "      <td>12546</td>\n",
       "      <td>JIM BEAM BRANDS COMPANY</td>\n",
       "    </tr>\n",
       "  </tbody>\n",
       "</table>\n",
       "</div>"
      ],
      "text/plain": [
       "           InventoryId  Store  Brand                 Description   Size  \\\n",
       "0  1_HARDERSFIELD_1004      1   1004  Jim Beam w/2 Rocks Glasses  750mL   \n",
       "1  1_HARDERSFIELD_1004      1   1004  Jim Beam w/2 Rocks Glasses  750mL   \n",
       "2  1_HARDERSFIELD_1004      1   1004  Jim Beam w/2 Rocks Glasses  750mL   \n",
       "\n",
       "   SalesQuantity  SalesDollars  SalesPrice SalesDate  Volume  Classification  \\\n",
       "0              1         16.49       16.49  1/1/2016     750               1   \n",
       "1              2         32.98       16.49  1/2/2016     750               1   \n",
       "2              1         16.49       16.49  1/3/2016     750               1   \n",
       "\n",
       "   ExciseTax  VendorNo                   VendorName  \n",
       "0       0.79     12546  JIM BEAM BRANDS COMPANY      \n",
       "1       1.57     12546  JIM BEAM BRANDS COMPANY      \n",
       "2       0.79     12546  JIM BEAM BRANDS COMPANY      "
      ]
     },
     "metadata": {},
     "output_type": "display_data"
    }
   ],
   "source": [
    "for df in df_list:\n",
    "    df_name = [x for x in globals() if globals()[x] is df][0]\n",
    "    title(df_name)\n",
    "    display(df.head(3))"
   ]
  },
  {
   "cell_type": "markdown",
   "id": "47a9ad2f",
   "metadata": {
    "papermill": {
     "duration": 0.012248,
     "end_time": "2025-07-11T19:57:19.860664",
     "exception": false,
     "start_time": "2025-07-11T19:57:19.848416",
     "status": "completed"
    },
    "tags": []
   },
   "source": [
    "We observe that sales_final_2016 has a date format different form the other tables, so we change it accordingly to be recognized by SQLite:"
   ]
  },
  {
   "cell_type": "code",
   "execution_count": 6,
   "id": "89d8aa52",
   "metadata": {
    "execution": {
     "iopub.execute_input": "2025-07-11T19:57:19.886639Z",
     "iopub.status.busy": "2025-07-11T19:57:19.886337Z",
     "iopub.status.idle": "2025-07-11T19:57:20.644107Z",
     "shell.execute_reply": "2025-07-11T19:57:20.643223Z"
    },
    "papermill": {
     "duration": 0.772734,
     "end_time": "2025-07-11T19:57:20.645693",
     "exception": false,
     "start_time": "2025-07-11T19:57:19.872959",
     "status": "completed"
    },
    "tags": []
   },
   "outputs": [
    {
     "data": {
      "text/html": [
       "<div>\n",
       "<style scoped>\n",
       "    .dataframe tbody tr th:only-of-type {\n",
       "        vertical-align: middle;\n",
       "    }\n",
       "\n",
       "    .dataframe tbody tr th {\n",
       "        vertical-align: top;\n",
       "    }\n",
       "\n",
       "    .dataframe thead th {\n",
       "        text-align: right;\n",
       "    }\n",
       "</style>\n",
       "<table border=\"1\" class=\"dataframe\">\n",
       "  <thead>\n",
       "    <tr style=\"text-align: right;\">\n",
       "      <th></th>\n",
       "      <th>InventoryId</th>\n",
       "      <th>Store</th>\n",
       "      <th>Brand</th>\n",
       "      <th>Description</th>\n",
       "      <th>Size</th>\n",
       "      <th>SalesQuantity</th>\n",
       "      <th>SalesDollars</th>\n",
       "      <th>SalesPrice</th>\n",
       "      <th>SalesDate</th>\n",
       "      <th>Volume</th>\n",
       "      <th>Classification</th>\n",
       "      <th>ExciseTax</th>\n",
       "      <th>VendorNo</th>\n",
       "      <th>VendorName</th>\n",
       "    </tr>\n",
       "  </thead>\n",
       "  <tbody>\n",
       "    <tr>\n",
       "      <th>0</th>\n",
       "      <td>1_HARDERSFIELD_1004</td>\n",
       "      <td>1</td>\n",
       "      <td>1004</td>\n",
       "      <td>Jim Beam w/2 Rocks Glasses</td>\n",
       "      <td>750mL</td>\n",
       "      <td>1</td>\n",
       "      <td>16.49</td>\n",
       "      <td>16.49</td>\n",
       "      <td>2016-01-01</td>\n",
       "      <td>750</td>\n",
       "      <td>1</td>\n",
       "      <td>0.79</td>\n",
       "      <td>12546</td>\n",
       "      <td>JIM BEAM BRANDS COMPANY</td>\n",
       "    </tr>\n",
       "    <tr>\n",
       "      <th>1</th>\n",
       "      <td>1_HARDERSFIELD_1004</td>\n",
       "      <td>1</td>\n",
       "      <td>1004</td>\n",
       "      <td>Jim Beam w/2 Rocks Glasses</td>\n",
       "      <td>750mL</td>\n",
       "      <td>2</td>\n",
       "      <td>32.98</td>\n",
       "      <td>16.49</td>\n",
       "      <td>2016-01-02</td>\n",
       "      <td>750</td>\n",
       "      <td>1</td>\n",
       "      <td>1.57</td>\n",
       "      <td>12546</td>\n",
       "      <td>JIM BEAM BRANDS COMPANY</td>\n",
       "    </tr>\n",
       "    <tr>\n",
       "      <th>2</th>\n",
       "      <td>1_HARDERSFIELD_1004</td>\n",
       "      <td>1</td>\n",
       "      <td>1004</td>\n",
       "      <td>Jim Beam w/2 Rocks Glasses</td>\n",
       "      <td>750mL</td>\n",
       "      <td>1</td>\n",
       "      <td>16.49</td>\n",
       "      <td>16.49</td>\n",
       "      <td>2016-01-03</td>\n",
       "      <td>750</td>\n",
       "      <td>1</td>\n",
       "      <td>0.79</td>\n",
       "      <td>12546</td>\n",
       "      <td>JIM BEAM BRANDS COMPANY</td>\n",
       "    </tr>\n",
       "    <tr>\n",
       "      <th>3</th>\n",
       "      <td>1_HARDERSFIELD_1004</td>\n",
       "      <td>1</td>\n",
       "      <td>1004</td>\n",
       "      <td>Jim Beam w/2 Rocks Glasses</td>\n",
       "      <td>750mL</td>\n",
       "      <td>1</td>\n",
       "      <td>14.49</td>\n",
       "      <td>14.49</td>\n",
       "      <td>2016-01-08</td>\n",
       "      <td>750</td>\n",
       "      <td>1</td>\n",
       "      <td>0.79</td>\n",
       "      <td>12546</td>\n",
       "      <td>JIM BEAM BRANDS COMPANY</td>\n",
       "    </tr>\n",
       "    <tr>\n",
       "      <th>4</th>\n",
       "      <td>1_HARDERSFIELD_1005</td>\n",
       "      <td>1</td>\n",
       "      <td>1005</td>\n",
       "      <td>Maker's Mark Combo Pack</td>\n",
       "      <td>375mL 2 Pk</td>\n",
       "      <td>2</td>\n",
       "      <td>69.98</td>\n",
       "      <td>34.99</td>\n",
       "      <td>2016-01-09</td>\n",
       "      <td>375</td>\n",
       "      <td>1</td>\n",
       "      <td>0.79</td>\n",
       "      <td>12546</td>\n",
       "      <td>JIM BEAM BRANDS COMPANY</td>\n",
       "    </tr>\n",
       "    <tr>\n",
       "      <th>5</th>\n",
       "      <td>1_HARDERSFIELD_1005</td>\n",
       "      <td>1</td>\n",
       "      <td>1005</td>\n",
       "      <td>Maker's Mark Combo Pack</td>\n",
       "      <td>375mL 2 Pk</td>\n",
       "      <td>1</td>\n",
       "      <td>34.99</td>\n",
       "      <td>34.99</td>\n",
       "      <td>2016-01-15</td>\n",
       "      <td>375</td>\n",
       "      <td>1</td>\n",
       "      <td>0.39</td>\n",
       "      <td>12546</td>\n",
       "      <td>JIM BEAM BRANDS COMPANY</td>\n",
       "    </tr>\n",
       "    <tr>\n",
       "      <th>6</th>\n",
       "      <td>1_HARDERSFIELD_1005</td>\n",
       "      <td>1</td>\n",
       "      <td>1005</td>\n",
       "      <td>Maker's Mark Combo Pack</td>\n",
       "      <td>375mL 2 Pk</td>\n",
       "      <td>1</td>\n",
       "      <td>34.99</td>\n",
       "      <td>34.99</td>\n",
       "      <td>2016-01-22</td>\n",
       "      <td>375</td>\n",
       "      <td>1</td>\n",
       "      <td>0.39</td>\n",
       "      <td>12546</td>\n",
       "      <td>JIM BEAM BRANDS COMPANY</td>\n",
       "    </tr>\n",
       "    <tr>\n",
       "      <th>7</th>\n",
       "      <td>1_HARDERSFIELD_1005</td>\n",
       "      <td>1</td>\n",
       "      <td>1005</td>\n",
       "      <td>Maker's Mark Combo Pack</td>\n",
       "      <td>375mL 2 Pk</td>\n",
       "      <td>1</td>\n",
       "      <td>34.99</td>\n",
       "      <td>34.99</td>\n",
       "      <td>2016-01-30</td>\n",
       "      <td>375</td>\n",
       "      <td>1</td>\n",
       "      <td>0.39</td>\n",
       "      <td>12546</td>\n",
       "      <td>JIM BEAM BRANDS COMPANY</td>\n",
       "    </tr>\n",
       "    <tr>\n",
       "      <th>8</th>\n",
       "      <td>1_HARDERSFIELD_10058</td>\n",
       "      <td>1</td>\n",
       "      <td>10058</td>\n",
       "      <td>F Coppola Dmd Ivry Cab Svgn</td>\n",
       "      <td>750mL</td>\n",
       "      <td>4</td>\n",
       "      <td>59.96</td>\n",
       "      <td>14.99</td>\n",
       "      <td>2016-01-05</td>\n",
       "      <td>750</td>\n",
       "      <td>2</td>\n",
       "      <td>0.45</td>\n",
       "      <td>2000</td>\n",
       "      <td>SOUTHERN WINE &amp; SPIRITS NE</td>\n",
       "    </tr>\n",
       "    <tr>\n",
       "      <th>9</th>\n",
       "      <td>1_HARDERSFIELD_10058</td>\n",
       "      <td>1</td>\n",
       "      <td>10058</td>\n",
       "      <td>F Coppola Dmd Ivry Cab Svgn</td>\n",
       "      <td>750mL</td>\n",
       "      <td>1</td>\n",
       "      <td>14.99</td>\n",
       "      <td>14.99</td>\n",
       "      <td>2016-01-06</td>\n",
       "      <td>750</td>\n",
       "      <td>2</td>\n",
       "      <td>0.11</td>\n",
       "      <td>2000</td>\n",
       "      <td>SOUTHERN WINE &amp; SPIRITS NE</td>\n",
       "    </tr>\n",
       "  </tbody>\n",
       "</table>\n",
       "</div>"
      ],
      "text/plain": [
       "            InventoryId  Store  Brand                  Description  \\\n",
       "0   1_HARDERSFIELD_1004      1   1004   Jim Beam w/2 Rocks Glasses   \n",
       "1   1_HARDERSFIELD_1004      1   1004   Jim Beam w/2 Rocks Glasses   \n",
       "2   1_HARDERSFIELD_1004      1   1004   Jim Beam w/2 Rocks Glasses   \n",
       "3   1_HARDERSFIELD_1004      1   1004   Jim Beam w/2 Rocks Glasses   \n",
       "4   1_HARDERSFIELD_1005      1   1005      Maker's Mark Combo Pack   \n",
       "5   1_HARDERSFIELD_1005      1   1005      Maker's Mark Combo Pack   \n",
       "6   1_HARDERSFIELD_1005      1   1005      Maker's Mark Combo Pack   \n",
       "7   1_HARDERSFIELD_1005      1   1005      Maker's Mark Combo Pack   \n",
       "8  1_HARDERSFIELD_10058      1  10058  F Coppola Dmd Ivry Cab Svgn   \n",
       "9  1_HARDERSFIELD_10058      1  10058  F Coppola Dmd Ivry Cab Svgn   \n",
       "\n",
       "         Size  SalesQuantity  SalesDollars  SalesPrice   SalesDate  Volume  \\\n",
       "0       750mL              1         16.49       16.49  2016-01-01     750   \n",
       "1       750mL              2         32.98       16.49  2016-01-02     750   \n",
       "2       750mL              1         16.49       16.49  2016-01-03     750   \n",
       "3       750mL              1         14.49       14.49  2016-01-08     750   \n",
       "4  375mL 2 Pk              2         69.98       34.99  2016-01-09     375   \n",
       "5  375mL 2 Pk              1         34.99       34.99  2016-01-15     375   \n",
       "6  375mL 2 Pk              1         34.99       34.99  2016-01-22     375   \n",
       "7  375mL 2 Pk              1         34.99       34.99  2016-01-30     375   \n",
       "8       750mL              4         59.96       14.99  2016-01-05     750   \n",
       "9       750mL              1         14.99       14.99  2016-01-06     750   \n",
       "\n",
       "   Classification  ExciseTax  VendorNo                   VendorName  \n",
       "0               1       0.79     12546  JIM BEAM BRANDS COMPANY      \n",
       "1               1       1.57     12546  JIM BEAM BRANDS COMPANY      \n",
       "2               1       0.79     12546  JIM BEAM BRANDS COMPANY      \n",
       "3               1       0.79     12546  JIM BEAM BRANDS COMPANY      \n",
       "4               1       0.79     12546  JIM BEAM BRANDS COMPANY      \n",
       "5               1       0.39     12546  JIM BEAM BRANDS COMPANY      \n",
       "6               1       0.39     12546  JIM BEAM BRANDS COMPANY      \n",
       "7               1       0.39     12546  JIM BEAM BRANDS COMPANY      \n",
       "8               2       0.45      2000  SOUTHERN WINE & SPIRITS NE   \n",
       "9               2       0.11      2000  SOUTHERN WINE & SPIRITS NE   "
      ]
     },
     "execution_count": 6,
     "metadata": {},
     "output_type": "execute_result"
    }
   ],
   "source": [
    "def format_date(x: str):\n",
    "    date_vals = x.split('/')\n",
    "    date_vals[0] = date_vals[0].rjust(2, '0') \n",
    "    date_vals[1] = date_vals[1].rjust(2, '0') \n",
    "    return ('-').join([date_vals[2], date_vals[0], date_vals[1]])\n",
    "sales_final_2016['SalesDate'] = sales_final_2016['SalesDate'].map(lambda x : format_date(x))\n",
    "sales_final_2016.head(10)"
   ]
  },
  {
   "cell_type": "markdown",
   "id": "ae28b0b8",
   "metadata": {
    "papermill": {
     "duration": 0.012922,
     "end_time": "2025-07-11T19:57:20.671684",
     "exception": false,
     "start_time": "2025-07-11T19:57:20.658762",
     "status": "completed"
    },
    "tags": []
   },
   "source": [
    "Finally we create an SQL database and convert pandas DataFrames into tables:"
   ]
  },
  {
   "cell_type": "code",
   "execution_count": 7,
   "id": "6824471e",
   "metadata": {
    "execution": {
     "iopub.execute_input": "2025-07-11T19:57:20.698398Z",
     "iopub.status.busy": "2025-07-11T19:57:20.698012Z",
     "iopub.status.idle": "2025-07-11T19:57:41.095069Z",
     "shell.execute_reply": "2025-07-11T19:57:41.094103Z"
    },
    "papermill": {
     "duration": 20.412237,
     "end_time": "2025-07-11T19:57:41.096670",
     "exception": false,
     "start_time": "2025-07-11T19:57:20.684433",
     "status": "completed"
    },
    "tags": []
   },
   "outputs": [],
   "source": [
    "conn = sqlite3.connect('inventory')\n",
    "purch_prices_dec_2017.to_sql('purch_prices', conn, if_exists = 'replace', index = False)\n",
    "beg_inv_final_2016.to_sql('beg_inv', conn, if_exists = 'replace', index = False)\n",
    "end_inv_final_2016.to_sql('end_inv', conn, if_exists = 'replace', index = False)\n",
    "inv_purch_2016.to_sql('inv_purch', conn, if_exists = 'replace', index = False)\n",
    "purch_final_2016.to_sql('purch_final', conn, if_exists = 'replace', index = False)\n",
    "sales_final_2016.to_sql('sales_final', conn, if_exists = 'replace', index = False)\n",
    "\n",
    "tables = [\n",
    "    'purch_prices',\n",
    "    'beg_inv',\n",
    "    'end_inv',\n",
    "    'inv_purch',\n",
    "    'purch_final',\n",
    "    'sales_final'\n",
    "]"
   ]
  },
  {
   "cell_type": "markdown",
   "id": "14f65922",
   "metadata": {
    "papermill": {
     "duration": 0.012402,
     "end_time": "2025-07-11T19:57:41.122108",
     "exception": false,
     "start_time": "2025-07-11T19:57:41.109706",
     "status": "completed"
    },
    "tags": []
   },
   "source": [
    "### Missing values <a name=\"missval\"></a>"
   ]
  },
  {
   "cell_type": "markdown",
   "id": "f392568c",
   "metadata": {
    "papermill": {
     "duration": 0.012478,
     "end_time": "2025-07-11T19:57:41.147390",
     "exception": false,
     "start_time": "2025-07-11T19:57:41.134912",
     "status": "completed"
    },
    "tags": []
   },
   "source": [
    "Incorrect data entries are an usual occurrence, especially when data is recored manually, missing values are among the most common example, although it's worth noting that their presence may be due to fields that were not applicable; to hadling missing values we therefore start with an analysis of their number and distribution:"
   ]
  },
  {
   "cell_type": "code",
   "execution_count": 8,
   "id": "bebcc53e",
   "metadata": {
    "execution": {
     "iopub.execute_input": "2025-07-11T19:57:41.174609Z",
     "iopub.status.busy": "2025-07-11T19:57:41.174244Z",
     "iopub.status.idle": "2025-07-11T19:57:49.253891Z",
     "shell.execute_reply": "2025-07-11T19:57:49.252872Z"
    },
    "papermill": {
     "duration": 8.095306,
     "end_time": "2025-07-11T19:57:49.255287",
     "exception": false,
     "start_time": "2025-07-11T19:57:41.159981",
     "status": "completed"
    },
    "scrolled": true,
    "tags": []
   },
   "outputs": [
    {
     "name": "stdout",
     "output_type": "stream",
     "text": [
      "PURCH_PRICES\n",
      "Description :  1\n",
      "Size :  1\n",
      "Volume :  1\n",
      "\n",
      "\n",
      "BEG_INV\n",
      "No data missing\n",
      "\n",
      "END_INV\n",
      "City :  1284\n",
      "\n",
      "\n",
      "INV_PURCH\n",
      "Approval :  5169\n",
      "\n",
      "\n",
      "PURCH_FINAL\n",
      "Size :  3\n",
      "\n",
      "\n",
      "SALES_FINAL\n",
      "No data missing\n",
      "\n"
     ]
    }
   ],
   "source": [
    "for table in tables:\n",
    "    q1 = f\"SELECT * FROM {table} LIMIT 1\"\n",
    "    rows = get_query(q1, conn)\n",
    "    cnames = rows[0]\n",
    "    null_counts = []\n",
    "    for cname in cnames:\n",
    "        q2 = f\"SELECT COUNT(1) FROM {table} WHERE {cname} IS NULL\"\n",
    "        q2_results = get_query(q2, conn)\n",
    "        null_counts.append(q2_results[1][0][0])\n",
    "    print(table.upper())\n",
    "    no_null = True\n",
    "    for c, v in zip(cnames, null_counts):\n",
    "        if v != 0:\n",
    "            no_null = False\n",
    "            print(c, ': ', v)\n",
    "    print('No data missing\\n' if no_null else '\\n')"
   ]
  },
  {
   "cell_type": "markdown",
   "id": "458df234",
   "metadata": {
    "papermill": {
     "duration": 0.01245,
     "end_time": "2025-07-11T19:57:49.280800",
     "exception": false,
     "start_time": "2025-07-11T19:57:49.268350",
     "status": "completed"
    },
    "tags": []
   },
   "source": [
    "We have three different situations:\n",
    "<ul>\n",
    "    <li>For <em>purch_prices</em> and <em>purch_final</em> the number of missing entries is negligible, so that we're satisfied to drop them (we could infer their values by using their mode, but we expect no better results).</li>\n",
    "    <li>The <em>City</em> field of the <em>end_inv</em> table has too many missing values to just drop them, luckily for each store we can find at least one entry with non-null City field, therefore we can impute their values with no information loss.</li>\n",
    "    <li>The <em>Approval</em> field in the <em>inv_purch</em> table has many missing values, but these may be interpreted as purchases with input status not yet decided, we decide to fill null values with \"Unknown\".</li>\n",
    "</ul>"
   ]
  },
  {
   "cell_type": "markdown",
   "id": "139ed833",
   "metadata": {
    "papermill": {
     "duration": 0.012657,
     "end_time": "2025-07-11T19:57:49.306351",
     "exception": false,
     "start_time": "2025-07-11T19:57:49.293694",
     "status": "completed"
    },
    "tags": []
   },
   "source": [
    "Cleaning the purchases tables is trivial:"
   ]
  },
  {
   "cell_type": "code",
   "execution_count": 9,
   "id": "a6a85f29",
   "metadata": {
    "execution": {
     "iopub.execute_input": "2025-07-11T19:57:49.333876Z",
     "iopub.status.busy": "2025-07-11T19:57:49.333065Z",
     "iopub.status.idle": "2025-07-11T19:57:49.685459Z",
     "shell.execute_reply": "2025-07-11T19:57:49.684670Z"
    },
    "papermill": {
     "duration": 0.367858,
     "end_time": "2025-07-11T19:57:49.687221",
     "exception": false,
     "start_time": "2025-07-11T19:57:49.319363",
     "status": "completed"
    },
    "tags": []
   },
   "outputs": [],
   "source": [
    "q = \"\"\"\n",
    "DELETE FROM purch_prices WHERE ((Description IS NULL) OR (Size IS NULL) OR (Volume IS NULL));\n",
    "DELETE FROM purch_final WHERE Size IS NULL;\n",
    "\"\"\"\n",
    "\n",
    "try:\n",
    "    cur = conn.cursor()\n",
    "    cur.executescript(q)\n",
    "    conn.commit()\n",
    "except Exception as e:\n",
    "    print('Unable to commit due to the following error: ', e)\n",
    "finally:\n",
    "    cur.close()"
   ]
  },
  {
   "cell_type": "markdown",
   "id": "20c4c780",
   "metadata": {
    "papermill": {
     "duration": 0.012462,
     "end_time": "2025-07-11T19:57:49.712954",
     "exception": false,
     "start_time": "2025-07-11T19:57:49.700492",
     "status": "completed"
    },
    "tags": []
   },
   "source": [
    "We update the <em>inv_purch</em> table as explained above:"
   ]
  },
  {
   "cell_type": "code",
   "execution_count": 10,
   "id": "9540eb6c",
   "metadata": {
    "execution": {
     "iopub.execute_input": "2025-07-11T19:57:49.740024Z",
     "iopub.status.busy": "2025-07-11T19:57:49.739442Z",
     "iopub.status.idle": "2025-07-11T19:57:49.765104Z",
     "shell.execute_reply": "2025-07-11T19:57:49.764301Z"
    },
    "papermill": {
     "duration": 0.040993,
     "end_time": "2025-07-11T19:57:49.766697",
     "exception": false,
     "start_time": "2025-07-11T19:57:49.725704",
     "status": "completed"
    },
    "tags": []
   },
   "outputs": [],
   "source": [
    "q = \"\"\"\n",
    "UPDATE inv_purch SET Approval = \"Unknown\" WHERE Approval IS NULL;\n",
    "\"\"\"\n",
    "\n",
    "try:\n",
    "    cur = conn.cursor()\n",
    "    cur.executescript(q)\n",
    "    conn.commit()\n",
    "except Exception as e:\n",
    "    print('Unable to commit due to the following error: ', e)\n",
    "finally:\n",
    "    cur.close()"
   ]
  },
  {
   "cell_type": "markdown",
   "id": "ab4dea33",
   "metadata": {
    "papermill": {
     "duration": 0.012736,
     "end_time": "2025-07-11T19:57:49.792521",
     "exception": false,
     "start_time": "2025-07-11T19:57:49.779785",
     "status": "completed"
    },
    "tags": []
   },
   "source": [
    "To fill <em>City</em> field of the <em>end_inv</em> table we'll join it with the distict <em>Store</em>-<em>City</em> pairs in <em>beg_inv</em>; however we notice how one store would be unaccounted for as shown below (the first entry is showed because it contains a NULL istance which is not recognised as common value): "
   ]
  },
  {
   "cell_type": "code",
   "execution_count": 11,
   "id": "a40cd435",
   "metadata": {
    "execution": {
     "iopub.execute_input": "2025-07-11T19:57:49.819562Z",
     "iopub.status.busy": "2025-07-11T19:57:49.819263Z",
     "iopub.status.idle": "2025-07-11T19:57:49.909760Z",
     "shell.execute_reply": "2025-07-11T19:57:49.908686Z"
    },
    "papermill": {
     "duration": 0.105683,
     "end_time": "2025-07-11T19:57:49.911227",
     "exception": false,
     "start_time": "2025-07-11T19:57:49.805544",
     "status": "completed"
    },
    "tags": []
   },
   "outputs": [
    {
     "name": "stdout",
     "output_type": "stream",
     "text": [
      "     Store     |      City     |\n",
      " ------------------------------ \n",
      "\n",
      "       46      |      None     |\n",
      "\n",
      "       81      |    PEMBROKE   |\n",
      "\n"
     ]
    }
   ],
   "source": [
    "q = \"\"\"\n",
    "SELECT DISTINCT Store, City\n",
    "FROM end_inv \n",
    "EXCEPT\n",
    "SELECT DISTINCT Store, City\n",
    "FROM beg_inv \n",
    "\"\"\"\n",
    "\n",
    "print_query(q, conn)"
   ]
  },
  {
   "cell_type": "markdown",
   "id": "2eb4247d",
   "metadata": {
    "papermill": {
     "duration": 0.012669,
     "end_time": "2025-07-11T19:57:49.937080",
     "exception": false,
     "start_time": "2025-07-11T19:57:49.924411",
     "status": "completed"
    },
    "tags": []
   },
   "source": [
    "The city for store 81 will therefore be updated separately:"
   ]
  },
  {
   "cell_type": "code",
   "execution_count": 12,
   "id": "a7123472",
   "metadata": {
    "execution": {
     "iopub.execute_input": "2025-07-11T19:57:49.964616Z",
     "iopub.status.busy": "2025-07-11T19:57:49.963807Z",
     "iopub.status.idle": "2025-07-11T19:57:50.851875Z",
     "shell.execute_reply": "2025-07-11T19:57:50.850793Z"
    },
    "papermill": {
     "duration": 0.903432,
     "end_time": "2025-07-11T19:57:50.853483",
     "exception": false,
     "start_time": "2025-07-11T19:57:49.950051",
     "status": "completed"
    },
    "tags": []
   },
   "outputs": [
    {
     "name": "stdout",
     "output_type": "stream",
     "text": [
      "  InventoryId  |     Store     |     Brand     |  Description  |      Size     |     onHand    |     Price     |    endDate    |      City     |\n",
      " --------------------------------------------------------------------------------------------------------------------------------------- \n",
      "\n",
      "1_HARDERSFIELD_|       1       |       58      |Gekkeikan Black|     750mL     |       11      |     12.99     |   2016-12-31  |  HARDERSFIELD |\n",
      "\n",
      "1_HARDERSFIELD_|       1       |       62      |Herradura Silve|     750mL     |       7       |     36.99     |   2016-12-31  |  HARDERSFIELD |\n",
      "\n",
      "1_HARDERSFIELD_|       1       |       63      |Herradura Repos|     750mL     |       7       |     38.99     |   2016-12-31  |  HARDERSFIELD |\n",
      "\n",
      "1_HARDERSFIELD_|       1       |       72      |No. 3 London Dr|     750mL     |       4       |     34.99     |   2016-12-31  |  HARDERSFIELD |\n",
      "\n",
      "1_HARDERSFIELD_|       1       |       75      |Three Olives To|     750mL     |       7       |     14.99     |   2016-12-31  |  HARDERSFIELD |\n",
      "\n",
      "1_HARDERSFIELD_|       1       |       77      |Three Olives Es|     750mL     |       18      |     14.99     |   2016-12-31  |  HARDERSFIELD |\n",
      "\n",
      "1_HARDERSFIELD_|       1       |       79      |Three Olives Lo|     750mL     |       7       |     14.99     |   2016-12-31  |  HARDERSFIELD |\n",
      "\n",
      "1_HARDERSFIELD_|       1       |      115      |Belvedere Vodka|     Liter     |       35      |     27.99     |   2016-12-31  |  HARDERSFIELD |\n",
      "\n",
      "1_HARDERSFIELD_|       1       |      126      |Grey Goose Vodk|     Liter     |       36      |     29.99     |   2016-12-31  |  HARDERSFIELD |\n",
      "\n",
      "1_HARDERSFIELD_|       1       |      159      |Glenmorangie Or|   750mL + 2/  |       8       |     34.99     |   2016-12-31  |  HARDERSFIELD |\n",
      "\n"
     ]
    }
   ],
   "source": [
    "q = \"\"\"\n",
    "DROP TABLE IF EXISTS end_inv_full;\n",
    "CREATE TABLE IF NOT EXISTS end_inv_full AS \n",
    "WITH store_city AS \n",
    "(\n",
    "SELECT DISTINCT beg_inv.Store, beg_inv.City\n",
    "FROM beg_inv \n",
    "),\n",
    "mini_end AS\n",
    "(\n",
    "SELECT end_inv.InventoryId, end_inv.Store, end_inv.Brand, end_inv.Description, end_inv.Size,\n",
    "end_inv.onHand, end_inv.Price, end_inv.endDate\n",
    "FROM end_inv\n",
    ")\n",
    "SELECT mini_end.*, store_city.City\n",
    "FROM mini_end \n",
    "LEFT JOIN store_city \n",
    "ON mini_end.Store = store_city.Store;\n",
    "UPDATE end_inv_full SET City = \"PEMBROKE\" WHERE Store = 81;\n",
    "\"\"\"\n",
    "\n",
    "try:\n",
    "    cur = conn.cursor()\n",
    "    cur.executescript(q)\n",
    "    conn.commit()\n",
    "except Exception as e:\n",
    "    print('Unable to commit due to the following error: ', e)\n",
    "finally:\n",
    "    cur.close()   \n",
    "\n",
    "q = \"\"\"\n",
    "SELECT * FROM end_inv_full\n",
    "\"\"\"\n",
    "\n",
    "cur = conn.cursor()\n",
    "try:\n",
    "    cur.execute(q)\n",
    "    rows = cur.fetchall()\n",
    "    cnames = list(map(lambda x: x[0], cur.description))\n",
    "    format_table(rows_data = rows, headers = cnames)\n",
    "except Exception as e:\n",
    "    print('Unable to query the database due to the following error: ', e)\n",
    "finally:\n",
    "    cur.close()"
   ]
  },
  {
   "cell_type": "markdown",
   "id": "5edc3dc1",
   "metadata": {
    "papermill": {
     "duration": 0.012638,
     "end_time": "2025-07-11T19:57:50.879425",
     "exception": false,
     "start_time": "2025-07-11T19:57:50.866787",
     "status": "completed"
    },
    "tags": []
   },
   "source": [
    "## Inventory Analysis <a name=\"chp1\"></a> "
   ]
  },
  {
   "cell_type": "markdown",
   "id": "60e9c105",
   "metadata": {
    "papermill": {
     "duration": 0.013302,
     "end_time": "2025-07-11T19:57:50.905728",
     "exception": false,
     "start_time": "2025-07-11T19:57:50.892426",
     "status": "completed"
    },
    "tags": []
   },
   "source": [
    "Before choosing sales strategies or make decisions about restocking it's essential to gain insight on the inventory data, this section is dedicated to answer some preliminary questions. "
   ]
  },
  {
   "cell_type": "markdown",
   "id": "acfac9ef",
   "metadata": {
    "papermill": {
     "duration": 0.012649,
     "end_time": "2025-07-11T19:57:50.931351",
     "exception": false,
     "start_time": "2025-07-11T19:57:50.918702",
     "status": "completed"
    },
    "tags": []
   },
   "source": [
    "### Inventory Summary - Top 10 stocks <a name=\"chp1_1\"></a>"
   ]
  },
  {
   "cell_type": "markdown",
   "id": "069f9b1b",
   "metadata": {
    "papermill": {
     "duration": 0.012527,
     "end_time": "2025-07-11T19:57:50.956805",
     "exception": false,
     "start_time": "2025-07-11T19:57:50.944278",
     "status": "completed"
    },
    "tags": []
   },
   "source": [
    "We start our inventory analysis by selecting the 10 largest stocks at the beginning and the end of the year:"
   ]
  },
  {
   "cell_type": "markdown",
   "id": "2b10df92",
   "metadata": {
    "papermill": {
     "duration": 0.012723,
     "end_time": "2025-07-11T19:57:50.982543",
     "exception": false,
     "start_time": "2025-07-11T19:57:50.969820",
     "status": "completed"
    },
    "tags": []
   },
   "source": [
    "#### Beginning of the year <a name=\"chp1_1_1\"></a>"
   ]
  },
  {
   "cell_type": "code",
   "execution_count": 13,
   "id": "c697760c",
   "metadata": {
    "execution": {
     "iopub.execute_input": "2025-07-11T19:57:51.010589Z",
     "iopub.status.busy": "2025-07-11T19:57:51.009678Z",
     "iopub.status.idle": "2025-07-11T19:57:51.169639Z",
     "shell.execute_reply": "2025-07-11T19:57:51.168615Z"
    },
    "papermill": {
     "duration": 0.175575,
     "end_time": "2025-07-11T19:57:51.171156",
     "exception": false,
     "start_time": "2025-07-11T19:57:50.995581",
     "status": "completed"
    },
    "tags": []
   },
   "outputs": [
    {
     "name": "stdout",
     "output_type": "stream",
     "text": [
      "     Brand     |  Description  |     onHand    |\n",
      " --------------------------------------------- \n",
      "\n",
      "      4261     |Capt Morgan Spi|     15499     |\n",
      "\n",
      "      8068     |Absolut 80 Proo|     15341     |\n",
      "\n",
      "      3876     |Smirnoff 80 Pro|     14829     |\n",
      "\n",
      "      3545     |Ketel One Vodka|     14499     |\n",
      "\n",
      "      6879     |Maurice's Menth|     14180     |\n",
      "\n",
      "      3858     |Grey Goose Vodk|     13649     |\n",
      "\n",
      "      8111     |Smirnoff 80 Pro|     13521     |\n",
      "\n",
      "      1233     |Jack Daniels No|     12016     |\n",
      "\n",
      "      4243     |Bacardi Superio|     11640     |\n",
      "\n",
      "      6570     |Kendall Jackson|     11586     |\n",
      "\n"
     ]
    }
   ],
   "source": [
    "q = \"\"\"\n",
    "SELECT Brand, Description, SUM(onHand) as onHand \n",
    "FROM beg_inv \n",
    "GROUP BY Brand, Description\n",
    "ORDER BY onHand DESC\n",
    "LIMIT 10\n",
    "\"\"\"\n",
    "\n",
    "print_query(q, conn)"
   ]
  },
  {
   "cell_type": "markdown",
   "id": "a48f68c3",
   "metadata": {
    "papermill": {
     "duration": 0.012935,
     "end_time": "2025-07-11T19:57:51.197873",
     "exception": false,
     "start_time": "2025-07-11T19:57:51.184938",
     "status": "completed"
    },
    "tags": []
   },
   "source": [
    "#### End of the year <a name=\"chp1_1_2\"></a>"
   ]
  },
  {
   "cell_type": "code",
   "execution_count": 14,
   "id": "c4842b1b",
   "metadata": {
    "execution": {
     "iopub.execute_input": "2025-07-11T19:57:51.225588Z",
     "iopub.status.busy": "2025-07-11T19:57:51.224999Z",
     "iopub.status.idle": "2025-07-11T19:57:51.397752Z",
     "shell.execute_reply": "2025-07-11T19:57:51.396804Z"
    },
    "papermill": {
     "duration": 0.188501,
     "end_time": "2025-07-11T19:57:51.399511",
     "exception": false,
     "start_time": "2025-07-11T19:57:51.211010",
     "status": "completed"
    },
    "tags": []
   },
   "outputs": [
    {
     "name": "stdout",
     "output_type": "stream",
     "text": [
      "     Brand     |  Description  |     onHand    |\n",
      " --------------------------------------------- \n",
      "\n",
      "      3545     |Ketel One Vodka|     16770     |\n",
      "\n",
      "      4261     |Capt Morgan Spi|     16769     |\n",
      "\n",
      "      8111     |Smirnoff 80 Pro|     16242     |\n",
      "\n",
      "      8068     |Absolut 80 Proo|     15608     |\n",
      "\n",
      "      1233     |Jack Daniels No|     15047     |\n",
      "\n",
      "      3102     |Smirnoff Travel|     14208     |\n",
      "\n",
      "      5111     |Dr McGillicuddy|     13804     |\n",
      "\n",
      "      1376     |    Jim Beam   |     13180     |\n",
      "\n",
      "      6570     |Kendall Jackson|     13016     |\n",
      "\n",
      "      1892     |   Yukon Jack  |     12764     |\n",
      "\n"
     ]
    }
   ],
   "source": [
    "q = \"\"\"\n",
    "SELECT Brand, Description, SUM(onHand) as onHand \n",
    "FROM end_inv_full \n",
    "GROUP BY Brand, Description\n",
    "ORDER BY onHand DESC\n",
    "LIMIT 10\n",
    "\"\"\"\n",
    "\n",
    "print_query(q, conn)"
   ]
  },
  {
   "cell_type": "markdown",
   "id": "08228ec6",
   "metadata": {
    "papermill": {
     "duration": 0.013366,
     "end_time": "2025-07-11T19:57:51.427120",
     "exception": false,
     "start_time": "2025-07-11T19:57:51.413754",
     "status": "completed"
    },
    "tags": []
   },
   "source": [
    "**Outtakes:**\n",
    "<ul>\n",
    "    <li>Capt Morgan spice was in the first position at the beginning of the year and missed the top by just one unit at year-end, standing out as a strong seller.</li>\n",
    "    <li>Ketel One Vodka jumped from 4th to 1st and Jack Daniels N. 7 Black jumped from 8th to 5th position, this could be caused by increasing demands or higher restocks during the year.</li>\n",
    "    <li>Smirnoff 80 Proof changed its brand number, still remained consistently the 3rd product of choice. </li>\n",
    "    <li>Absolut 80 proof dropped from 2nd to 4th position</li>\n",
    "</ul>"
   ]
  },
  {
   "cell_type": "markdown",
   "id": "b87df405",
   "metadata": {
    "papermill": {
     "duration": 0.013031,
     "end_time": "2025-07-11T19:57:51.453710",
     "exception": false,
     "start_time": "2025-07-11T19:57:51.440679",
     "status": "completed"
    },
    "tags": []
   },
   "source": [
    "### Inventory Summary - Bottom 10 stocks <a name=\"chp1_2\"></a>"
   ]
  },
  {
   "cell_type": "markdown",
   "id": "5e5c652f",
   "metadata": {
    "papermill": {
     "duration": 0.013489,
     "end_time": "2025-07-11T19:57:51.480635",
     "exception": false,
     "start_time": "2025-07-11T19:57:51.467146",
     "status": "completed"
    },
    "tags": []
   },
   "source": [
    "We repeat the same analysis for the bottom 10 stocks:"
   ]
  },
  {
   "cell_type": "markdown",
   "id": "0e2119a2",
   "metadata": {
    "papermill": {
     "duration": 0.012817,
     "end_time": "2025-07-11T19:57:51.506473",
     "exception": false,
     "start_time": "2025-07-11T19:57:51.493656",
     "status": "completed"
    },
    "tags": []
   },
   "source": [
    "#### Beginning of the year <a name=\"chp1_2_1\"></a>"
   ]
  },
  {
   "cell_type": "code",
   "execution_count": 15,
   "id": "4007d0f7",
   "metadata": {
    "execution": {
     "iopub.execute_input": "2025-07-11T19:57:51.534434Z",
     "iopub.status.busy": "2025-07-11T19:57:51.534074Z",
     "iopub.status.idle": "2025-07-11T19:57:51.694148Z",
     "shell.execute_reply": "2025-07-11T19:57:51.693127Z"
    },
    "papermill": {
     "duration": 0.176235,
     "end_time": "2025-07-11T19:57:51.695733",
     "exception": false,
     "start_time": "2025-07-11T19:57:51.519498",
     "status": "completed"
    },
    "tags": []
   },
   "outputs": [
    {
     "name": "stdout",
     "output_type": "stream",
     "text": [
      "     Brand     |  Description  |     onHand    |\n",
      " --------------------------------------------- \n",
      "\n",
      "      1044     |Dry Sack Sherry|       0       |\n",
      "\n",
      "      1771     |Jack Daniels Te|       0       |\n",
      "\n",
      "      1927     |Jack Daniels \"B|       0       |\n",
      "\n",
      "      1974     |Breaking & Ente|       0       |\n",
      "\n",
      "      1982     |Herradura Silve|       0       |\n",
      "\n",
      "      2230     |Egan's Single M|       0       |\n",
      "\n",
      "      2715     |Teeling Single |       0       |\n",
      "\n",
      "      2734     |Nikka Pure Malt|       0       |\n",
      "\n",
      "      2963     |Bruichladdich T|       0       |\n",
      "\n",
      "      2974     |Sazerac 6 Yr St|       0       |\n",
      "\n"
     ]
    }
   ],
   "source": [
    "q = \"\"\"\n",
    "SELECT Brand, Description, SUM(onHand) as onHand \n",
    "FROM beg_inv \n",
    "GROUP BY Brand, Description\n",
    "ORDER BY onHand ASC\n",
    "LIMIT 10\n",
    "\"\"\"\n",
    "\n",
    "print_query(q, conn)"
   ]
  },
  {
   "cell_type": "markdown",
   "id": "11d736ae",
   "metadata": {
    "papermill": {
     "duration": 0.01297,
     "end_time": "2025-07-11T19:57:51.722444",
     "exception": false,
     "start_time": "2025-07-11T19:57:51.709474",
     "status": "completed"
    },
    "tags": []
   },
   "source": [
    "#### End of the year <a name=\"chp1_2_2\"></a>"
   ]
  },
  {
   "cell_type": "code",
   "execution_count": 16,
   "id": "3ca2ee36",
   "metadata": {
    "execution": {
     "iopub.execute_input": "2025-07-11T19:57:51.751094Z",
     "iopub.status.busy": "2025-07-11T19:57:51.750212Z",
     "iopub.status.idle": "2025-07-11T19:57:51.921020Z",
     "shell.execute_reply": "2025-07-11T19:57:51.919901Z"
    },
    "papermill": {
     "duration": 0.186937,
     "end_time": "2025-07-11T19:57:51.922570",
     "exception": false,
     "start_time": "2025-07-11T19:57:51.735633",
     "status": "completed"
    },
    "tags": []
   },
   "outputs": [
    {
     "name": "stdout",
     "output_type": "stream",
     "text": [
      "     Brand     |  Description  |     onHand    |\n",
      " --------------------------------------------- \n",
      "\n",
      "      319      |Peter Paul Baci|       0       |\n",
      "\n",
      "      1044     |Dry Sack Sherry|       0       |\n",
      "\n",
      "      1149     |Crown Royal Reg|       0       |\n",
      "\n",
      "      1150     |Crown Royal Van|       0       |\n",
      "\n",
      "      1152     |Captain Morgan |       0       |\n",
      "\n",
      "      1157     |Bailey's Almand|       0       |\n",
      "\n",
      "      1162     |Campeon Reposad|       0       |\n",
      "\n",
      "      1163     |Absolut Lime Vo|       0       |\n",
      "\n",
      "      1234     |Woodford Rsv Ma|       0       |\n",
      "\n",
      "      2096     |The Macallan Ed|       0       |\n",
      "\n"
     ]
    }
   ],
   "source": [
    "q = \"\"\"\n",
    "SELECT Brand, Description, SUM(onHand) as onHand \n",
    "FROM end_inv_full \n",
    "GROUP BY Brand, Description\n",
    "ORDER BY onHand ASC\n",
    "LIMIT 10\n",
    "\"\"\"\n",
    "\n",
    "print_query(q, conn)"
   ]
  },
  {
   "cell_type": "markdown",
   "id": "98fb4d98",
   "metadata": {
    "papermill": {
     "duration": 0.012955,
     "end_time": "2025-07-11T19:57:51.949039",
     "exception": false,
     "start_time": "2025-07-11T19:57:51.936084",
     "status": "completed"
    },
    "tags": []
   },
   "source": [
    "**Outtakes:**\n",
    "<ul>\n",
    "    <li>All the items aren't in the inventory, which means that there were no stock throughout the year or that they were sold outand never replenished.</li>\n",
    "    <li>The products listed are almost completely different between beginning and end of the year, suggesting fluctuations for low stock items.</li>\n",
    "</ul>"
   ]
  },
  {
   "cell_type": "markdown",
   "id": "209ca200",
   "metadata": {
    "papermill": {
     "duration": 0.013146,
     "end_time": "2025-07-11T19:57:51.975517",
     "exception": false,
     "start_time": "2025-07-11T19:57:51.962371",
     "status": "completed"
    },
    "tags": []
   },
   "source": [
    "### Time Stats <a name=\"chp1_3\"></a>"
   ]
  },
  {
   "cell_type": "markdown",
   "id": "a8ecedad",
   "metadata": {
    "papermill": {
     "duration": 0.013126,
     "end_time": "2025-07-11T19:57:52.001909",
     "exception": false,
     "start_time": "2025-07-11T19:57:51.988783",
     "status": "completed"
    },
    "tags": []
   },
   "source": [
    "We wish to retrieve some characteristic times associated with sales activity and inventory changes, to be precise the average time merch is supplied and the average time payment is processed:"
   ]
  },
  {
   "cell_type": "markdown",
   "id": "3b4ce4d9",
   "metadata": {
    "papermill": {
     "duration": 0.013158,
     "end_time": "2025-07-11T19:57:52.028599",
     "exception": false,
     "start_time": "2025-07-11T19:57:52.015441",
     "status": "completed"
    },
    "tags": []
   },
   "source": [
    "#### Average Supply Time <a name=\"chp1_3_1\"></a>"
   ]
  },
  {
   "cell_type": "code",
   "execution_count": 17,
   "id": "3c1641dc",
   "metadata": {
    "execution": {
     "iopub.execute_input": "2025-07-11T19:57:52.057041Z",
     "iopub.status.busy": "2025-07-11T19:57:52.056242Z",
     "iopub.status.idle": "2025-07-11T19:57:52.920386Z",
     "shell.execute_reply": "2025-07-11T19:57:52.919227Z"
    },
    "papermill": {
     "duration": 0.880412,
     "end_time": "2025-07-11T19:57:52.922257",
     "exception": false,
     "start_time": "2025-07-11T19:57:52.041845",
     "status": "completed"
    },
    "tags": []
   },
   "outputs": [
    {
     "name": "stdout",
     "output_type": "stream",
     "text": [
      "Average Supply |\n",
      " --------------- \n",
      "\n",
      "7.6207371976306|\n",
      "\n"
     ]
    }
   ],
   "source": [
    "q = \"\"\"\n",
    "SELECT AVG(ReceivingDate - PODate) AS 'Average Supply Time (d)'\n",
    "FROM \n",
    "(SELECT JULIANDAY(PODate) AS PODate, JULIANDAY(ReceivingDate) AS ReceivingDate \n",
    "FROM purch_final)\n",
    "\"\"\"\n",
    "\n",
    "print_query(q, conn)"
   ]
  },
  {
   "cell_type": "markdown",
   "id": "768f29c1",
   "metadata": {
    "papermill": {
     "duration": 0.013335,
     "end_time": "2025-07-11T19:57:52.950013",
     "exception": false,
     "start_time": "2025-07-11T19:57:52.936678",
     "status": "completed"
    },
    "tags": []
   },
   "source": [
    "#### Average Payment Time <a name=\"chp1_3_2\"></a>"
   ]
  },
  {
   "cell_type": "code",
   "execution_count": 18,
   "id": "dc91e9dd",
   "metadata": {
    "execution": {
     "iopub.execute_input": "2025-07-11T19:57:52.978710Z",
     "iopub.status.busy": "2025-07-11T19:57:52.977791Z",
     "iopub.status.idle": "2025-07-11T19:57:52.984630Z",
     "shell.execute_reply": "2025-07-11T19:57:52.983735Z"
    },
    "papermill": {
     "duration": 0.022412,
     "end_time": "2025-07-11T19:57:52.985909",
     "exception": false,
     "start_time": "2025-07-11T19:57:52.963497",
     "status": "completed"
    },
    "tags": []
   },
   "outputs": [
    {
     "name": "stdout",
     "output_type": "stream",
     "text": [
      "Average Payment|\n",
      " --------------- \n",
      "\n",
      "35.468518852606|\n",
      "\n"
     ]
    }
   ],
   "source": [
    "q = \"\"\"\n",
    "SELECT AVG(PayDate - InvoiceDate) AS 'Average Payment Time (d)'\n",
    "FROM \n",
    "(SELECT JULIANDAY(PayDate) AS PayDate, JULIANDAY(InvoiceDate) AS InvoiceDate \n",
    "FROM inv_purch)\n",
    "\"\"\"\n",
    "\n",
    "print_query(q, conn)"
   ]
  },
  {
   "cell_type": "markdown",
   "id": "f62cd0f6",
   "metadata": {
    "papermill": {
     "duration": 0.013564,
     "end_time": "2025-07-11T19:57:53.013439",
     "exception": false,
     "start_time": "2025-07-11T19:57:52.999875",
     "status": "completed"
    },
    "tags": []
   },
   "source": [
    "**Outtakes:**\n",
    "<ul>\n",
    "    <li>The average supply time is 7.6 days, indicating a quick turnaround after placing an order.</li>\n",
    "    <li>The average payment time is 35.5 days, it would be advisable to clarify wether the vendor agreed on long credit terms, otherwise this could indicate a delay in payments. </li>\n",
    "</ul>"
   ]
  },
  {
   "cell_type": "markdown",
   "id": "6b656b45",
   "metadata": {
    "papermill": {
     "duration": 0.013298,
     "end_time": "2025-07-11T19:57:53.040279",
     "exception": false,
     "start_time": "2025-07-11T19:57:53.026981",
     "status": "completed"
    },
    "tags": []
   },
   "source": [
    "## Sales Analysis <a name=\"chp2\"></a>"
   ]
  },
  {
   "cell_type": "markdown",
   "id": "538382e1",
   "metadata": {
    "papermill": {
     "duration": 0.01328,
     "end_time": "2025-07-11T19:57:53.067030",
     "exception": false,
     "start_time": "2025-07-11T19:57:53.053750",
     "status": "completed"
    },
    "tags": []
   },
   "source": [
    "Completed our first look to the inventory, we proceed to analyze the sales, checking in particular:\n",
    "<ul>\n",
    "    <li>which products were purchased the most.</li>\n",
    "    <li>which products were purchased the least.</li>\n",
    "    <li>if there's a meaningful pattern in sales through time. </li>\n",
    "</ul>"
   ]
  },
  {
   "cell_type": "markdown",
   "id": "d9a1b5e6",
   "metadata": {
    "papermill": {
     "duration": 0.014183,
     "end_time": "2025-07-11T19:57:53.094722",
     "exception": false,
     "start_time": "2025-07-11T19:57:53.080539",
     "status": "completed"
    },
    "tags": []
   },
   "source": [
    "### Best Selling Products <a name=\"chp2_1\"></a>"
   ]
  },
  {
   "cell_type": "code",
   "execution_count": 19,
   "id": "14a21086",
   "metadata": {
    "execution": {
     "iopub.execute_input": "2025-07-11T19:57:53.123715Z",
     "iopub.status.busy": "2025-07-11T19:57:53.123388Z",
     "iopub.status.idle": "2025-07-11T19:57:54.107496Z",
     "shell.execute_reply": "2025-07-11T19:57:54.106425Z"
    },
    "papermill": {
     "duration": 1.000626,
     "end_time": "2025-07-11T19:57:54.108996",
     "exception": false,
     "start_time": "2025-07-11T19:57:53.108370",
     "status": "completed"
    },
    "tags": []
   },
   "outputs": [
    {
     "name": "stdout",
     "output_type": "stream",
     "text": [
      "     Brand     |  Description  | SalesQuantity |\n",
      " --------------------------------------------- \n",
      "\n",
      "      8111     |Smirnoff 80 Pro|     28544     |\n",
      "\n",
      "      1892     |   Yukon Jack  |     23121     |\n",
      "\n",
      "      4261     |Capt Morgan Spi|     20226     |\n",
      "\n",
      "      3606     |Smirnoff Raspbe|     19200     |\n",
      "\n",
      "      5111     |Dr McGillicuddy|     18411     |\n",
      "\n",
      "      3837     |   Skyy Vodka  |     14057     |\n",
      "\n",
      "      4135     |Smirnoff Bluebe|     12477     |\n",
      "\n",
      "      4157     |Smirnoff Green |     12102     |\n",
      "\n",
      "      3545     |Ketel One Vodka|     11883     |\n",
      "\n",
      "      8068     |Absolut 80 Proo|     11189     |\n",
      "\n"
     ]
    }
   ],
   "source": [
    "q = \"\"\"\n",
    "SELECT Brand, Description, SUM(SalesQuantity) AS SalesQuantity\n",
    "FROM sales_final \n",
    "GROUP BY Brand, Description\n",
    "ORDER BY SalesQuantity DESC\n",
    "LIMIT 10\n",
    "\"\"\"\n",
    "\n",
    "print_query(q, conn)"
   ]
  },
  {
   "cell_type": "markdown",
   "id": "89b5167a",
   "metadata": {
    "papermill": {
     "duration": 0.013239,
     "end_time": "2025-07-11T19:57:54.136437",
     "exception": false,
     "start_time": "2025-07-11T19:57:54.123198",
     "status": "completed"
    },
    "tags": []
   },
   "source": [
    "### Slow Moving Products <a name=\"chp2_2\"></a>"
   ]
  },
  {
   "cell_type": "code",
   "execution_count": 20,
   "id": "4249f15e",
   "metadata": {
    "execution": {
     "iopub.execute_input": "2025-07-11T19:57:54.164802Z",
     "iopub.status.busy": "2025-07-11T19:57:54.164528Z",
     "iopub.status.idle": "2025-07-11T19:57:55.138640Z",
     "shell.execute_reply": "2025-07-11T19:57:55.137476Z"
    },
    "papermill": {
     "duration": 0.990224,
     "end_time": "2025-07-11T19:57:55.140278",
     "exception": false,
     "start_time": "2025-07-11T19:57:54.150054",
     "status": "completed"
    },
    "tags": []
   },
   "outputs": [
    {
     "name": "stdout",
     "output_type": "stream",
     "text": [
      "     Brand     |  Description  | SalesQuantity |\n",
      " --------------------------------------------- \n",
      "\n",
      "       86      |Don Julio Real |       1       |\n",
      "\n",
      "      105      |Mr Boston Butte|       1       |\n",
      "\n",
      "      129      |Grey Goose L'Or|       1       |\n",
      "\n",
      "      143      |  Chivas Regal |       1       |\n",
      "\n",
      "      148      |Smirnoff Green |       1       |\n",
      "\n",
      "      150      |Smirnoff Strawb|       1       |\n",
      "\n",
      "      151      |Pirassununga Ca|       1       |\n",
      "\n",
      "      172      |Wild Turkey 101|       1       |\n",
      "\n",
      "      204      |Smirnoff Pineap|       1       |\n",
      "\n",
      "      248      |Wild Shot Repos|       1       |\n",
      "\n"
     ]
    }
   ],
   "source": [
    "q = \"\"\"\n",
    "SELECT Brand, Description, SUM(SalesQuantity) AS SalesQuantity\n",
    "FROM sales_final \n",
    "GROUP BY Brand, Description\n",
    "ORDER BY SalesQuantity ASC\n",
    "LIMIT 10\n",
    "\"\"\"\n",
    "\n",
    "print_query(q, conn)"
   ]
  },
  {
   "cell_type": "markdown",
   "id": "ab4ce4aa",
   "metadata": {
    "papermill": {
     "duration": 0.01333,
     "end_time": "2025-07-11T19:57:55.167438",
     "exception": false,
     "start_time": "2025-07-11T19:57:55.154108",
     "status": "completed"
    },
    "tags": []
   },
   "source": [
    "### Sales Trends <a name=\"chp2_3\"></a>"
   ]
  },
  {
   "cell_type": "code",
   "execution_count": 21,
   "id": "d729f976",
   "metadata": {
    "execution": {
     "iopub.execute_input": "2025-07-11T19:57:55.196335Z",
     "iopub.status.busy": "2025-07-11T19:57:55.195982Z",
     "iopub.status.idle": "2025-07-11T19:57:56.747362Z",
     "shell.execute_reply": "2025-07-11T19:57:56.746477Z"
    },
    "papermill": {
     "duration": 1.568634,
     "end_time": "2025-07-11T19:57:56.749572",
     "exception": false,
     "start_time": "2025-07-11T19:57:55.180938",
     "status": "completed"
    },
    "tags": []
   },
   "outputs": [
    {
     "name": "stderr",
     "output_type": "stream",
     "text": [
      "/usr/local/lib/python3.11/dist-packages/seaborn/_oldcore.py:1119: FutureWarning: use_inf_as_na option is deprecated and will be removed in a future version. Convert inf values to NaN before operating instead.\n",
      "  with pd.option_context('mode.use_inf_as_na', True):\n",
      "/usr/local/lib/python3.11/dist-packages/seaborn/_oldcore.py:1119: FutureWarning: use_inf_as_na option is deprecated and will be removed in a future version. Convert inf values to NaN before operating instead.\n",
      "  with pd.option_context('mode.use_inf_as_na', True):\n",
      "/usr/local/lib/python3.11/dist-packages/seaborn/_oldcore.py:1119: FutureWarning: use_inf_as_na option is deprecated and will be removed in a future version. Convert inf values to NaN before operating instead.\n",
      "  with pd.option_context('mode.use_inf_as_na', True):\n",
      "/usr/local/lib/python3.11/dist-packages/seaborn/_oldcore.py:1119: FutureWarning: use_inf_as_na option is deprecated and will be removed in a future version. Convert inf values to NaN before operating instead.\n",
      "  with pd.option_context('mode.use_inf_as_na', True):\n"
     ]
    },
    {
     "data": {
      "image/png": "[encoded data removed]",
      "text/plain": [
       "<Figure size 1200x1000 with 2 Axes>"
      ]
     },
     "metadata": {},
     "output_type": "display_data"
    }
   ],
   "source": [
    "q = \"\"\"\n",
    "SELECT SalesDate, \n",
    "SUM(SalesQuantity) AS SalesQuantity,\n",
    "AVG(SalesPrice) AS SalesPrice\n",
    "FROM sales_final\n",
    "GROUP BY SalesDate\n",
    "\"\"\"\n",
    "\n",
    "cnames, rows = get_query(q, conn)\n",
    "sales_trend = pd.DataFrame(data = rows, columns = cnames)\n",
    "sales_trend['SalesDate'] = pd.to_datetime(sales_trend['SalesDate'])\n",
    "_, ax = plt.subplots(figsize = (12, 10))\n",
    "sns.lineplot(data = sales_trend, x = 'SalesDate', y = 'SalesQuantity', color = 'blue', ax = ax)\n",
    "ax2 = ax.twinx()\n",
    "sns.lineplot(data = sales_trend, x = 'SalesDate', y = 'SalesPrice', color = 'red', ax = ax2)\n",
    "ax.set_title('Sales quantity and price trend')\n",
    "plt.show()"
   ]
  },
  {
   "cell_type": "markdown",
   "id": "66b0eeb9",
   "metadata": {
    "papermill": {
     "duration": 0.014972,
     "end_time": "2025-07-11T19:57:56.780444",
     "exception": false,
     "start_time": "2025-07-11T19:57:56.765472",
     "status": "completed"
    },
    "tags": []
   },
   "source": [
    "**Outtakes:**\n",
    "<ul>\n",
    "    <li>There's a cyclical pattern in the sales quantity as well as price.</li>\n",
    "    <li>Both sales and price had a peak between January and February, then a sharp fall in the following weeks.</li>\n",
    "</ul>"
   ]
  },
  {
   "cell_type": "markdown",
   "id": "07135e01",
   "metadata": {
    "papermill": {
     "duration": 0.01524,
     "end_time": "2025-07-11T19:57:56.810792",
     "exception": false,
     "start_time": "2025-07-11T19:57:56.795552",
     "status": "completed"
    },
    "tags": []
   },
   "source": [
    "## Purchase Analysis <a name=\"chp3\"></a>"
   ]
  },
  {
   "cell_type": "markdown",
   "id": "a169e14f",
   "metadata": {
    "papermill": {
     "duration": 0.014828,
     "end_time": "2025-07-11T19:57:56.840709",
     "exception": false,
     "start_time": "2025-07-11T19:57:56.825881",
     "status": "completed"
    },
    "tags": []
   },
   "source": [
    "We proceed to the analysis of purchases in order to identify the top vendors by volume of merch and by total cost:"
   ]
  },
  {
   "cell_type": "markdown",
   "id": "1ca9b138",
   "metadata": {
    "papermill": {
     "duration": 0.014894,
     "end_time": "2025-07-11T19:57:56.870837",
     "exception": false,
     "start_time": "2025-07-11T19:57:56.855943",
     "status": "completed"
    },
    "tags": []
   },
   "source": [
    "### Top 10 vendors by purchase volumes <a name=\"chp3_1\"></a>"
   ]
  },
  {
   "cell_type": "code",
   "execution_count": 22,
   "id": "b2c90c8c",
   "metadata": {
    "execution": {
     "iopub.execute_input": "2025-07-11T19:57:56.902234Z",
     "iopub.status.busy": "2025-07-11T19:57:56.901814Z",
     "iopub.status.idle": "2025-07-11T19:57:56.910230Z",
     "shell.execute_reply": "2025-07-11T19:57:56.909248Z"
    },
    "papermill": {
     "duration": 0.025872,
     "end_time": "2025-07-11T19:57:56.911671",
     "exception": false,
     "start_time": "2025-07-11T19:57:56.885799",
     "status": "completed"
    },
    "tags": []
   },
   "outputs": [
    {
     "name": "stdout",
     "output_type": "stream",
     "text": [
      "   VendorName  |    Quantity   |\n",
      " ------------------------------ \n",
      "\n",
      "DIAGEO NORTH AM|    5459788    |\n",
      "\n",
      "JIM BEAM BRANDS|    2737165    |\n",
      "\n",
      "MARTIGNETTI COM|    2637275    |\n",
      "\n",
      "CONSTELLATION B|    2325892    |\n",
      "\n",
      "E & J GALLO WIN|    1858260    |\n",
      "\n",
      "PERNOD RICARD U|    1647558    |\n",
      "\n",
      "BACARDI USA INC|    1427075    |\n",
      "\n",
      "SAZERAC CO INC |    1417727    |\n",
      "\n",
      "M S WALKER INC |    1372841    |\n",
      "\n",
      "ULTRA BEVERAGE |    1077527    |\n",
      "\n"
     ]
    }
   ],
   "source": [
    "q = \"\"\"\n",
    "SELECT \n",
    "VendorName, SUM(Quantity) AS Quantity\n",
    "FROM inv_purch\n",
    "GROUP BY VendorName\n",
    "ORDER BY Quantity DESC\n",
    "\"\"\"\n",
    "\n",
    "print_query(q, conn)"
   ]
  },
  {
   "cell_type": "markdown",
   "id": "bfd3ced2",
   "metadata": {
    "papermill": {
     "duration": 0.015332,
     "end_time": "2025-07-11T19:57:56.942885",
     "exception": false,
     "start_time": "2025-07-11T19:57:56.927553",
     "status": "completed"
    },
    "tags": []
   },
   "source": [
    "### Top 10 Vendors by Purchase Cost <a name=\"chp3_2\"></a>"
   ]
  },
  {
   "cell_type": "code",
   "execution_count": 23,
   "id": "38abc92b",
   "metadata": {
    "execution": {
     "iopub.execute_input": "2025-07-11T19:57:56.975578Z",
     "iopub.status.busy": "2025-07-11T19:57:56.974696Z",
     "iopub.status.idle": "2025-07-11T19:57:56.982946Z",
     "shell.execute_reply": "2025-07-11T19:57:56.981978Z"
    },
    "papermill": {
     "duration": 0.026247,
     "end_time": "2025-07-11T19:57:56.984568",
     "exception": false,
     "start_time": "2025-07-11T19:57:56.958321",
     "status": "completed"
    },
    "tags": []
   },
   "outputs": [
    {
     "name": "stdout",
     "output_type": "stream",
     "text": [
      "   VendorName  |    Dollars    |\n",
      " ------------------------------ \n",
      "\n",
      "DIAGEO NORTH AM|50959796.849999|\n",
      "\n",
      "MARTIGNETTI COM|27821473.909999|\n",
      "\n",
      "JIM BEAM BRANDS|24203151.050000|\n",
      "\n",
      "BACARDI USA INC|17624378.719999|\n",
      "\n",
      "CONSTELLATION B|15573917.899999|\n",
      "\n",
      "E & J GALLO WIN|12289608.089999|\n",
      "\n",
      "M S WALKER INC |   10935817.3  |\n",
      "\n",
      "SAZERAC CO INC |9916770.2599999|\n",
      "\n",
      "ULTRA BEVERAGE |13210613.930000|\n",
      "\n",
      "PERNOD RICARD U|  24124091.56  |\n",
      "\n"
     ]
    }
   ],
   "source": [
    "q = \"\"\"\n",
    "SELECT \n",
    "VendorName, SUM(Dollars) AS Dollars\n",
    "FROM inv_purch\n",
    "GROUP BY VendorName\n",
    "ORDER BY Quantity DESC\n",
    "\"\"\"\n",
    "\n",
    "print_query(q, conn)"
   ]
  },
  {
   "cell_type": "markdown",
   "id": "a86cc9e1",
   "metadata": {
    "papermill": {
     "duration": 0.015347,
     "end_time": "2025-07-11T19:57:57.015833",
     "exception": false,
     "start_time": "2025-07-11T19:57:57.000486",
     "status": "completed"
    },
    "tags": []
   },
   "source": [
    "**Outtakes:**\n",
    "<ul>\n",
    "    <li>Diageo North America dominated as top vendor by both quantity as cost with a large margin.</li>\n",
    "    <li>Martignetti Companies and Jim Beam Brands followed in 2nd and 3rd positions with more than 2 million in purchasing costs.</li>\n",
    "</ul>"
   ]
  },
  {
   "cell_type": "markdown",
   "id": "8163a2f3",
   "metadata": {
    "papermill": {
     "duration": 0.015117,
     "end_time": "2025-07-11T19:57:57.046229",
     "exception": false,
     "start_time": "2025-07-11T19:57:57.031112",
     "status": "completed"
    },
    "tags": []
   },
   "source": [
    "### Top 10 Vendors <a name=\"chp3_4\"></a>"
   ]
  },
  {
   "cell_type": "code",
   "execution_count": 24,
   "id": "0dffafcc",
   "metadata": {
    "execution": {
     "iopub.execute_input": "2025-07-11T19:57:57.078940Z",
     "iopub.status.busy": "2025-07-11T19:57:57.078636Z",
     "iopub.status.idle": "2025-07-11T19:57:57.090554Z",
     "shell.execute_reply": "2025-07-11T19:57:57.089608Z"
    },
    "papermill": {
     "duration": 0.030308,
     "end_time": "2025-07-11T19:57:57.091920",
     "exception": false,
     "start_time": "2025-07-11T19:57:57.061612",
     "status": "completed"
    },
    "tags": []
   },
   "outputs": [
    {
     "name": "stdout",
     "output_type": "stream",
     "text": [
      "   VendorName  |Total_Purchases|\n",
      " ------------------------------ \n",
      "\n",
      "MARTIGNETTI COM|41619.920000000|\n",
      "\n",
      "ULTRA BEVERAGE |33882.720000000|\n",
      "\n",
      "PERFECTA WINES |30584.460000000|\n",
      "\n",
      "SOUTHERN WINE &|18877.399999999|\n",
      "\n",
      "M S WALKER INC |17710.679999999|\n",
      "\n",
      "MOET HENNESSY U|    17505.36   |\n",
      "\n",
      "DIAGEO NORTH AM|16162.679999999|\n",
      "\n",
      "CAMPARI AMERICA|    16026.91   |\n",
      "\n",
      "JIM BEAM BRANDS|    12091.69   |\n",
      "\n",
      "EDRINGTON AMERI|    11453.53   |\n",
      "\n"
     ]
    }
   ],
   "source": [
    "q = \"\"\"\n",
    "SELECT VendorName, SUM(PurchasePrice) AS Total_Purchases\n",
    "FROM purch_prices \n",
    "GROUP BY VendorName\n",
    "ORDER BY Total_Purchases DESC\n",
    "\"\"\"\n",
    "\n",
    "print_query(q, conn)"
   ]
  },
  {
   "cell_type": "markdown",
   "id": "fbf88420",
   "metadata": {
    "papermill": {
     "duration": 0.016052,
     "end_time": "2025-07-11T19:57:57.125342",
     "exception": false,
     "start_time": "2025-07-11T19:57:57.109290",
     "status": "completed"
    },
    "tags": []
   },
   "source": [
    "## Optimal Stock Level <a name=\"chp4\"></a>"
   ]
  },
  {
   "cell_type": "markdown",
   "id": "d038c7e1",
   "metadata": {
    "papermill": {
     "duration": 0.015392,
     "end_time": "2025-07-11T19:57:57.156677",
     "exception": false,
     "start_time": "2025-07-11T19:57:57.141285",
     "status": "completed"
    },
    "tags": []
   },
   "source": [
    "The objective of this section is to compute the minimal amount of stocks products to satisfy the buyers' demand while not overbuying; we first calculate for each products the average and maximum daily sales:"
   ]
  },
  {
   "cell_type": "markdown",
   "id": "5b30e47a",
   "metadata": {
    "papermill": {
     "duration": 0.015258,
     "end_time": "2025-07-11T19:57:57.187580",
     "exception": false,
     "start_time": "2025-07-11T19:57:57.172322",
     "status": "completed"
    },
    "tags": []
   },
   "source": [
    "### Sales velocity <a name=\"chp4_1\"></a>"
   ]
  },
  {
   "cell_type": "code",
   "execution_count": 25,
   "id": "1a7d3c89",
   "metadata": {
    "execution": {
     "iopub.execute_input": "2025-07-11T19:57:57.220114Z",
     "iopub.status.busy": "2025-07-11T19:57:57.219801Z",
     "iopub.status.idle": "2025-07-11T19:57:58.724879Z",
     "shell.execute_reply": "2025-07-11T19:57:58.723751Z"
    },
    "papermill": {
     "duration": 1.523113,
     "end_time": "2025-07-11T19:57:58.726471",
     "exception": false,
     "start_time": "2025-07-11T19:57:57.203358",
     "status": "completed"
    },
    "tags": []
   },
   "outputs": [
    {
     "name": "stdout",
     "output_type": "stream",
     "text": [
      "     Brand     |  Description  |   TotalSales  |  SalesPerDay  | MaxDailySales |\n",
      " --------------------------------------------------------------------------- \n",
      "\n",
      "       58      |Gekkeikan Black|      288      |4.8813559322033|       7       |\n",
      "\n",
      "       60      |Canadian Club 1|      124      |2.1016949152542|       3       |\n",
      "\n",
      "       61      |Margaritaville |       24      |0.4067796610169|       12      |\n",
      "\n",
      "       62      |Herradura Silve|      162      |2.7457627118644|       3       |\n",
      "\n",
      "       63      |Herradura Repos|      131      |2.2203389830508|       4       |\n",
      "\n",
      "       72      |No. 3 London Dr|       19      |0.3220338983050|       3       |\n",
      "\n",
      "       75      |Three Olives To|       3       |0.0508474576271|       1       |\n",
      "\n",
      "       77      |Three Olives Es|      908      |15.389830508474|       8       |\n",
      "\n",
      "       79      |Three Olives Lo|      416      |7.0508474576271|       5       |\n",
      "\n",
      "       82      |Hundred Acre Ar|       3       |0.0508474576271|       3       |\n",
      "\n"
     ]
    }
   ],
   "source": [
    "q = \"\"\"\n",
    "DROP VIEW IF EXISTS sales_velocity;\n",
    "CREATE VIEW IF NOT EXISTS sales_velocity AS\n",
    "WITH total_days AS\n",
    "(\n",
    "SELECT MAX(JULIANDAY(SalesDate)) - MIN(JULIANDAY(SalesDate)) AS TotalDays\n",
    "FROM sales_final\n",
    ")\n",
    "SELECT sales_final.Brand, sales_final.Description, SUM(sales_final.SalesQuantity) AS TotalSales,\n",
    "SUM(sales_final.SalesQuantity)/total_days.TotalDays AS SalesPerDay,\n",
    "MAX(sales_final.SalesQuantity) AS MaxDailySales\n",
    "FROM sales_final, total_days \n",
    "GROUP BY sales_final.Brand, sales_final.Description;\n",
    "\"\"\"\n",
    "\n",
    "try:\n",
    "    cur = conn.cursor()\n",
    "    cur.executescript(q)\n",
    "    conn.commit()\n",
    "except Exception as e:\n",
    "    print('Unable to commit due to the following error: ', e)\n",
    "finally:\n",
    "    cur.close()   \n",
    "\n",
    "q = \"\"\"\n",
    "SELECT * FROM sales_velocity\n",
    "\"\"\"\n",
    "\n",
    "cur = conn.cursor()\n",
    "try:\n",
    "    cur.execute(q)\n",
    "    rows = cur.fetchall()\n",
    "    cnames = list(map(lambda x: x[0], cur.description))\n",
    "    format_table(rows_data = rows, headers = cnames)\n",
    "except Exception as e:\n",
    "    print('Unable to query the database due to the following error: ', e)\n",
    "finally:\n",
    "    cur.close()"
   ]
  },
  {
   "cell_type": "markdown",
   "id": "96b52f7b",
   "metadata": {
    "papermill": {
     "duration": 0.015625,
     "end_time": "2025-07-11T19:57:58.758014",
     "exception": false,
     "start_time": "2025-07-11T19:57:58.742389",
     "status": "completed"
    },
    "tags": []
   },
   "source": [
    "We observe that some values of maximum daily sales are lower than the average: this can be due to outliers, data entry errors or computational errors and will be rectified later on.</br>\n",
    "We then compute the average receiving time by product, <em>AvgLeadTime</em>:"
   ]
  },
  {
   "cell_type": "code",
   "execution_count": 26,
   "id": "21abda90",
   "metadata": {
    "execution": {
     "iopub.execute_input": "2025-07-11T19:57:58.791122Z",
     "iopub.status.busy": "2025-07-11T19:57:58.790850Z",
     "iopub.status.idle": "2025-07-11T19:58:02.276403Z",
     "shell.execute_reply": "2025-07-11T19:58:02.275302Z"
    },
    "papermill": {
     "duration": 3.503956,
     "end_time": "2025-07-11T19:58:02.278071",
     "exception": false,
     "start_time": "2025-07-11T19:57:58.774115",
     "status": "completed"
    },
    "tags": []
   },
   "outputs": [
    {
     "name": "stdout",
     "output_type": "stream",
     "text": [
      "     Brand     |  Description  |  AvgLeadTime  |\n",
      " --------------------------------------------- \n",
      "\n",
      "       58      |Gekkeikan Black|7.7583892617449|\n",
      "\n",
      "       60      |Canadian Club 1|7.6597938144329|\n",
      "\n",
      "       61      |Margaritaville |8.1153846153846|\n",
      "\n",
      "       62      |Herradura Silve|7.3315696649029|\n",
      "\n",
      "       63      |Herradura Repos|7.3244274809160|\n",
      "\n",
      "       70      |Luxardo Amarett|7.3333333333333|\n",
      "\n",
      "       72      |No. 3 London Dr|8.6363636363636|\n",
      "\n",
      "       75      |Three Olives To|      7.0      |\n",
      "\n",
      "       77      |Three Olives Es|7.2921615201900|\n",
      "\n",
      "       79      |Three Olives Lo|7.2701612903225|\n",
      "\n"
     ]
    }
   ],
   "source": [
    "q = \"\"\"\n",
    "DROP VIEW IF EXISTS purch_ltime;\n",
    "CREATE VIEW IF NOT EXISTS purch_ltime AS\n",
    "WITH purch_ld AS\n",
    "(\n",
    "SELECT *, JULIANDAY(ReceivingDate) - JULIANDAY(PODate) AS LeadTime\n",
    "FROM purch_final\n",
    ")\n",
    "SELECT Brand, Description, AVG(LeadTime) AS AvgLeadTime \n",
    "FROM purch_ld\n",
    "GROUP BY Brand, Description;\n",
    "\"\"\"\n",
    "\n",
    "cur = conn.cursor()\n",
    "try:\n",
    "    cur.executescript(q)\n",
    "    conn.commit()\n",
    "except Exception as e:\n",
    "    print('Unable to commit due to the following error: ', e)\n",
    "finally:\n",
    "    cur.close()\n",
    "\n",
    "q = \"\"\"\n",
    "SELECT * FROM purch_ltime\n",
    "\"\"\"\n",
    "\n",
    "cur = conn.cursor()\n",
    "try:\n",
    "    cur.execute(q)\n",
    "    rows = cur.fetchall()\n",
    "    cnames = list(map(lambda x: x[0], cur.description))\n",
    "    format_table(rows_data = rows, headers = cnames)\n",
    "except Exception as e:\n",
    "    print('Unable to query the database due to the following error: ', e)\n",
    "finally:\n",
    "    cur.close()"
   ]
  },
  {
   "cell_type": "markdown",
   "id": "66828f07",
   "metadata": {
    "papermill": {
     "duration": 0.015752,
     "end_time": "2025-07-11T19:58:02.315381",
     "exception": false,
     "start_time": "2025-07-11T19:58:02.299629",
     "status": "completed"
    },
    "tags": []
   },
   "source": [
    "We finally are able to compute how much products units we should restock, we actually provide two suggestions:\n",
    "<ul>\n",
    "    <li>OptimalStockLevel (OSL): the minimum predicted stock level, chosen when it's preferred to minimize overbuying risk, and it's calculated by simply multiplying the average daily sales and lead time:</br> \n",
    "    \n",
    "$OSL = SalesPerDay \\times AvgLeadTime$   </li>\n",
    "    <li>RecommendedStockLevel (RSL): when the priority is to ensure product availability we add to the OSL a margin, called <em>SafetyStock</em>, computed as the difference between the maximum and the average daily sales (if there'll be a spike in sales we assume it won't be greater than the maximum level ever encounterd before):</br>\n",
    "$SafetyStock = (MaxDailySales - SalesPerDay)$</br>\n",
    "$RSL = OSL + SafetyStock$</li>\n",
    "</ul>"
   ]
  },
  {
   "cell_type": "code",
   "execution_count": 27,
   "id": "c372af4e",
   "metadata": {
    "execution": {
     "iopub.execute_input": "2025-07-11T19:58:02.348324Z",
     "iopub.status.busy": "2025-07-11T19:58:02.347978Z",
     "iopub.status.idle": "2025-07-11T19:58:07.282199Z",
     "shell.execute_reply": "2025-07-11T19:58:07.281206Z"
    },
    "papermill": {
     "duration": 4.952665,
     "end_time": "2025-07-11T19:58:07.284044",
     "exception": false,
     "start_time": "2025-07-11T19:58:02.331379",
     "status": "completed"
    },
    "tags": []
   },
   "outputs": [
    {
     "name": "stdout",
     "output_type": "stream",
     "text": [
      "     Brand     |  Description  |   TotalSales  |  SalesPerDay  | MaxDailySales |  SafetyStock  |  AvgLeadTime  |OptimalStockLev|RecommendedStoc|\n",
      " --------------------------------------------------------------------------------------------------------------------------------------- \n",
      "\n",
      "       58      |Gekkeikan Black|      288      |4.8813559322033|       7       |2.1186440677966|7.7583892617449|      38.0     |40.118644067796|\n",
      "\n",
      "       60      |Canadian Club 1|      124      |2.1016949152542|       3       |0.8983050847457|7.6597938144329|      16.0     |16.898305084745|\n",
      "\n",
      "       61      |Margaritaville |       24      |0.4067796610169|       12      |11.593220338983|8.1153846153846|      3.0      |14.593220338983|\n",
      "\n",
      "       62      |Herradura Silve|      162      |2.7457627118644|       3       |0.2542372881355|7.3315696649029|      20.0     |20.254237288135|\n",
      "\n",
      "       63      |Herradura Repos|      131      |2.2203389830508|       4       |1.7796610169491|7.3244274809160|      16.0     |17.779661016949|\n",
      "\n",
      "       72      |No. 3 London Dr|       19      |0.3220338983050|       3       |2.6779661016949|8.6363636363636|      3.0      |5.6779661016949|\n",
      "\n",
      "       75      |Three Olives To|       3       |0.0508474576271|       1       |0.9491525423728|      7.0      |      0.0      |0.9491525423728|\n",
      "\n",
      "       77      |Three Olives Es|      908      |15.389830508474|       8       |-7.389830508474|7.2921615201900|     112.0     |104.61016949152|\n",
      "\n",
      "       79      |Three Olives Lo|      416      |7.0508474576271|       5       |-2.050847457627|7.2701612903225|      51.0     |48.949152542372|\n",
      "\n",
      "       82      |Hundred Acre Ar|       3       |0.0508474576271|       3       |2.9491525423728|6.3333333333333|      0.0      |2.9491525423728|\n",
      "\n"
     ]
    }
   ],
   "source": [
    "q = \"\"\"\n",
    "DROP TABLE IF EXISTS stocks_data;\n",
    "CREATE TABLE IF NOT EXISTS stocks_data AS\n",
    "WITH temp AS\n",
    "(\n",
    "SELECT sales_velocity.*,\n",
    "sales_velocity.MaxDailySales - sales_velocity.SalesPerDay AS SafetyStock, \n",
    "purch_ltime.AvgLeadTime \n",
    "FROM sales_velocity LEFT JOIN purch_ltime \n",
    "ON sales_velocity.Brand = purch_ltime.Brand AND\n",
    "sales_velocity.Description = purch_ltime.Description\n",
    ")\n",
    "SELECT *, \n",
    "ROUND(temp.SalesPerDay * temp.AvgLeadTime) AS OptimalStockLevel,\n",
    "ROUND(temp.SalesPerDay * temp.AvgLeadTime) + temp.SafetyStock AS RecommendedStockLevel\n",
    "FROM temp;\n",
    "\"\"\"\n",
    "\n",
    "cur = conn.cursor()\n",
    "try:\n",
    "    cur.executescript(q)\n",
    "    conn.commit()\n",
    "except Exception as e:\n",
    "    print('Unable to commit due to the following error: ', e)\n",
    "finally:\n",
    "    cur.close()\n",
    "\n",
    "q = \"\"\"\n",
    "SELECT * FROM stocks_data\n",
    "\"\"\"\n",
    "\n",
    "cur = conn.cursor()\n",
    "try:\n",
    "    cur.execute(q)\n",
    "    rows = cur.fetchall()\n",
    "    cnames = list(map(lambda x: x[0], cur.description))\n",
    "    format_table(rows_data = rows, headers = cnames)\n",
    "except Exception as e:\n",
    "    print('Unable to query the database due to the following error: ', e)\n",
    "finally:\n",
    "    cur.close()"
   ]
  },
  {
   "cell_type": "markdown",
   "id": "1232093c",
   "metadata": {
    "papermill": {
     "duration": 0.015823,
     "end_time": "2025-07-11T19:58:07.315967",
     "exception": false,
     "start_time": "2025-07-11T19:58:07.300144",
     "status": "completed"
    },
    "tags": []
   },
   "source": [
    "### Special case: problematic products <a name=\"chp4_1_1\"></a>"
   ]
  },
  {
   "cell_type": "markdown",
   "id": "4f3679cb",
   "metadata": {
    "papermill": {
     "duration": 0.015664,
     "end_time": "2025-07-11T19:58:07.347431",
     "exception": false,
     "start_time": "2025-07-11T19:58:07.331767",
     "status": "completed"
    },
    "tags": []
   },
   "source": [
    "We previously noted how in some entries <em>SalesPerDay</em> is incorrectly greater than <em>MaxDailySales</em>; this leads to misleading stock level, as immediately apparent by the negative amount of <em>SafetyStock</em> as shown below:"
   ]
  },
  {
   "cell_type": "code",
   "execution_count": 28,
   "id": "7455d8be",
   "metadata": {
    "execution": {
     "iopub.execute_input": "2025-07-11T19:58:07.380881Z",
     "iopub.status.busy": "2025-07-11T19:58:07.379917Z",
     "iopub.status.idle": "2025-07-11T19:58:07.387709Z",
     "shell.execute_reply": "2025-07-11T19:58:07.386567Z"
    },
    "papermill": {
     "duration": 0.025582,
     "end_time": "2025-07-11T19:58:07.389093",
     "exception": false,
     "start_time": "2025-07-11T19:58:07.363511",
     "status": "completed"
    },
    "tags": []
   },
   "outputs": [
    {
     "name": "stdout",
     "output_type": "stream",
     "text": [
      "     Brand     |  Description  |  SalesPerDay  | MaxDailySales |  SafetyStock  |\n",
      " --------------------------------------------------------------------------- \n",
      "\n",
      "       77      |Three Olives Es|15.389830508474|       8       |-7.389830508474|\n",
      "\n",
      "       79      |Three Olives Lo|7.0508474576271|       5       |-2.050847457627|\n",
      "\n",
      "      273      |Sauza Extra Gol|10.372881355932|       9       |-1.372881355932|\n",
      "\n",
      "      482      |Absolut 80 Proo|37.135593220338|       23      |-14.13559322033|\n",
      "\n",
      "      497      |Capt Morgan Spi|39.644067796610|       38      |-1.644067796610|\n",
      "\n",
      "      597      |Baileys Irish C|      14.0     |       13      |      -1.0     |\n",
      "\n",
      "      653      |Dom de Canton G|4.2881355932203|       4       |-0.288135593220|\n",
      "\n",
      "      676      |Pinnacle Whippe|13.745762711864|       6       |-7.745762711864|\n",
      "\n",
      "      811      |Jack Daniels No|30.322033898305|       26      |-4.322033898305|\n",
      "\n",
      "      812      |Jagermeister Li|19.932203389830|       14      |-5.932203389830|\n",
      "\n"
     ]
    }
   ],
   "source": [
    "q = \"\"\"\n",
    "SELECT Brand, Description, SalesPerDay, MaxDailySales, SafetyStock \n",
    "FROM stocks_data\n",
    "WHERE SalesPerDay > MaxDailySales\n",
    "\"\"\"\n",
    "\n",
    "print_query(q, conn)"
   ]
  },
  {
   "cell_type": "markdown",
   "id": "6434c53a",
   "metadata": {
    "papermill": {
     "duration": 0.016489,
     "end_time": "2025-07-11T19:58:07.422087",
     "exception": false,
     "start_time": "2025-07-11T19:58:07.405598",
     "status": "completed"
    },
    "tags": []
   },
   "source": [
    "To correct the results from the entries where the average daily sales exceeded the maximum; without any additional information we impose some simple constraints:\n",
    "<ul>\n",
    "    <li>Set maximum daily sales equal to the average.</li>\n",
    "    <li>Set SafetyStock equals to zero.</li>\n",
    "    <li>Set the recommended stock level equal to the optimal stock level</li>\n",
    "</ul>"
   ]
  },
  {
   "cell_type": "code",
   "execution_count": 29,
   "id": "8685f787",
   "metadata": {
    "execution": {
     "iopub.execute_input": "2025-07-11T19:58:07.455959Z",
     "iopub.status.busy": "2025-07-11T19:58:07.455675Z",
     "iopub.status.idle": "2025-07-11T19:58:07.481707Z",
     "shell.execute_reply": "2025-07-11T19:58:07.480715Z"
    },
    "papermill": {
     "duration": 0.044592,
     "end_time": "2025-07-11T19:58:07.483038",
     "exception": false,
     "start_time": "2025-07-11T19:58:07.438446",
     "status": "completed"
    },
    "tags": []
   },
   "outputs": [
    {
     "name": "stdout",
     "output_type": "stream",
     "text": [
      "     Brand     |  Description  |   TotalSales  |  SalesPerDay  | MaxDailySales |  SafetyStock  |  AvgLeadTime  |OptimalStockLev|RecommendedStoc|\n",
      " --------------------------------------------------------------------------------------------------------------------------------------- \n",
      "\n",
      "       77      |Three Olives Es|      908      |15.389830508474|15.389830508474|       0       |7.2921615201900|     112.0     |     112.0     |\n",
      "\n",
      "       79      |Three Olives Lo|      416      |7.0508474576271|7.0508474576271|       0       |7.2701612903225|      51.0     |      51.0     |\n",
      "\n",
      "      273      |Sauza Extra Gol|      612      |10.372881355932|10.372881355932|       0       |7.4981273408239|      78.0     |      78.0     |\n",
      "\n",
      "      482      |Absolut 80 Proo|      2191     |37.135593220338|37.135593220338|       0       |7.4286321155480|     276.0     |     276.0     |\n",
      "\n",
      "      497      |Capt Morgan Spi|      2339     |39.644067796610|39.644067796610|       0       |7.4407894736842|     295.0     |     295.0     |\n",
      "\n",
      "      597      |Baileys Irish C|      826      |      14.0     |      14.0     |       0       |7.4222222222222|     104.0     |     104.0     |\n",
      "\n",
      "      653      |Dom de Canton G|      253      |4.2881355932203|4.2881355932203|       0       |7.4589371980676|      32.0     |      32.0     |\n",
      "\n",
      "      676      |Pinnacle Whippe|      811      |13.745762711864|13.745762711864|       0       |7.5859441151566|     104.0     |     104.0     |\n",
      "\n",
      "      811      |Jack Daniels No|      1789     |30.322033898305|30.322033898305|       0       |7.5634218289085|     229.0     |     229.0     |\n",
      "\n",
      "      812      |Jagermeister Li|      1176     |19.932203389830|19.932203389830|       0       |7.7980769230769|     155.0     |     155.0     |\n",
      "\n"
     ]
    }
   ],
   "source": [
    "q = \"\"\"\n",
    "UPDATE stocks_data \n",
    "SET MaxDailySales = SalesPerDay,\n",
    "SafetyStock = 0,\n",
    "RecommendedStockLevel = OptimalStockLevel\n",
    "WHERE SalesPerDay > MaxDailySales;\n",
    "\"\"\"\n",
    "\n",
    "cur = conn.cursor()\n",
    "try:\n",
    "    cur.executescript(q)\n",
    "    conn.commit()\n",
    "except Exception as e:\n",
    "    print('Unable to commit due to the following error: ', e)\n",
    "finally:\n",
    "    cur.close()\n",
    "\n",
    "q = \"\"\"\n",
    "SELECT * FROM stocks_data\n",
    "WHERE SafetyStock = 0\n",
    "\"\"\"\n",
    "\n",
    "cur = conn.cursor()\n",
    "try:\n",
    "    cur.execute(q)\n",
    "    rows = cur.fetchall()\n",
    "    cnames = list(map(lambda x: x[0], cur.description))\n",
    "    format_table(rows_data = rows, headers = cnames)\n",
    "except Exception as e:\n",
    "    print('Unable to query the database due to the following error: ', e)\n",
    "finally:\n",
    "    cur.close()"
   ]
  },
  {
   "cell_type": "markdown",
   "id": "251c6b72",
   "metadata": {
    "papermill": {
     "duration": 0.01544,
     "end_time": "2025-07-11T19:58:07.514422",
     "exception": false,
     "start_time": "2025-07-11T19:58:07.498982",
     "status": "completed"
    },
    "tags": []
   },
   "source": [
    "Let's visualize the recommended stock levels:"
   ]
  },
  {
   "cell_type": "code",
   "execution_count": 30,
   "id": "e66601cc",
   "metadata": {
    "execution": {
     "iopub.execute_input": "2025-07-11T19:58:07.547016Z",
     "iopub.status.busy": "2025-07-11T19:58:07.546731Z",
     "iopub.status.idle": "2025-07-11T19:58:09.897412Z",
     "shell.execute_reply": "2025-07-11T19:58:09.896558Z"
    },
    "papermill": {
     "duration": 2.370077,
     "end_time": "2025-07-11T19:58:09.899891",
     "exception": false,
     "start_time": "2025-07-11T19:58:07.529814",
     "status": "completed"
    },
    "tags": []
   },
   "outputs": [
    {
     "data": {
      "image/png": "[encoded data removed]",
      "text/plain": [
       "<Figure size 1200x1000 with 1 Axes>"
      ]
     },
     "metadata": {},
     "output_type": "display_data"
    }
   ],
   "source": [
    "q = \"\"\"\n",
    "SELECT Description, RecommendedStockLevel\n",
    "FROM stocks_data\n",
    "ORDER BY RecommendedStockLevel DESC\n",
    "LIMIT 20\n",
    "\"\"\"\n",
    "\n",
    "cnames, rows = get_query(q, conn)\n",
    "top20_recommended_stock = pd.DataFrame(data = rows, columns = cnames)\n",
    "_, ax = plt.subplots(figsize = (12, 10))\n",
    "sns.barplot(data = top20_recommended_stock, x = 'RecommendedStockLevel', y = 'Description', hue = 'Description', ax = ax)\n",
    "plt.show()"
   ]
  },
  {
   "cell_type": "markdown",
   "id": "38f0b647",
   "metadata": {
    "papermill": {
     "duration": 0.017578,
     "end_time": "2025-07-11T19:58:09.935994",
     "exception": false,
     "start_time": "2025-07-11T19:58:09.918416",
     "status": "completed"
    },
    "tags": []
   },
   "source": [
    "Studying the distribution of SafetyStock we observe than the vast majority of product has little to no need of a safety margin, making less of a difference between recommended and optimal stock levels:"
   ]
  },
  {
   "cell_type": "code",
   "execution_count": 31,
   "id": "18523d50",
   "metadata": {
    "execution": {
     "iopub.execute_input": "2025-07-11T19:58:09.972673Z",
     "iopub.status.busy": "2025-07-11T19:58:09.972365Z",
     "iopub.status.idle": "2025-07-11T19:58:10.195314Z",
     "shell.execute_reply": "2025-07-11T19:58:10.194403Z"
    },
    "papermill": {
     "duration": 0.242914,
     "end_time": "2025-07-11T19:58:10.196579",
     "exception": false,
     "start_time": "2025-07-11T19:58:09.953665",
     "status": "completed"
    },
    "tags": []
   },
   "outputs": [
    {
     "name": "stderr",
     "output_type": "stream",
     "text": [
      "/usr/local/lib/python3.11/dist-packages/seaborn/_oldcore.py:1119: FutureWarning: use_inf_as_na option is deprecated and will be removed in a future version. Convert inf values to NaN before operating instead.\n",
      "  with pd.option_context('mode.use_inf_as_na', True):\n"
     ]
    },
    {
     "data": {
      "image/png": "[encoded data removed]",
      "text/plain": [
       "<Figure size 1200x1000 with 1 Axes>"
      ]
     },
     "metadata": {},
     "output_type": "display_data"
    }
   ],
   "source": [
    "q = \"\"\"\n",
    "SELECT SafetyStock\n",
    "FROM stocks_data\n",
    "\"\"\"\n",
    "\n",
    "cnames, rows = get_query(q, conn)\n",
    "safety_stock = pd.DataFrame(data = rows, columns = cnames)\n",
    "_, ax = plt.subplots(figsize = (12, 10))\n",
    "sns.histplot(data = safety_stock, x = 'SafetyStock', bins = 30, ax = ax)\n",
    "plt.show()"
   ]
  },
  {
   "cell_type": "code",
   "execution_count": 32,
   "id": "7fe36668",
   "metadata": {
    "execution": {
     "iopub.execute_input": "2025-07-11T19:58:10.235378Z",
     "iopub.status.busy": "2025-07-11T19:58:10.235020Z",
     "iopub.status.idle": "2025-07-11T19:58:10.451645Z",
     "shell.execute_reply": "2025-07-11T19:58:10.450752Z"
    },
    "papermill": {
     "duration": 0.237855,
     "end_time": "2025-07-11T19:58:10.452961",
     "exception": false,
     "start_time": "2025-07-11T19:58:10.215106",
     "status": "completed"
    },
    "tags": []
   },
   "outputs": [
    {
     "name": "stderr",
     "output_type": "stream",
     "text": [
      "/usr/local/lib/python3.11/dist-packages/seaborn/_oldcore.py:1119: FutureWarning: use_inf_as_na option is deprecated and will be removed in a future version. Convert inf values to NaN before operating instead.\n",
      "  with pd.option_context('mode.use_inf_as_na', True):\n"
     ]
    },
    {
     "data": {
      "image/png": "[encoded data removed]",
      "text/plain": [
       "<Figure size 1200x1000 with 1 Axes>"
      ]
     },
     "metadata": {},
     "output_type": "display_data"
    }
   ],
   "source": [
    "q = \"\"\"\n",
    "SELECT AvgLeadTime\n",
    "FROM stocks_data\n",
    "\"\"\"\n",
    "\n",
    "cnames, rows = get_query(q, conn)\n",
    "safety_stock = pd.DataFrame(data = rows, columns = cnames)\n",
    "_, ax = plt.subplots(figsize = (12, 10))\n",
    "sns.histplot(data = safety_stock, x = 'AvgLeadTime', bins = 30, ax = ax)\n",
    "plt.show()"
   ]
  },
  {
   "cell_type": "markdown",
   "id": "0ddf3493",
   "metadata": {
    "papermill": {
     "duration": 0.018853,
     "end_time": "2025-07-11T19:58:10.490934",
     "exception": false,
     "start_time": "2025-07-11T19:58:10.472081",
     "status": "completed"
    },
    "tags": []
   },
   "source": [
    "## Optimal orders calculation <a name=\"chp5\"></a>"
   ]
  },
  {
   "cell_type": "markdown",
   "id": "700b61c5",
   "metadata": {
    "papermill": {
     "duration": 0.018425,
     "end_time": "2025-07-11T19:58:10.528069",
     "exception": false,
     "start_time": "2025-07-11T19:58:10.509644",
     "status": "completed"
    },
    "tags": []
   },
   "source": [
    "Once the desired stock level is computed (we'll use the <em>RecommendedStockLevel</em> in this example), we can calculate the orders to place to replenish our inventory accordingly; we first check how many units of each product we have \"currently\", that is at the last date in the inventory data:"
   ]
  },
  {
   "cell_type": "code",
   "execution_count": 33,
   "id": "d82e454a",
   "metadata": {
    "execution": {
     "iopub.execute_input": "2025-07-11T19:58:10.566814Z",
     "iopub.status.busy": "2025-07-11T19:58:10.566507Z",
     "iopub.status.idle": "2025-07-11T19:58:10.879562Z",
     "shell.execute_reply": "2025-07-11T19:58:10.878478Z"
    },
    "papermill": {
     "duration": 0.334326,
     "end_time": "2025-07-11T19:58:10.881060",
     "exception": false,
     "start_time": "2025-07-11T19:58:10.546734",
     "status": "completed"
    },
    "tags": []
   },
   "outputs": [
    {
     "name": "stdout",
     "output_type": "stream",
     "text": [
      "     Brand     |  Description  |   TotalSales  |  SalesPerDay  | MaxDailySales |  SafetyStock  |  AvgLeadTime  |OptimalStockLev|RecommendedStoc|  CurrentStock |\n",
      " ------------------------------------------------------------------------------------------------------------------------------------------------------ \n",
      "\n",
      "       58      |Gekkeikan Black|      288      |4.8813559322033|       7       |2.1186440677966|7.7583892617449|      38.0     |40.118644067796|      385      |\n",
      "\n",
      "       60      |Canadian Club 1|      124      |2.1016949152542|       3       |0.8983050847457|7.6597938144329|      16.0     |16.898305084745|      146      |\n",
      "\n",
      "       61      |Margaritaville |       24      |0.4067796610169|       12      |11.593220338983|8.1153846153846|      3.0      |14.593220338983|       12      |\n",
      "\n",
      "       62      |Herradura Silve|      162      |2.7457627118644|       3       |0.2542372881355|7.3315696649029|      20.0     |20.254237288135|      459      |\n",
      "\n",
      "       63      |Herradura Repos|      131      |2.2203389830508|       4       |1.7796610169491|7.3244274809160|      16.0     |17.779661016949|      442      |\n",
      "\n",
      "       72      |No. 3 London Dr|       19      |0.3220338983050|       3       |2.6779661016949|8.6363636363636|      3.0      |5.6779661016949|      139      |\n",
      "\n",
      "       75      |Three Olives To|       3       |0.0508474576271|       1       |0.9491525423728|      7.0      |      0.0      |0.9491525423728|       7       |\n",
      "\n",
      "       77      |Three Olives Es|      908      |15.389830508474|15.389830508474|       0       |7.2921615201900|     112.0     |     112.0     |      1764     |\n",
      "\n",
      "       79      |Three Olives Lo|      416      |7.0508474576271|7.0508474576271|       0       |7.2701612903225|      51.0     |      51.0     |      995      |\n",
      "\n",
      "       86      |Don Julio Real |       1       |0.0169491525423|       1       |0.9830508474576|7.3333333333333|      0.0      |0.9830508474576|       18      |\n",
      "\n"
     ]
    }
   ],
   "source": [
    "q = \"\"\"\n",
    "DROP TABLE IF EXISTS stocks_orders;\n",
    "CREATE TABLE IF NOT EXISTS stocks_orders AS\n",
    "WITH max_date AS\n",
    "(\n",
    "SELECT MAX(JULIANDAY(endDate)) AS MaxEndDate \n",
    "FROM end_inv_full\n",
    "),\n",
    "current_stock AS\n",
    "(\n",
    "SELECT end_inv_full.Brand, end_inv_full.Description, SUM(end_inv_full.onHand) AS CurrentStock, max_date.MaxEndDate\n",
    "FROM end_inv_full, max_date\n",
    "WHERE JULIANDAY(end_inv_full.endDate) = max_date.MaxEndDate\n",
    "GROUP BY end_inv_full.Brand, end_inv_full.Description\n",
    ")\n",
    "SELECT stocks_data.*, current_stock.CurrentStock \n",
    "FROM stocks_data JOIN current_stock \n",
    "ON stocks_data.Brand = current_stock.Brand AND\n",
    "stocks_data.Description = current_stock.Description;\n",
    "\"\"\"\n",
    "\n",
    "cur = conn.cursor()\n",
    "try:\n",
    "    cur.executescript(q)\n",
    "    conn.commit()\n",
    "except Exception as e:\n",
    "    print('Unable to commit due to the following error: ', e)\n",
    "finally:\n",
    "    cur.close()\n",
    "\n",
    "q = \"\"\"\n",
    "SELECT * FROM stocks_orders\n",
    "\"\"\"\n",
    "\n",
    "cur = conn.cursor()\n",
    "try:\n",
    "    cur.execute(q)\n",
    "    rows = cur.fetchall()\n",
    "    cnames = list(map(lambda x: x[0], cur.description))\n",
    "    format_table(rows_data = rows, headers = cnames)\n",
    "except Exception as e:\n",
    "    print('Unable to query the database due to the following error: ', e)\n",
    "finally:\n",
    "    cur.close()"
   ]
  },
  {
   "cell_type": "code",
   "execution_count": 34,
   "id": "9ed9487b",
   "metadata": {
    "execution": {
     "iopub.execute_input": "2025-07-11T19:58:10.919755Z",
     "iopub.status.busy": "2025-07-11T19:58:10.919458Z",
     "iopub.status.idle": "2025-07-11T19:58:10.941249Z",
     "shell.execute_reply": "2025-07-11T19:58:10.940319Z"
    },
    "papermill": {
     "duration": 0.042894,
     "end_time": "2025-07-11T19:58:10.942746",
     "exception": false,
     "start_time": "2025-07-11T19:58:10.899852",
     "status": "completed"
    },
    "tags": []
   },
   "outputs": [
    {
     "name": "stdout",
     "output_type": "stream",
     "text": [
      "['Brand', 'Description', 'TotalSales', 'SalesPerDay', 'MaxDailySales', 'SafetyStock', 'AvgLeadTime', 'OptimalStockLevel', 'RecommendedStockLevel', 'CurrentStock']\n"
     ]
    }
   ],
   "source": [
    "q = \"\"\"\n",
    "SELECT * FROM stocks_orders\n",
    "\"\"\"\n",
    "\n",
    "cur = conn.cursor()\n",
    "try:\n",
    "    cur.execute(q)\n",
    "    rows = cur.fetchall()\n",
    "    cnames = list(map(lambda x: x[0], cur.description))\n",
    "    print(cnames)\n",
    "    #format_table(rows_data = rows, headers = cnames)\n",
    "except Exception as e:\n",
    "    print('Unable to query the database due to the following error: ', e)\n",
    "finally:\n",
    "    cur.close()"
   ]
  },
  {
   "cell_type": "markdown",
   "id": "f3e4532c",
   "metadata": {
    "papermill": {
     "duration": 0.018724,
     "end_time": "2025-07-11T19:58:10.981249",
     "exception": false,
     "start_time": "2025-07-11T19:58:10.962525",
     "status": "completed"
    },
    "tags": []
   },
   "source": [
    "Then we simply define our orders as the difference between the recommended stock level and the current one:"
   ]
  },
  {
   "cell_type": "code",
   "execution_count": 35,
   "id": "bd605e8a",
   "metadata": {
    "execution": {
     "iopub.execute_input": "2025-07-11T19:58:11.020302Z",
     "iopub.status.busy": "2025-07-11T19:58:11.019939Z",
     "iopub.status.idle": "2025-07-11T19:58:11.071885Z",
     "shell.execute_reply": "2025-07-11T19:58:11.070854Z"
    },
    "papermill": {
     "duration": 0.073401,
     "end_time": "2025-07-11T19:58:11.073476",
     "exception": false,
     "start_time": "2025-07-11T19:58:11.000075",
     "status": "completed"
    },
    "tags": []
   },
   "outputs": [
    {
     "name": "stdout",
     "output_type": "stream",
     "text": [
      "     Brand     |  Description  |  CurrentStock |RecommendedStoc| OrderQuantity |\n",
      " --------------------------------------------------------------------------- \n",
      "\n",
      "      4227     |Bacardi Superio|      397      |     1312.0    |     915.0     |\n",
      "\n",
      "     36380     |Sebastiani Znfd|       6       |     539.0     |     533.0     |\n",
      "\n",
      "      4903     |Bacardi Superio|       8       |499.52542372881|491.52542372881|\n",
      "\n",
      "      2792     | Jim Beam Apple|       53      |456.30508474576|403.30508474576|\n",
      "\n",
      "      3783     |Ciroc Apple Vod|       7       |     356.0     |     349.0     |\n",
      "\n",
      "      3300     |Smirnoff Sorbet|       55      |     399.0     |     344.0     |\n",
      "\n",
      "      2704     |Serpent's Bite |      116      |431.01694915254|315.01694915254|\n",
      "\n",
      "      5390     |Dr McGillicuddy|       0       |     223.0     |     223.0     |\n",
      "\n",
      "      6432     |Shady Fruit Rea|       40      |252.40677966101|212.40677966101|\n",
      "\n",
      "     19121     |Liberty School |       14      |     210.0     |     196.0     |\n",
      "\n"
     ]
    }
   ],
   "source": [
    "q = \"\"\"\n",
    "UPDATE stocks_orders SET CurrentStock = 0 WHERE CurrentStock IS NULL;\n",
    "ALTER TABLE stocks_orders ADD COLUMN OrderQuantity REAL;\n",
    "UPDATE stocks_orders SET OrderQuantity = IIF(RecommendedStockLevel - CurrentStock > 0, RecommendedStockLevel - CurrentStock, 0);\n",
    "\"\"\"\n",
    "\n",
    "cur = conn.cursor()\n",
    "try:\n",
    "    cur.executescript(q)\n",
    "    conn.commit()\n",
    "except Exception as e:\n",
    "    print('Unable to commit due to the following error: ', e)\n",
    "finally:\n",
    "    cur.close()\n",
    "\n",
    "q = \"\"\"\n",
    "SELECT Brand, Description, CurrentStock, RecommendedStockLevel, OrderQuantity\n",
    "FROM stocks_orders\n",
    "ORDER BY OrderQuantity DESC\n",
    "\"\"\"\n",
    "\n",
    "cur = conn.cursor()\n",
    "try:\n",
    "    cur.execute(q)\n",
    "    rows = cur.fetchall()\n",
    "    cnames = list(map(lambda x: x[0], cur.description))\n",
    "    format_table(rows_data = rows, headers = cnames)\n",
    "except Exception as e:\n",
    "    print('Unable to query the database due to the following error: ', e)\n",
    "finally:\n",
    "    cur.close()"
   ]
  }
 ],
 "metadata": {
  "kaggle": {
   "accelerator": "none",
   "dataSources": [
    {
     "datasetId": 3512210,
     "sourceId": 6126523,
     "sourceType": "datasetVersion"
    }
   ],
   "dockerImageVersionId": 31089,
   "isGpuEnabled": false,
   "isInternetEnabled": true,
   "language": "python",
   "sourceType": "notebook"
  },
  "kernelspec": {
   "display_name": "Python 3",
   "language": "python",
   "name": "python3"
  },
  "language_info": {
   "codemirror_mode": {
    "name": "ipython",
    "version": 3
   },
   "file_extension": ".py",
   "mimetype": "text/x-python",
   "name": "python",
   "nbconvert_exporter": "python",
   "pygments_lexer": "ipython3",
   "version": "3.11.13"
  },
  "papermill": {
   "default_parameters": {},
   "duration": 74.855809,
   "end_time": "2025-07-11T19:58:11.913151",
   "environment_variables": {},
   "exception": null,
   "input_path": "__notebook__.ipynb",
   "output_path": "__notebook__.ipynb",
   "parameters": {},
   "start_time": "2025-07-11T19:56:57.057342",
   "version": "2.6.0"
  }
 },
 "nbformat": 4,
 "nbformat_minor": 5
}
