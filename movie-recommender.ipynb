{
 "cells": [
  {
   "cell_type": "code",
   "execution_count": 1,
   "id": "ce66e2a9",
   "metadata": {
    "_cell_guid": "b1076dfc-b9ad-4769-8c92-a6c4dae69d19",
    "_uuid": "8f2839f25d086af736a60e9eeb907d3b93b6e0e5",
    "execution": {
     "iopub.execute_input": "2025-02-09T10:16:11.574883Z",
     "iopub.status.busy": "2025-02-09T10:16:11.574504Z",
     "iopub.status.idle": "2025-02-09T10:16:14.528293Z",
     "shell.execute_reply": "2025-02-09T10:16:14.527175Z"
    },
    "papermill": {
     "duration": 2.965176,
     "end_time": "2025-02-09T10:16:14.530106",
     "exception": false,
     "start_time": "2025-02-09T10:16:11.564930",
     "status": "completed"
    },
    "tags": []
   },
   "outputs": [
    {
     "name": "stdout",
     "output_type": "stream",
     "text": [
      "SQLite version:  3.37.2\n",
      "/kaggle/input/the-movies-dataset/ratings.csv\n",
      "/kaggle/input/the-movies-dataset/links_small.csv\n",
      "/kaggle/input/the-movies-dataset/credits.csv\n",
      "/kaggle/input/the-movies-dataset/keywords.csv\n",
      "/kaggle/input/the-movies-dataset/movies_metadata.csv\n",
      "/kaggle/input/the-movies-dataset/ratings_small.csv\n",
      "/kaggle/input/the-movies-dataset/links.csv\n"
     ]
    }
   ],
   "source": [
    "# This Python 3 environment comes with many helpful analytics libraries installed\n",
    "# It is defined by the kaggle/python Docker image: https://github.com/kaggle/docker-python\n",
    "# For example, here's several helpful packages to load\n",
    "\n",
    "import numpy as np # linear algebra\n",
    "import pandas as pd # data processing, CSV file I/O (e.g. pd.read_csv)\n",
    "import nltk\n",
    "import re\n",
    "from nltk.corpus import stopwords\n",
    "from nltk.stem import WordNetLemmatizer\n",
    "from nltk.tokenize import word_tokenize\n",
    "from sklearn.feature_extraction.text import TfidfVectorizer, CountVectorizer\n",
    "from sklearn.metrics.pairwise import linear_kernel, cosine_similarity\n",
    "from IPython.display import display, Markdown\n",
    "import sqlite3\n",
    "print('SQLite version: ', sqlite3.sqlite_version)\n",
    "# Input data files are available in the read-only \"../input/\" directory\n",
    "# For example, running this (by clicking run or pressing Shift+Enter) will list all files under the input directory\n",
    "\n",
    "import os\n",
    "for dirname, _, filenames in os.walk('/kaggle/input'):\n",
    "    for filename in filenames:\n",
    "        print(os.path.join(dirname, filename))\n",
    "\n",
    "# You can write up to 20GB to the current directory (/kaggle/working/) that gets preserved as output when you create a version using \"Save & Run All\" \n",
    "# You can also write temporary files to /kaggle/temp/, but they won't be saved outside of the current session"
   ]
  },
  {
   "cell_type": "markdown",
   "id": "72b3353e",
   "metadata": {
    "papermill": {
     "duration": 0.005347,
     "end_time": "2025-02-09T10:16:14.541773",
     "exception": false,
     "start_time": "2025-02-09T10:16:14.536426",
     "status": "completed"
    },
    "tags": []
   },
   "source": [
    "The dataset is retrieved from <a href=\"https://www.kaggle.com/datasets/rounakbanik/the-movies-dataset\">this page</a>, the description provided is as follows: </br>\n",
    "**Context**\n",
    "\n",
    "These files contain metadata for all 45,000 movies listed in the Full MovieLens Dataset. The dataset consists of movies released on or before July 2017. Data points include cast, crew, plot keywords, budget, revenue, posters, release dates, languages, production companies, countries, TMDB vote counts and vote averages.\n",
    "\n",
    "This dataset also has files containing 26 million ratings from 270,000 users for all 45,000 movies. Ratings are on a scale of 1-5 and have been obtained from the official GroupLens website.\n",
    "Content\n",
    "\n",
    "This dataset consists of the following files:\n",
    "<ul>\n",
    "<li>movies_metadata.csv: The main Movies Metadata file. Contains information on 45,000 movies featured in the Full MovieLens dataset. Features include posters, backdrops, budget, revenue, release dates, languages, production countries and companies.</li>\n",
    "\n",
    "<li>keywords.csv: Contains the movie plot keywords for our MovieLens movies. Available in the form of a stringified JSON Object.</li>\n",
    "\n",
    "<li>credits.csv: Consists of Cast and Crew Information for all our movies. Available in the form of a stringified JSON Object.</li>\n",
    "\n",
    "<li>links.csv: The file that contains the TMDB and IMDB IDs of all the movies featured in the Full MovieLens dataset.</li>\n",
    "\n",
    "<li>links_small.csv: Contains the TMDB and IMDB IDs of a small subset of 9,000 movies of the Full Dataset.</li>\n",
    "\n",
    "<li>ratings_small.csv: The subset of 100,000 ratings from 700 users on 9,000 movies.</li>\n",
    "</ul>"
   ]
  },
  {
   "cell_type": "markdown",
   "id": "ead55d24",
   "metadata": {
    "papermill": {
     "duration": 0.005271,
     "end_time": "2025-02-09T10:16:14.552972",
     "exception": false,
     "start_time": "2025-02-09T10:16:14.547701",
     "status": "completed"
    },
    "tags": []
   },
   "source": [
    "The NLTK library provides useful tools of text preprocessing, and we'll use it for eliminating stop words (commonly used word with little specificity) and stemming (reducing words to their root):"
   ]
  },
  {
   "cell_type": "code",
   "execution_count": 2,
   "id": "922409c3",
   "metadata": {
    "execution": {
     "iopub.execute_input": "2025-02-09T10:16:14.565598Z",
     "iopub.status.busy": "2025-02-09T10:16:14.565043Z",
     "iopub.status.idle": "2025-02-09T10:16:15.423507Z",
     "shell.execute_reply": "2025-02-09T10:16:15.422173Z"
    },
    "papermill": {
     "duration": 0.867001,
     "end_time": "2025-02-09T10:16:15.425561",
     "exception": false,
     "start_time": "2025-02-09T10:16:14.558560",
     "status": "completed"
    },
    "tags": []
   },
   "outputs": [
    {
     "name": "stdout",
     "output_type": "stream",
     "text": [
      "[nltk_data] Downloading package punkt to /usr/share/nltk_data...\n",
      "[nltk_data]   Package punkt is already up-to-date!\n",
      "[nltk_data] Downloading package wordnet to /usr/share/nltk_data...\n",
      "[nltk_data]   Package wordnet is already up-to-date!\n",
      "[nltk_data] Downloading package stopwords to /usr/share/nltk_data...\n",
      "[nltk_data]   Package stopwords is already up-to-date!\n",
      "Archive:  /usr/share/nltk_data/corpora/wordnet.zip\r\n",
      "   creating: /usr/share/nltk_data/corpora/wordnet/\r\n",
      "  inflating: /usr/share/nltk_data/corpora/wordnet/lexnames  \r\n",
      "  inflating: /usr/share/nltk_data/corpora/wordnet/data.verb  \r\n",
      "  inflating: /usr/share/nltk_data/corpora/wordnet/index.adv  \r\n",
      "  inflating: /usr/share/nltk_data/corpora/wordnet/adv.exc  \r\n",
      "  inflating: /usr/share/nltk_data/corpora/wordnet/index.verb  \r\n",
      "  inflating: /usr/share/nltk_data/corpora/wordnet/cntlist.rev  \r\n",
      "  inflating: /usr/share/nltk_data/corpora/wordnet/data.adj  \r\n",
      "  inflating: /usr/share/nltk_data/corpora/wordnet/index.adj  \r\n",
      "  inflating: /usr/share/nltk_data/corpora/wordnet/LICENSE  \r\n",
      "  inflating: /usr/share/nltk_data/corpora/wordnet/citation.bib  \r\n",
      "  inflating: /usr/share/nltk_data/corpora/wordnet/noun.exc  \r\n",
      "  inflating: /usr/share/nltk_data/corpora/wordnet/verb.exc  \r\n",
      "  inflating: /usr/share/nltk_data/corpora/wordnet/README  \r\n",
      "  inflating: /usr/share/nltk_data/corpora/wordnet/index.sense  \r\n",
      "  inflating: /usr/share/nltk_data/corpora/wordnet/data.noun  \r\n",
      "  inflating: /usr/share/nltk_data/corpora/wordnet/data.adv  \r\n",
      "  inflating: /usr/share/nltk_data/corpora/wordnet/index.noun  \r\n",
      "  inflating: /usr/share/nltk_data/corpora/wordnet/adj.exc  \r\n"
     ]
    }
   ],
   "source": [
    "nltk.download('punkt')\n",
    "nltk.download('wordnet')\n",
    "nltk.download('stopwords')\n",
    "!unzip /usr/share/nltk_data/corpora/wordnet.zip -d /usr/share/nltk_data/corpora/"
   ]
  },
  {
   "cell_type": "code",
   "execution_count": 3,
   "id": "e64b304e",
   "metadata": {
    "execution": {
     "iopub.execute_input": "2025-02-09T10:16:15.439862Z",
     "iopub.status.busy": "2025-02-09T10:16:15.439458Z",
     "iopub.status.idle": "2025-02-09T10:16:15.446823Z",
     "shell.execute_reply": "2025-02-09T10:16:15.445936Z"
    },
    "papermill": {
     "duration": 0.016056,
     "end_time": "2025-02-09T10:16:15.448421",
     "exception": false,
     "start_time": "2025-02-09T10:16:15.432365",
     "status": "completed"
    },
    "tags": []
   },
   "outputs": [],
   "source": [
    "def format_table(column_names, rows, rows_limit = 10, spacing = 15):\n",
    "    print([f\"{cname : ^{spacing}}\" for cname in column_names])\n",
    "    print('-' * (spacing + 5) * len(column_names))\n",
    "    rows_num = 0\n",
    "    for row in rows:\n",
    "        print([f\"{entry : ^{spacing}}\" for entry in row])\n",
    "        rows_num += 1\n",
    "        if rows_num >= rows_limit: break;\n",
    "\n",
    "def preprocess_text(text):\n",
    "    if not isinstance(text, str):\n",
    "        return \"\"\n",
    "    text = text.lower()\n",
    "    text = re.sub(r'[^\\w\\s\\d]', '', text)\n",
    "    words = word_tokenize(text)\n",
    "    stop_words = set(stopwords.words('english'))\n",
    "    words = [word for word in words if word not in stop_words]\n",
    "    lemmatizer = WordNetLemmatizer()\n",
    "    words = [lemmatizer.lemmatize(word) for word in words]\n",
    "    text_result = ' '.join(words)\n",
    "    return text_result"
   ]
  },
  {
   "cell_type": "markdown",
   "id": "53cf905b",
   "metadata": {
    "papermill": {
     "duration": 0.005786,
     "end_time": "2025-02-09T10:16:15.460413",
     "exception": false,
     "start_time": "2025-02-09T10:16:15.454627",
     "status": "completed"
    },
    "tags": []
   },
   "source": [
    "<h2>Creating the database</h2>"
   ]
  },
  {
   "cell_type": "markdown",
   "id": "9aaa90e4",
   "metadata": {
    "papermill": {
     "duration": 0.00588,
     "end_time": "2025-02-09T10:16:15.472426",
     "exception": false,
     "start_time": "2025-02-09T10:16:15.466546",
     "status": "completed"
    },
    "tags": []
   },
   "source": [
    "Having the data in CSV form, we'll just convert them to pandas DataFrame and then to SQL tables:"
   ]
  },
  {
   "cell_type": "code",
   "execution_count": 4,
   "id": "a4d98b1b",
   "metadata": {
    "execution": {
     "iopub.execute_input": "2025-02-09T10:16:15.485892Z",
     "iopub.status.busy": "2025-02-09T10:16:15.485505Z",
     "iopub.status.idle": "2025-02-09T10:16:41.604855Z",
     "shell.execute_reply": "2025-02-09T10:16:41.603883Z"
    },
    "papermill": {
     "duration": 26.128153,
     "end_time": "2025-02-09T10:16:41.606705",
     "exception": false,
     "start_time": "2025-02-09T10:16:15.478552",
     "status": "completed"
    },
    "tags": []
   },
   "outputs": [
    {
     "name": "stderr",
     "output_type": "stream",
     "text": [
      "<ipython-input-4-ff2259aa0b6e>:1: DtypeWarning: Columns (10) have mixed types. Specify dtype option on import or set low_memory=False.\n",
      "  movies_df = pd.read_csv('/kaggle/input/the-movies-dataset/movies_metadata.csv')\n"
     ]
    }
   ],
   "source": [
    "movies_df = pd.read_csv('/kaggle/input/the-movies-dataset/movies_metadata.csv')\n",
    "keywords_df = pd.read_csv('/kaggle/input/the-movies-dataset/keywords.csv')\n",
    "credits_df = pd.read_csv('/kaggle/input/the-movies-dataset/credits.csv')\n",
    "links_df = pd.read_csv('/kaggle/input/the-movies-dataset/links.csv')\n",
    "links_small_df = pd.read_csv('/kaggle/input/the-movies-dataset/links_small.csv')\n",
    "ratings_df = pd.read_csv('/kaggle/input/the-movies-dataset/ratings.csv')\n",
    "ratings_small_df = pd.read_csv('/kaggle/input/the-movies-dataset/ratings_small.csv')"
   ]
  },
  {
   "cell_type": "code",
   "execution_count": 5,
   "id": "7db82174",
   "metadata": {
    "execution": {
     "iopub.execute_input": "2025-02-09T10:16:41.620199Z",
     "iopub.status.busy": "2025-02-09T10:16:41.619771Z",
     "iopub.status.idle": "2025-02-09T10:17:32.628192Z",
     "shell.execute_reply": "2025-02-09T10:17:32.627140Z"
    },
    "papermill": {
     "duration": 51.022009,
     "end_time": "2025-02-09T10:17:32.635137",
     "exception": false,
     "start_time": "2025-02-09T10:16:41.613128",
     "status": "completed"
    },
    "tags": []
   },
   "outputs": [
    {
     "data": {
      "text/plain": [
       "100004"
      ]
     },
     "execution_count": 5,
     "metadata": {},
     "output_type": "execute_result"
    }
   ],
   "source": [
    "conn = sqlite3.connect('movie_db')\n",
    "movies_df.to_sql('movies', conn, if_exists = 'replace', index = False)\n",
    "keywords_df.to_sql('keywords', conn, if_exists = 'replace', index = False)\n",
    "credits_df.to_sql('credits', conn, if_exists = 'replace', index = False)\n",
    "links_df.to_sql('links', conn, if_exists = 'replace', index = False)\n",
    "links_small_df.to_sql('links_small', conn, if_exists = 'replace', index = False)\n",
    "ratings_df.to_sql('ratings', conn, if_exists = 'replace', index = False)\n",
    "ratings_small_df.to_sql('ratings_small', conn, if_exists = 'replace', index = False)"
   ]
  },
  {
   "cell_type": "markdown",
   "id": "9755c650",
   "metadata": {
    "papermill": {
     "duration": 0.005904,
     "end_time": "2025-02-09T10:17:32.647229",
     "exception": false,
     "start_time": "2025-02-09T10:17:32.641325",
     "status": "completed"
    },
    "tags": []
   },
   "source": [
    "<h2>Basic Recommender</h2>"
   ]
  },
  {
   "cell_type": "markdown",
   "id": "151aa7f4",
   "metadata": {
    "papermill": {
     "duration": 0.005737,
     "end_time": "2025-02-09T10:17:32.659214",
     "exception": false,
     "start_time": "2025-02-09T10:17:32.653477",
     "status": "completed"
    },
    "tags": []
   },
   "source": [
    "As a start we build a simple recommender that merely suggest the top rated movies in the database, according to the IMDB weigthed ratio (WR) formula:</br>\n",
    "$WR = (\\frac{\\nu}{\\nu + m})\\cdot R + (\\frac{m}{m + \\nu})\\cdot C$\n",
    "where:\n",
    "<ul>\n",
    "    <li>$\\nu$ is the number of votes for the movie.</li>\n",
    "    <li>m is the minimum number of votes required to be rated.</li>\n",
    "    <li>R is the average rating of the movie.</li>\n",
    "    <li>C is the mean vote of all movies.</li>\n",
    "</ul>\n",
    "To set the value of m we require the movie vote count to be in the 95% percentile: we fetch all the vote counts sorted in ascending order, so the we just need to select the corresponding index:"
   ]
  },
  {
   "cell_type": "code",
   "execution_count": 6,
   "id": "2312f5ca",
   "metadata": {
    "execution": {
     "iopub.execute_input": "2025-02-09T10:17:32.672514Z",
     "iopub.status.busy": "2025-02-09T10:17:32.672148Z",
     "iopub.status.idle": "2025-02-09T10:17:32.751373Z",
     "shell.execute_reply": "2025-02-09T10:17:32.750442Z"
    },
    "papermill": {
     "duration": 0.087851,
     "end_time": "2025-02-09T10:17:32.753000",
     "exception": false,
     "start_time": "2025-02-09T10:17:32.665149",
     "status": "completed"
    },
    "tags": []
   },
   "outputs": [
    {
     "name": "stdout",
     "output_type": "stream",
     "text": [
      "Minimum number of votes required:  434\n"
     ]
    }
   ],
   "source": [
    "sql_movie_count = \"\"\"\n",
    "SELECT vote_count\n",
    "FROM movies \n",
    "WHERE vote_count IS NOT NULL\n",
    "ORDER BY vote_count;\n",
    "\"\"\"\n",
    "cur = conn.cursor()\n",
    "cur.execute(sql_movie_count)\n",
    "rows = cur.fetchall()\n",
    "cnames = list(map(lambda x : x[0], cur.description))\n",
    "cur.close()\n",
    "m = int(rows[int(0.95 * len(rows))][0])\n",
    "print('Minimum number of votes required: ', m)"
   ]
  },
  {
   "cell_type": "code",
   "execution_count": 7,
   "id": "6b98167b",
   "metadata": {
    "execution": {
     "iopub.execute_input": "2025-02-09T10:17:32.766363Z",
     "iopub.status.busy": "2025-02-09T10:17:32.765971Z",
     "iopub.status.idle": "2025-02-09T10:17:32.807204Z",
     "shell.execute_reply": "2025-02-09T10:17:32.805910Z"
    },
    "papermill": {
     "duration": 0.049817,
     "end_time": "2025-02-09T10:17:32.808940",
     "exception": false,
     "start_time": "2025-02-09T10:17:32.759123",
     "status": "completed"
    },
    "tags": []
   },
   "outputs": [
    {
     "name": "stdout",
     "output_type": "stream",
     "text": [
      "['  avg_voting   ']\n",
      "--------------------\n",
      "['     5.62      ']\n"
     ]
    }
   ],
   "source": [
    "sql_average = \"\"\"\n",
    "SELECT ROUND(AVG(vote_average), 2) AS avg_voting\n",
    "FROM movies\n",
    "WHERE vote_average IS NOT NULL;\n",
    "\"\"\"\n",
    "cur = conn.cursor()\n",
    "cur.execute(sql_average)\n",
    "rows = cur.fetchall()\n",
    "cnames = list(map(lambda x : x[0], cur.description))\n",
    "format_table(cnames, rows)\n",
    "cur.close()\n",
    "C = float(rows[0][0])"
   ]
  },
  {
   "cell_type": "markdown",
   "id": "fc577c79",
   "metadata": {
    "papermill": {
     "duration": 0.00638,
     "end_time": "2025-02-09T10:17:32.821893",
     "exception": false,
     "start_time": "2025-02-09T10:17:32.815513",
     "status": "completed"
    },
    "tags": []
   },
   "source": [
    "The WR can now be easily calculated while querying in parameter, for better readibility we also:\n",
    "<ul>\n",
    "    <li>Select only the year of the release date as a substring.</li>\n",
    "    <li>Round the popularity value to two decimal places.</li>\n",
    "    <li>Extract the genres only form the *genres* column, which has a complex dictionary format cumbersome to read: to do this we take advantages of the sqlite3 possibility to create custo function to use in SQL queries and using regex. </li>\n",
    "</ul>"
   ]
  },
  {
   "cell_type": "code",
   "execution_count": 8,
   "id": "ce639796",
   "metadata": {
    "execution": {
     "iopub.execute_input": "2025-02-09T10:17:32.835686Z",
     "iopub.status.busy": "2025-02-09T10:17:32.835329Z",
     "iopub.status.idle": "2025-02-09T10:17:32.889175Z",
     "shell.execute_reply": "2025-02-09T10:17:32.888112Z"
    },
    "papermill": {
     "duration": 0.062732,
     "end_time": "2025-02-09T10:17:32.890886",
     "exception": false,
     "start_time": "2025-02-09T10:17:32.828154",
     "status": "completed"
    },
    "tags": []
   },
   "outputs": [
    {
     "name": "stdout",
     "output_type": "stream",
     "text": [
      "['          Title          ', '         Genres          ', '          Year           ', '       Vote_Count        ', '      Vote_Average       ', '       Popularity        ', '           WR            ']\n",
      "------------------------------------------------------------------------------------------------------------------------------------------------------------------------------------------------------------------\n",
      "['The Shawshank Redemption ', '      Drama, Crime       ', '          1994           ', '         8358.0          ', '           8.5           ', '          51.65          ', '          8.36           ']\n",
      "['      The Godfather      ', '      Drama, Crime       ', '          1972           ', '         6024.0          ', '           8.5           ', '          41.11          ', '          8.31           ']\n",
      "['     The Dark Knight     ', 'Drama, Action, Crime, Thriller', '          2008           ', '         12269.0         ', '           8.3           ', '         123.17          ', '          8.21           ']\n",
      "['       Fight Club        ', '          Drama          ', '          1999           ', '         9678.0          ', '           8.3           ', '          63.87          ', '          8.18           ']\n",
      "['      Pulp Fiction       ', '     Thriller, Crime     ', '          1994           ', '         8670.0          ', '           8.3           ', '         140.95          ', '          8.17           ']\n",
      "['      Forrest Gump       ', ' Comedy, Drama, Romance  ', '          1994           ', '         8147.0          ', '           8.2           ', '          48.31          ', '          8.07           ']\n",
      "[\"    Schindler's List     \", '   Drama, History, War   ', '          1993           ', '         4436.0          ', '           8.3           ', '          41.73          ', '          8.06           ']\n",
      "['        Whiplash         ', '          Drama          ', '          2014           ', '         4376.0          ', '           8.3           ', '          64.3           ', '          8.06           ']\n",
      "['      Spirited Away      ', 'Fantasy, Adventure, Animation, Family', '          2001           ', '         3968.0          ', '           8.3           ', '          41.05          ', '          8.04           ']\n",
      "[' The Empire Strikes Back ', '    Adventure, Action    ', '          1980           ', '         5998.0          ', '           8.2           ', '          19.47          ', '          8.03           ']\n"
     ]
    }
   ],
   "source": [
    "def extract_genre(text):\n",
    "    pattern = r\"'name':\\s'([a-zA-Z]+)'\"\n",
    "    matches = re.findall(pattern, text)\n",
    "    return ', '.join(matches)\n",
    "    \n",
    "conn.create_function(\"extract_genre\", 1, extract_genre)\n",
    "\n",
    "def simple_recommender(conn, m, C, limit = 10):\n",
    "    params_dict = {'minimum' : m, 'avg_voting' : C}\n",
    "    cur = conn.cursor()\n",
    "    sql_top_rated = \"\"\"\n",
    "    SELECT title AS Title, \n",
    "    extract_genre(genres) AS Genres, \n",
    "    SUBSTR(release_date, 1, 4) AS Year,\n",
    "    vote_count AS Vote_Count, \n",
    "    vote_average AS Vote_Average, \n",
    "    ROUND(popularity, 2) AS Popularity,\n",
    "   ROUND((vote_count / (vote_count + :minimum)) * vote_average + (:minimum / (:minimum + vote_count)) * :avg_voting, 2) AS WR\n",
    "    FROM movies\n",
    "    WHERE vote_count >= :minimum\n",
    "    ORDER BY WR DESC;\n",
    "    \"\"\"\n",
    "    cur.execute(sql_top_rated, params_dict)\n",
    "    rows = cur.fetchall()\n",
    "    cnames = list(map(lambda x : x[0], cur.description))\n",
    "    format_table(cnames, rows, rows_limit = limit, spacing = 25)\n",
    "    cur.close()\n",
    "    return rows\n",
    "\n",
    "rows = simple_recommender(conn = conn, m = m, C = C)"
   ]
  },
  {
   "cell_type": "markdown",
   "id": "c0536b75",
   "metadata": {
    "papermill": {
     "duration": 0.006066,
     "end_time": "2025-02-09T10:17:32.903827",
     "exception": false,
     "start_time": "2025-02-09T10:17:32.897761",
     "status": "completed"
    },
    "tags": []
   },
   "source": [
    "Certainly all good movies, but vastly different in genres, our recommender would be more useul if we could at least choose the genre of movie to recommend: this is easy to accomplish by slightly modifying the simple recommender to include the genre in the conditionals used by WHERE:"
   ]
  },
  {
   "cell_type": "code",
   "execution_count": 9,
   "id": "1252343d",
   "metadata": {
    "execution": {
     "iopub.execute_input": "2025-02-09T10:17:32.917624Z",
     "iopub.status.busy": "2025-02-09T10:17:32.917303Z",
     "iopub.status.idle": "2025-02-09T10:17:32.922434Z",
     "shell.execute_reply": "2025-02-09T10:17:32.921197Z"
    },
    "papermill": {
     "duration": 0.014025,
     "end_time": "2025-02-09T10:17:32.924067",
     "exception": false,
     "start_time": "2025-02-09T10:17:32.910042",
     "status": "completed"
    },
    "tags": []
   },
   "outputs": [
    {
     "name": "stdout",
     "output_type": "stream",
     "text": [
      "check\n"
     ]
    }
   ],
   "source": [
    "print('check')"
   ]
  },
  {
   "cell_type": "code",
   "execution_count": 10,
   "id": "199b5a0e",
   "metadata": {
    "execution": {
     "iopub.execute_input": "2025-02-09T10:17:32.938348Z",
     "iopub.status.busy": "2025-02-09T10:17:32.938010Z",
     "iopub.status.idle": "2025-02-09T10:17:32.943550Z",
     "shell.execute_reply": "2025-02-09T10:17:32.942641Z"
    },
    "papermill": {
     "duration": 0.014474,
     "end_time": "2025-02-09T10:17:32.945219",
     "exception": false,
     "start_time": "2025-02-09T10:17:32.930745",
     "status": "completed"
    },
    "tags": []
   },
   "outputs": [],
   "source": [
    "def recommender_with_genre(conn, m, C, genre, limit = 10):\n",
    "    params_dict = {'minimum' : m, 'avg_voting' : C, 'genre' : genre}\n",
    "    cur = conn.cursor()\n",
    "    sql_top_rated = \"\"\"\n",
    "    SELECT title AS Title, \n",
    "    extract_genre(genres) AS Genres, \n",
    "    SUBSTR(release_date, 1, 4) AS Year,\n",
    "    vote_count AS Vote_Count, \n",
    "    vote_average AS Vote_Average, \n",
    "    ROUND(popularity, 2) AS Popularity,\n",
    "   ROUND((vote_count / (vote_count + :minimum)) * vote_average + (:minimum / (:minimum + vote_count)) * :avg_voting, 2) AS WR\n",
    "    FROM movies\n",
    "    WHERE (vote_count >= :minimum) AND (Genres LIKE '%'||:genre||'%')\n",
    "    ORDER BY WR DESC;\n",
    "    \"\"\"\n",
    "    cur.execute(sql_top_rated, params_dict)\n",
    "    rows = cur.fetchall()\n",
    "    cnames = list(map(lambda x : x[0], cur.description))\n",
    "    format_table(cnames, rows, rows_limit = limit, spacing = 25)\n",
    "    cur.close()\n",
    "    return rows "
   ]
  },
  {
   "cell_type": "markdown",
   "id": "d4798e90",
   "metadata": {
    "papermill": {
     "duration": 0.006067,
     "end_time": "2025-02-09T10:17:32.958270",
     "exception": false,
     "start_time": "2025-02-09T10:17:32.952203",
     "status": "completed"
    },
    "tags": []
   },
   "source": [
    "Let's check the top rated comedy movies:"
   ]
  },
  {
   "cell_type": "code",
   "execution_count": 11,
   "id": "b8263872",
   "metadata": {
    "execution": {
     "iopub.execute_input": "2025-02-09T10:17:32.972674Z",
     "iopub.status.busy": "2025-02-09T10:17:32.972347Z",
     "iopub.status.idle": "2025-02-09T10:17:33.012332Z",
     "shell.execute_reply": "2025-02-09T10:17:33.011070Z"
    },
    "papermill": {
     "duration": 0.048978,
     "end_time": "2025-02-09T10:17:33.013902",
     "exception": false,
     "start_time": "2025-02-09T10:17:32.964924",
     "status": "completed"
    },
    "tags": []
   },
   "outputs": [
    {
     "name": "stdout",
     "output_type": "stream",
     "text": [
      "['          Title          ', '         Genres          ', '          Year           ', '       Vote_Count        ', '      Vote_Average       ', '       Popularity        ', '           WR            ']\n",
      "------------------------------------------------------------------------------------------------------------------------------------------------------------------------------------------------------------------\n",
      "['      Forrest Gump       ', ' Comedy, Drama, Romance  ', '          1994           ', '         8147.0          ', '           8.2           ', '          48.31          ', '          8.07           ']\n",
      "['    Life Is Beautiful    ', '      Comedy, Drama      ', '          1997           ', '         3643.0          ', '           8.3           ', '          39.39          ', '          8.01           ']\n",
      "['    The Intouchables     ', '      Drama, Comedy      ', '          2011           ', '         5410.0          ', '           8.2           ', '          16.09          ', '          8.01           ']\n",
      "['   Back to the Future    ', 'Adventure, Comedy, Family', '          1985           ', '         6239.0          ', '           8.0           ', '          25.78          ', '          7.85           ']\n",
      "['The Grand Budapest Hotel ', '      Comedy, Drama      ', '          2014           ', '         4644.0          ', '           8.0           ', '          14.44          ', '           7.8           ']\n",
      "[' The Wolf of Wall Street ', '  Crime, Drama, Comedy   ', '          2013           ', '         6768.0          ', '           7.9           ', '          16.38          ', '          7.76           ']\n",
      "['       Inside Out        ', 'Drama, Comedy, Animation, Family', '          2015           ', '         6737.0          ', '           7.9           ', '          23.99          ', '          7.76           ']\n",
      "['Dilwale Dulhania Le Jayenge', ' Comedy, Drama, Romance  ', '          1995           ', '          661.0          ', '           9.1           ', '          34.46          ', '          7.72           ']\n",
      "['       La La Land        ', 'Comedy, Drama, Music, Romance', '          2016           ', '         4745.0          ', '           7.9           ', '          19.68          ', '          7.71           ']\n",
      "['           Up            ', 'Animation, Comedy, Family, Adventure', '          2009           ', '         7048.0          ', '           7.8           ', '          19.33          ', '          7.67           ']\n"
     ]
    }
   ],
   "source": [
    "rows = recommender_with_genre(conn = conn, m = m, C = C, genre = 'Comedy') "
   ]
  },
  {
   "cell_type": "markdown",
   "id": "7aa32c3f",
   "metadata": {
    "papermill": {
     "duration": 0.006417,
     "end_time": "2025-02-09T10:17:33.026913",
     "exception": false,
     "start_time": "2025-02-09T10:17:33.020496",
     "status": "completed"
    },
    "tags": []
   },
   "source": [
    "The recommender now is more selective!"
   ]
  },
  {
   "cell_type": "markdown",
   "id": "401bc543",
   "metadata": {
    "papermill": {
     "duration": 0.006192,
     "end_time": "2025-02-09T10:17:33.039689",
     "exception": false,
     "start_time": "2025-02-09T10:17:33.033497",
     "status": "completed"
    },
    "tags": []
   },
   "source": [
    "<h2>Content-Based Recommender</h2>"
   ]
  },
  {
   "cell_type": "markdown",
   "id": "5fa06165",
   "metadata": {
    "papermill": {
     "duration": 0.006302,
     "end_time": "2025-02-09T10:17:33.052423",
     "exception": false,
     "start_time": "2025-02-09T10:17:33.046121",
     "status": "completed"
    },
    "tags": []
   },
   "source": [
    "Content based filtering methods use the attributes of an item to produce suggestions with similar attributes; in our case both the *tagline* and the *overview* columns provide a description/specific information for the movie, so we join them in an single *description* column in a temporary table we'll use for the recommender: this is just a smaller version of the movie table, selected with an ORDER BY clause to ensure we have a consistent order"
   ]
  },
  {
   "cell_type": "code",
   "execution_count": 12,
   "id": "675d6d41",
   "metadata": {
    "execution": {
     "iopub.execute_input": "2025-02-09T10:17:33.066768Z",
     "iopub.status.busy": "2025-02-09T10:17:33.066406Z",
     "iopub.status.idle": "2025-02-09T10:17:33.180684Z",
     "shell.execute_reply": "2025-02-09T10:17:33.179883Z"
    },
    "papermill": {
     "duration": 0.123473,
     "end_time": "2025-02-09T10:17:33.182470",
     "exception": false,
     "start_time": "2025-02-09T10:17:33.058997",
     "status": "completed"
    },
    "tags": []
   },
   "outputs": [],
   "source": [
    "sql_temp = \"\"\"\n",
    "DROP TABLE IF EXISTS smovies;\n",
    "\n",
    "CREATE TEMPORARY TABLE IF NOT EXISTS smovies AS\n",
    "SELECT \n",
    "m.adult, m.belongs_to_collection, m.budget, m.genres, m.homepage, m.id,\n",
    "       m.imdb_id, m.original_language, m.original_title, \n",
    "       m.popularity, m.poster_path, m.production_companies,\n",
    "       m.production_countries, m.release_date, m.revenue, m.runtime,\n",
    "       m.spoken_languages, m.status, \n",
    "       lower(m.title) as title, \n",
    "       m.video,\n",
    "       m.vote_average, m.vote_count,\n",
    "m.tagline || ' ' || m.overview as description\n",
    "FROM movies AS m \n",
    "INNER JOIN links_small AS sm\n",
    "ON m.id = sm.tmdbId\n",
    "ORDER BY m.id;\n",
    "\"\"\"\n",
    "cur = conn.cursor()\n",
    "cur.executescript(sql_temp)\n",
    "conn.commit()\n",
    "cur.close()"
   ]
  },
  {
   "cell_type": "markdown",
   "id": "cc4fb22c",
   "metadata": {
    "papermill": {
     "duration": 0.006157,
     "end_time": "2025-02-09T10:17:33.195518",
     "exception": false,
     "start_time": "2025-02-09T10:17:33.189361",
     "status": "completed"
    },
    "tags": []
   },
   "source": [
    "To defined similarity between movie we'll use the TF-IDF method (Term Frequency - Inverse Document Frequency): this quantify the importance of a word in a document (in this case the description field relative to the movie ) relative to the collection of all documents.</br>\n",
    "Roughly speaking, TF-IDF first defines a word importance by how often appear in a specific document, but it's then given a weight inversely proportional to the word frequency across all document: if a word is present in all descriptions is indeed not that characterizing, therefore value and its weight will be suppressed; this will already gives less importance to stop words, but we'll still make some text preprocessing with NLTK"
   ]
  },
  {
   "cell_type": "code",
   "execution_count": 13,
   "id": "13221398",
   "metadata": {
    "execution": {
     "iopub.execute_input": "2025-02-09T10:17:33.209756Z",
     "iopub.status.busy": "2025-02-09T10:17:33.209380Z",
     "iopub.status.idle": "2025-02-09T10:17:42.152515Z",
     "shell.execute_reply": "2025-02-09T10:17:42.151313Z"
    },
    "papermill": {
     "duration": 8.952357,
     "end_time": "2025-02-09T10:17:42.154209",
     "exception": false,
     "start_time": "2025-02-09T10:17:33.201852",
     "status": "completed"
    },
    "tags": []
   },
   "outputs": [
    {
     "name": "stdout",
     "output_type": "stream",
     "text": [
      "vector:  (9099, 212271)\n",
      "similarity shape:  (9099, 9099)\n"
     ]
    }
   ],
   "source": [
    "cur = conn.cursor()\n",
    "cur.execute(\"SELECT description FROM smovies;\")\n",
    "rows = cur.fetchall()\n",
    "cur.close()\n",
    "dscrptns = [row[0] for row in rows]\n",
    "tf = TfidfVectorizer(analyzer = 'word', ngram_range = (1, 2), min_df = 0, stop_words = 'english')\n",
    "clean_dscrptns  = np.array([preprocess_text(description) for description in dscrptns])\n",
    "vector_dscrptns  = tf.fit_transform(clean_dscrptns)\n",
    "print('vector: ', vector_dscrptns .shape)\n",
    "simil = linear_kernel(vector_dscrptns, vector_dscrptns)\n",
    "print('similarity shape: ', simil.shape)"
   ]
  },
  {
   "cell_type": "markdown",
   "id": "a99961aa",
   "metadata": {
    "papermill": {
     "duration": 0.006388,
     "end_time": "2025-02-09T10:17:42.167454",
     "exception": false,
     "start_time": "2025-02-09T10:17:42.161066",
     "status": "completed"
    },
    "tags": []
   },
   "source": [
    "Our content based recommerder will just identify the rowid of the movie title, find the corresponding row in the similarity matrix and select the indexes of the most similar movies, we just need to take care of the difference in Python and SQL indexing (Python starts with 0, SQL with 1):"
   ]
  },
  {
   "cell_type": "code",
   "execution_count": 14,
   "id": "a5d63de9",
   "metadata": {
    "execution": {
     "iopub.execute_input": "2025-02-09T10:17:42.182618Z",
     "iopub.status.busy": "2025-02-09T10:17:42.182280Z",
     "iopub.status.idle": "2025-02-09T10:17:42.189171Z",
     "shell.execute_reply": "2025-02-09T10:17:42.188133Z"
    },
    "papermill": {
     "duration": 0.016275,
     "end_time": "2025-02-09T10:17:42.190702",
     "exception": false,
     "start_time": "2025-02-09T10:17:42.174427",
     "status": "completed"
    },
    "tags": []
   },
   "outputs": [],
   "source": [
    "def content_based_recommender(conn, title, num_recommendations = 10):\n",
    "    cur = conn.cursor()\n",
    "    sql = \"SELECT rowid FROM smovies WHERE title = ?\"\n",
    "    cur.execute(sql, (title.lower(),))\n",
    "    rows = cur.fetchall()\n",
    "    cur.close()\n",
    "    if len(rows) < 1:\n",
    "        print(f'Movie \"{title}\" not in database.\"')\n",
    "        return \n",
    "    movie_idx = int(rows[0][0]) - 1\n",
    "    distance = sorted(list(enumerate(simil[movie_idx])), reverse = True, key = lambda vector_descriptions : vector_descriptions[1])\n",
    "    recommendations = []\n",
    "    for i in range(1,num_recommendations + 1):\n",
    "        cur = conn.cursor()\n",
    "        sql = \"SELECT original_title FROM smovies WHERE rowid = ?\"\n",
    "        cur.execute(sql, (distance[i][0] + 1,))\n",
    "        row = cur.fetchall()\n",
    "        recommendations.append(row[0])\n",
    "        cur.close()\n",
    "    format_table(column_names = [f'Recommendations for \"{title}\"'], rows = recommendations, spacing = 40)"
   ]
  },
  {
   "cell_type": "markdown",
   "id": "70eadd0e",
   "metadata": {
    "papermill": {
     "duration": 0.006597,
     "end_time": "2025-02-09T10:17:42.204206",
     "exception": false,
     "start_time": "2025-02-09T10:17:42.197609",
     "status": "completed"
    },
    "tags": []
   },
   "source": [
    "As a test, let's check with a favourite of mine:"
   ]
  },
  {
   "cell_type": "code",
   "execution_count": 15,
   "id": "7e359c69",
   "metadata": {
    "execution": {
     "iopub.execute_input": "2025-02-09T10:17:42.218936Z",
     "iopub.status.busy": "2025-02-09T10:17:42.218565Z",
     "iopub.status.idle": "2025-02-09T10:17:42.241287Z",
     "shell.execute_reply": "2025-02-09T10:17:42.240108Z"
    },
    "papermill": {
     "duration": 0.031908,
     "end_time": "2025-02-09T10:17:42.242881",
     "exception": false,
     "start_time": "2025-02-09T10:17:42.210973",
     "status": "completed"
    },
    "tags": []
   },
   "outputs": [
    {
     "name": "stdout",
     "output_type": "stream",
     "text": [
      "['    Recommendations for \"the matrix\"    ']\n",
      "---------------------------------------------\n",
      "['                Hackers                 ']\n",
      "['                 Pulse                  ']\n",
      "['            The Zero Theorem            ']\n",
      "['            Electric Dreams             ']\n",
      "['               Supernova                ']\n",
      "['                 Avatar                 ']\n",
      "['                Sneakers                ']\n",
      "['          The Thirteenth Floor          ']\n",
      "['   Lawnmower Man 2: Beyond Cyberspace   ']\n",
      "['             The Animatrix              ']\n"
     ]
    }
   ],
   "source": [
    "content_based_recommender(conn, 'the matrix')"
   ]
  },
  {
   "cell_type": "code",
   "execution_count": 16,
   "id": "10d3c9f9",
   "metadata": {
    "execution": {
     "iopub.execute_input": "2025-02-09T10:17:42.257973Z",
     "iopub.status.busy": "2025-02-09T10:17:42.257605Z",
     "iopub.status.idle": "2025-02-09T10:17:42.312153Z",
     "shell.execute_reply": "2025-02-09T10:17:42.311067Z"
    },
    "papermill": {
     "duration": 0.064136,
     "end_time": "2025-02-09T10:17:42.314039",
     "exception": false,
     "start_time": "2025-02-09T10:17:42.249903",
     "status": "completed"
    },
    "tags": []
   },
   "outputs": [],
   "source": [
    "?sorted"
   ]
  }
 ],
 "metadata": {
  "kaggle": {
   "accelerator": "none",
   "dataSources": [
    {
     "datasetId": 3405,
     "sourceId": 6663,
     "sourceType": "datasetVersion"
    }
   ],
   "dockerImageVersionId": 30839,
   "isGpuEnabled": false,
   "isInternetEnabled": true,
   "language": "python",
   "sourceType": "notebook"
  },
  "kernelspec": {
   "display_name": "Python 3",
   "language": "python",
   "name": "python3"
  },
  "language_info": {
   "codemirror_mode": {
    "name": "ipython",
    "version": 3
   },
   "file_extension": ".py",
   "mimetype": "text/x-python",
   "name": "python",
   "nbconvert_exporter": "python",
   "pygments_lexer": "ipython3",
   "version": "3.10.12"
  },
  "papermill": {
   "default_parameters": {},
   "duration": 94.749548,
   "end_time": "2025-02-09T10:17:43.543529",
   "environment_variables": {},
   "exception": null,
   "input_path": "__notebook__.ipynb",
   "output_path": "__notebook__.ipynb",
   "parameters": {},
   "start_time": "2025-02-09T10:16:08.793981",
   "version": "2.6.0"
  }
 },
 "nbformat": 4,
 "nbformat_minor": 5
}
