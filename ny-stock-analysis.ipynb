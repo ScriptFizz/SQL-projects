{
 "cells": [
  {
   "cell_type": "code",
   "execution_count": 1,
   "id": "0e1509a5",
   "metadata": {
    "_cell_guid": "b1076dfc-b9ad-4769-8c92-a6c4dae69d19",
    "_uuid": "8f2839f25d086af736a60e9eeb907d3b93b6e0e5",
    "execution": {
     "iopub.execute_input": "2025-02-23T10:49:05.795984Z",
     "iopub.status.busy": "2025-02-23T10:49:05.795472Z",
     "iopub.status.idle": "2025-02-23T10:49:06.876143Z",
     "shell.execute_reply": "2025-02-23T10:49:06.874730Z"
    },
    "papermill": {
     "duration": 1.092195,
     "end_time": "2025-02-23T10:49:06.878199",
     "exception": false,
     "start_time": "2025-02-23T10:49:05.786004",
     "status": "completed"
    },
    "tags": []
   },
   "outputs": [
    {
     "name": "stdout",
     "output_type": "stream",
     "text": [
      "/kaggle/input/nyse/prices-split-adjusted.csv\n",
      "/kaggle/input/nyse/fundamentals.csv\n",
      "/kaggle/input/nyse/prices.csv\n",
      "/kaggle/input/nyse/securities.csv\n"
     ]
    }
   ],
   "source": [
    "# This Python 3 environment comes with many helpful analytics libraries installed\n",
    "# It is defined by the kaggle/python Docker image: https://github.com/kaggle/docker-python\n",
    "# For example, here's several helpful packages to load\n",
    "\n",
    "import numpy as np # linear algebra\n",
    "import pandas as pd # data processing, CSV file I/O (e.g. pd.read_csv)\n",
    "import sqlite3\n",
    "# Input data files are available in the read-only \"../input/\" directory\n",
    "# For example, running this (by clicking run or pressing Shift+Enter) will list all files under the input directory\n",
    "\n",
    "import os\n",
    "for dirname, _, filenames in os.walk('/kaggle/input'):\n",
    "    for filename in filenames:\n",
    "        print(os.path.join(dirname, filename))\n",
    "\n",
    "# You can write up to 20GB to the current directory (/kaggle/working/) that gets preserved as output when you create a version using \"Save & Run All\" \n",
    "# You can also write temporary files to /kaggle/temp/, but they won't be saved outside of the current session"
   ]
  },
  {
   "cell_type": "code",
   "execution_count": 2,
   "id": "1a570cb6",
   "metadata": {
    "execution": {
     "iopub.execute_input": "2025-02-23T10:49:06.893231Z",
     "iopub.status.busy": "2025-02-23T10:49:06.892650Z",
     "iopub.status.idle": "2025-02-23T10:49:06.899454Z",
     "shell.execute_reply": "2025-02-23T10:49:06.898483Z"
    },
    "papermill": {
     "duration": 0.01599,
     "end_time": "2025-02-23T10:49:06.901238",
     "exception": false,
     "start_time": "2025-02-23T10:49:06.885248",
     "status": "completed"
    },
    "tags": []
   },
   "outputs": [],
   "source": [
    "#Formatting the output of a SELECT query\n",
    "def format_table(column_names, rows, rows_limit = 10, cols_limit = 7, spacing = 15):\n",
    "    if len(column_names) > cols_limit:\n",
    "        column_names = column_names[:cols_limit] + ['...']\n",
    "        rows = [row[:cols_limit] for row in rows]\n",
    "    print([f\"{cname : ^{spacing}}\" for cname in column_names])\n",
    "    print('-' * (spacing + 5) * len(column_names))\n",
    "    rows_num = 0\n",
    "    for row in rows:\n",
    "        print([f\"{entry if entry is not None else 'NULL' : ^{spacing}}\" for entry in row])\n",
    "        rows_num += 1\n",
    "        if rows_num >= rows_limit: break;\n",
    "    print('\\n')"
   ]
  },
  {
   "cell_type": "markdown",
   "id": "5ff3fdfd",
   "metadata": {
    "papermill": {
     "duration": 0.00619,
     "end_time": "2025-02-23T10:49:06.916259",
     "exception": false,
     "start_time": "2025-02-23T10:49:06.910069",
     "status": "completed"
    },
    "tags": []
   },
   "source": [
    "<h2>About the Dataset</h2>"
   ]
  },
  {
   "cell_type": "markdown",
   "id": "27dd7bb2",
   "metadata": {
    "papermill": {
     "duration": 0.006166,
     "end_time": "2025-02-23T10:49:06.928852",
     "exception": false,
     "start_time": "2025-02-23T10:49:06.922686",
     "status": "completed"
    },
    "tags": []
   },
   "source": [
    "The dataset comprises of:\n",
    "<ul>\n",
    "    <li>prices.csv: raw, as-is daily prices. Most of data spans from 2010 to the end 2016, for companies new on stock market date range is shorter. There have been approx. 140 stock splits in that time, this set doesn't account for that.</li>\n",
    "    <li>prices-split-adjusted.csv: same as prices, but there have been added adjustments for splits.</li>\n",
    "    <li>securities.csv: general description of each company with division on sectors.</li>\n",
    "    <li>fundamentals.csv: metrics extracted from annual SEC 10K fillings (2012-2016).</li>\n",
    "</ul>\n",
    "Prices were fetched from Yahoo Finance, fundamentals are from Nasdaq Financials, extended by some fields from EDGAR SEC databases."
   ]
  },
  {
   "cell_type": "markdown",
   "id": "f16b4c51",
   "metadata": {
    "papermill": {
     "duration": 0.00607,
     "end_time": "2025-02-23T10:49:06.941301",
     "exception": false,
     "start_time": "2025-02-23T10:49:06.935231",
     "status": "completed"
    },
    "tags": []
   },
   "source": [
    "<h2>DATABASE CREATION</h2>"
   ]
  },
  {
   "cell_type": "markdown",
   "id": "4f25aee7",
   "metadata": {
    "papermill": {
     "duration": 0.005993,
     "end_time": "2025-02-23T10:49:06.953635",
     "exception": false,
     "start_time": "2025-02-23T10:49:06.947642",
     "status": "completed"
    },
    "tags": []
   },
   "source": [
    "We load the dataset and create a database with a table for each CSV file:"
   ]
  },
  {
   "cell_type": "code",
   "execution_count": 3,
   "id": "782838d2",
   "metadata": {
    "execution": {
     "iopub.execute_input": "2025-02-23T10:49:06.967945Z",
     "iopub.status.busy": "2025-02-23T10:49:06.967512Z",
     "iopub.status.idle": "2025-02-23T10:49:10.315576Z",
     "shell.execute_reply": "2025-02-23T10:49:10.314444Z"
    },
    "papermill": {
     "duration": 3.357476,
     "end_time": "2025-02-23T10:49:10.317577",
     "exception": false,
     "start_time": "2025-02-23T10:49:06.960101",
     "status": "completed"
    },
    "tags": []
   },
   "outputs": [],
   "source": [
    "fundamentals_df = pd.read_csv('/kaggle/input/nyse/fundamentals.csv')\n",
    "prices_df = pd.read_csv('/kaggle/input/nyse/prices.csv')\n",
    "prices_split_adjusted_df = pd.read_csv('/kaggle/input/nyse/prices-split-adjusted.csv')\n",
    "securities_df = pd.read_csv('/kaggle/input/nyse/securities.csv')"
   ]
  },
  {
   "cell_type": "code",
   "execution_count": 4,
   "id": "8e9d65ce",
   "metadata": {
    "execution": {
     "iopub.execute_input": "2025-02-23T10:49:10.331743Z",
     "iopub.status.busy": "2025-02-23T10:49:10.331345Z",
     "iopub.status.idle": "2025-02-23T10:49:15.674640Z",
     "shell.execute_reply": "2025-02-23T10:49:15.673565Z"
    },
    "papermill": {
     "duration": 5.353622,
     "end_time": "2025-02-23T10:49:15.677848",
     "exception": false,
     "start_time": "2025-02-23T10:49:10.324226",
     "status": "completed"
    },
    "tags": []
   },
   "outputs": [
    {
     "data": {
      "text/plain": [
       "505"
      ]
     },
     "execution_count": 4,
     "metadata": {},
     "output_type": "execute_result"
    }
   ],
   "source": [
    "conn = sqlite3.connect('stock_data')\n",
    "fundamentals_df.to_sql('fundamentals', conn, if_exists = 'replace',  index = False)\n",
    "prices_df.to_sql('prices', conn, if_exists = 'replace',  index = False)\n",
    "prices_split_adjusted_df.to_sql('prices_adj', conn, if_exists = 'replace',  index = False)\n",
    "securities_df.to_sql('securities', conn, if_exists = 'replace',  index = False)"
   ]
  },
  {
   "cell_type": "markdown",
   "id": "f262e6ed",
   "metadata": {
    "papermill": {
     "duration": 0.006327,
     "end_time": "2025-02-23T10:49:15.691522",
     "exception": false,
     "start_time": "2025-02-23T10:49:15.685195",
     "status": "completed"
    },
    "tags": []
   },
   "source": [
    "We can quickly visualize the first rows of each table:"
   ]
  },
  {
   "cell_type": "code",
   "execution_count": 5,
   "id": "ae3509a7",
   "metadata": {
    "execution": {
     "iopub.execute_input": "2025-02-23T10:49:15.705956Z",
     "iopub.status.busy": "2025-02-23T10:49:15.705535Z",
     "iopub.status.idle": "2025-02-23T10:49:15.720049Z",
     "shell.execute_reply": "2025-02-23T10:49:15.718379Z"
    },
    "papermill": {
     "duration": 0.024327,
     "end_time": "2025-02-23T10:49:15.722333",
     "exception": false,
     "start_time": "2025-02-23T10:49:15.698006",
     "status": "completed"
    },
    "tags": []
   },
   "outputs": [
    {
     "name": "stdout",
     "output_type": "stream",
     "text": [
      "                                        FUNDAMENTALS\n",
      "['  Unnamed: 0   ', ' Ticker Symbol ', ' Period Ending ', 'Accounts Payable', 'Accounts Receivable', \"Add'l income/expense items\", ' After Tax ROE ', '      ...      ']\n",
      "----------------------------------------------------------------------------------------------------------------------------------------------------------------\n",
      "['       0       ', '      AAL      ', '  2012-12-31   ', ' 3068000000.0  ', ' -222000000.0  ', ' -1961000000.0 ', '     23.0      ']\n",
      "['       1       ', '      AAL      ', '  2013-12-31   ', ' 4975000000.0  ', '  -93000000.0  ', ' -2723000000.0 ', '     67.0      ']\n",
      "['       2       ', '      AAL      ', '  2014-12-31   ', ' 4668000000.0  ', ' -160000000.0  ', ' -150000000.0  ', '     143.0     ']\n",
      "['       3       ', '      AAL      ', '  2015-12-31   ', ' 5102000000.0  ', '  352000000.0  ', ' -708000000.0  ', '     135.0     ']\n",
      "['       4       ', '      AAP      ', '  2012-12-29   ', ' 2409453000.0  ', '  -89482000.0  ', '   600000.0    ', '     32.0      ']\n",
      "\n",
      "\n",
      "                                        PRICES\n",
      "['     date      ', '    symbol     ', '     open      ', '     close     ', '      low      ', '     high      ', '    volume     ']\n",
      "--------------------------------------------------------------------------------------------------------------------------------------------\n",
      "['2016-01-05 00:00:00', '     WLTW      ', '    123.43     ', '  125.839996   ', '  122.309998   ', '    126.25     ', '   2163600.0   ']\n",
      "['2016-01-06 00:00:00', '     WLTW      ', '  125.239998   ', '  119.980003   ', '  119.940002   ', '  125.540001   ', '   2386400.0   ']\n",
      "['2016-01-07 00:00:00', '     WLTW      ', '  116.379997   ', '  114.949997   ', '    114.93     ', '  119.739998   ', '   2489500.0   ']\n",
      "['2016-01-08 00:00:00', '     WLTW      ', '  115.480003   ', '  116.620003   ', '     113.5     ', '  117.440002   ', '   2006300.0   ']\n",
      "['2016-01-11 00:00:00', '     WLTW      ', '  117.010002   ', '  114.970001   ', '  114.089996   ', '  117.330002   ', '   1408600.0   ']\n",
      "\n",
      "\n",
      "                                        PRICES_ADJ\n",
      "['     date      ', '    symbol     ', '     open      ', '     close     ', '      low      ', '     high      ', '    volume     ']\n",
      "--------------------------------------------------------------------------------------------------------------------------------------------\n",
      "['  2016-01-05   ', '     WLTW      ', '    123.43     ', '  125.839996   ', '  122.309998   ', '    126.25     ', '   2163600.0   ']\n",
      "['  2016-01-06   ', '     WLTW      ', '  125.239998   ', '  119.980003   ', '  119.940002   ', '  125.540001   ', '   2386400.0   ']\n",
      "['  2016-01-07   ', '     WLTW      ', '  116.379997   ', '  114.949997   ', '    114.93     ', '  119.739998   ', '   2489500.0   ']\n",
      "['  2016-01-08   ', '     WLTW      ', '  115.480003   ', '  116.620003   ', '     113.5     ', '  117.440002   ', '   2006300.0   ']\n",
      "['  2016-01-11   ', '     WLTW      ', '  117.010002   ', '  114.970001   ', '  114.089996   ', '  117.330002   ', '   1408600.0   ']\n",
      "\n",
      "\n",
      "                                        SECURITIES\n",
      "[' Ticker symbol ', '   Security    ', '  SEC filings  ', '  GICS Sector  ', 'GICS Sub Industry', 'Address of Headquarters', 'Date first added', '      ...      ']\n",
      "----------------------------------------------------------------------------------------------------------------------------------------------------------------\n",
      "['      MMM      ', '  3M Company   ', '    reports    ', '  Industrials  ', 'Industrial Conglomerates', 'St. Paul, Minnesota', '     NULL      ']\n",
      "['      ABT      ', 'Abbott Laboratories', '    reports    ', '  Health Care  ', 'Health Care Equipment', 'North Chicago, Illinois', '  1964-03-31   ']\n",
      "['     ABBV      ', '    AbbVie     ', '    reports    ', '  Health Care  ', 'Pharmaceuticals', 'North Chicago, Illinois', '  2012-12-31   ']\n",
      "['      ACN      ', ' Accenture plc ', '    reports    ', 'Information Technology', 'IT Consulting & Other Services', 'Dublin, Ireland', '  2011-07-06   ']\n",
      "['     ATVI      ', 'Activision Blizzard', '    reports    ', 'Information Technology', 'Home Entertainment Software', 'Santa Monica, California', '  2015-08-31   ']\n",
      "\n",
      "\n"
     ]
    }
   ],
   "source": [
    "TABLES = ['fundamentals', 'prices', 'prices_adj', 'securities']\n",
    "for table in TABLES:\n",
    "    cur = conn.cursor()\n",
    "    sql_view = f\"SELECT * FROM {table} LIMIT 5;\"\n",
    "    cur.execute(sql_view)\n",
    "    rows = cur.fetchall()\n",
    "    cnames = list(map(lambda x : x[0],  cur.description)) \n",
    "    cur.close()\n",
    "    print(' ' * 40 + table.upper())\n",
    "    format_table(cnames, rows)"
   ]
  },
  {
   "cell_type": "markdown",
   "id": "30ecde87",
   "metadata": {
    "papermill": {
     "duration": 0.006396,
     "end_time": "2025-02-23T10:49:15.736084",
     "exception": false,
     "start_time": "2025-02-23T10:49:15.729688",
     "status": "completed"
    },
    "tags": []
   },
   "source": [
    "<h2>UNIFORM THE DATA</h2>"
   ]
  },
  {
   "cell_type": "markdown",
   "id": "598002ad",
   "metadata": {
    "papermill": {
     "duration": 0.006621,
     "end_time": "2025-02-23T10:49:15.749316",
     "exception": false,
     "start_time": "2025-02-23T10:49:15.742695",
     "status": "completed"
    },
    "tags": []
   },
   "source": [
    "While the end data of data collection is the same for all symbols, the starting date differs, we look at the distribution of starting dates to check if there's relevant mode we can use:"
   ]
  },
  {
   "cell_type": "code",
   "execution_count": 6,
   "id": "a81a6566",
   "metadata": {
    "execution": {
     "iopub.execute_input": "2025-02-23T10:49:15.764056Z",
     "iopub.status.busy": "2025-02-23T10:49:15.763647Z",
     "iopub.status.idle": "2025-02-23T10:49:16.503478Z",
     "shell.execute_reply": "2025-02-23T10:49:16.502208Z"
    },
    "papermill": {
     "duration": 0.749929,
     "end_time": "2025-02-23T10:49:16.505813",
     "exception": false,
     "start_time": "2025-02-23T10:49:15.755884",
     "status": "completed"
    },
    "tags": []
   },
   "outputs": [
    {
     "name": "stdout",
     "output_type": "stream",
     "text": [
      "['unique_min_date', '   num_date    ']\n",
      "----------------------------------------\n",
      "['  2010-01-04   ', '      466      ']\n",
      "['  2013-01-02   ', '      13       ']\n",
      "['  2015-01-02   ', '       4       ']\n",
      "['  2015-07-06   ', '       2       ']\n",
      "['  2013-06-19   ', '       2       ']\n",
      "['2016-07-05 00:00:00', '       1       ']\n",
      "['2016-01-05 00:00:00', '       1       ']\n",
      "['  2015-11-16   ', '       1       ']\n",
      "['  2015-10-19   ', '       1       ']\n",
      "['  2015-06-24   ', '       1       ']\n",
      "\n",
      "\n"
     ]
    }
   ],
   "source": [
    "sql = \"\"\"\n",
    "WITH symbols_dates AS(\n",
    "SELECT symbol, MIN(date) AS min_date,\n",
    "MAX(date) AS max_date\n",
    "FROM prices\n",
    "GROUP BY symbol)\n",
    "SELECT  min_date as unique_min_date,\n",
    "COUNT(min_date) as num_date\n",
    "FROM symbols_dates\n",
    "GROUP BY unique_min_date\n",
    "ORDER BY num_date DESC\n",
    "\"\"\"\n",
    "\n",
    "cur = conn.cursor()\n",
    "cur.execute(sql)\n",
    "rows = cur.fetchall()\n",
    "cnames = list(map(lambda x : x[0], cur.description))\n",
    "cur.close()\n",
    "format_table(cnames, rows)"
   ]
  },
  {
   "cell_type": "markdown",
   "id": "d79cf1f8",
   "metadata": {
    "papermill": {
     "duration": 0.006358,
     "end_time": "2025-02-23T10:49:16.519525",
     "exception": false,
     "start_time": "2025-02-23T10:49:16.513167",
     "status": "completed"
    },
    "tags": []
   },
   "source": [
    "Over all the 493 symbols, only 26 has a starting date that's not 2010/01/04, so we decide to discard them; we first select the symbols with longest data collection:"
   ]
  },
  {
   "cell_type": "code",
   "execution_count": 7,
   "id": "c53c8ef1",
   "metadata": {
    "execution": {
     "iopub.execute_input": "2025-02-23T10:49:16.534233Z",
     "iopub.status.busy": "2025-02-23T10:49:16.533875Z",
     "iopub.status.idle": "2025-02-23T10:49:16.551633Z",
     "shell.execute_reply": "2025-02-23T10:49:16.550544Z"
    },
    "papermill": {
     "duration": 0.027715,
     "end_time": "2025-02-23T10:49:16.553928",
     "exception": false,
     "start_time": "2025-02-23T10:49:16.526213",
     "status": "completed"
    },
    "tags": []
   },
   "outputs": [],
   "source": [
    "sql = \"\"\"\n",
    "CREATE VIEW IF NOT EXISTS symbols_uniformed AS\n",
    "SELECT * FROM (\n",
    "SELECT \n",
    "symbol,\n",
    "MIN(date) AS min_date,\n",
    "MAX(date) AS max_date\n",
    "FROM prices\n",
    "GROUP BY symbol)\n",
    "WHERE min_date = \"2010-01-04\"\n",
    ";\n",
    "\"\"\"\n",
    "cur = conn.cursor()\n",
    "cur.execute(sql)\n",
    "cur.close()"
   ]
  },
  {
   "cell_type": "markdown",
   "id": "b130945c",
   "metadata": {
    "papermill": {
     "duration": 0.00638,
     "end_time": "2025-02-23T10:49:16.567635",
     "exception": false,
     "start_time": "2025-02-23T10:49:16.561255",
     "status": "completed"
    },
    "tags": []
   },
   "source": [
    "and then create a table for all data from the prices table selecting only these symbols:"
   ]
  },
  {
   "cell_type": "code",
   "execution_count": 8,
   "id": "c16a825c",
   "metadata": {
    "execution": {
     "iopub.execute_input": "2025-02-23T10:49:16.582404Z",
     "iopub.status.busy": "2025-02-23T10:49:16.582039Z",
     "iopub.status.idle": "2025-02-23T10:49:18.267028Z",
     "shell.execute_reply": "2025-02-23T10:49:18.265811Z"
    },
    "papermill": {
     "duration": 1.694908,
     "end_time": "2025-02-23T10:49:18.269269",
     "exception": false,
     "start_time": "2025-02-23T10:49:16.574361",
     "status": "completed"
    },
    "tags": []
   },
   "outputs": [],
   "source": [
    "sql = \"\"\"\n",
    "DROP TABLE IF EXISTS price_unifored;\n",
    "CREATE TABLE IF NOT EXISTS price_uniformed AS\n",
    "SELECT * \n",
    "FROM prices\n",
    "WHERE prices.symbol IN (SELECT symbol FROM symbols_uniformed)\n",
    ";\n",
    "\"\"\"\n",
    "cur = conn.cursor()\n",
    "cur.executescript(sql)\n",
    "cur.close()"
   ]
  },
  {
   "cell_type": "markdown",
   "id": "453b6dcc",
   "metadata": {
    "papermill": {
     "duration": 0.0066,
     "end_time": "2025-02-23T10:49:18.282865",
     "exception": false,
     "start_time": "2025-02-23T10:49:18.276265",
     "status": "completed"
    },
    "tags": []
   },
   "source": [
    "<h2>SECTORS SHARPE RATIO</h2>"
   ]
  },
  {
   "cell_type": "markdown",
   "id": "1e1098df",
   "metadata": {
    "papermill": {
     "duration": 0.006251,
     "end_time": "2025-02-23T10:49:18.295808",
     "exception": false,
     "start_time": "2025-02-23T10:49:18.289557",
     "status": "completed"
    },
    "tags": []
   },
   "source": [
    "Sharpe ratio is an indicator to evaluate a portfolio return in relation to the associated risk, the higher the Sharpe ratio the more confident we can be about the portfolio (albeit it's not tipically a sufficient indicator alone).</br>\n",
    "The aim of this section is then to evaluate the most promising sectors; we therefore need to associate each stock with the sector it belongs to: the latter is defined in the securities table, we first rename the columns we are interested in:"
   ]
  },
  {
   "cell_type": "code",
   "execution_count": 9,
   "id": "16ec00f5",
   "metadata": {
    "execution": {
     "iopub.execute_input": "2025-02-23T10:49:18.310394Z",
     "iopub.status.busy": "2025-02-23T10:49:18.310052Z",
     "iopub.status.idle": "2025-02-23T10:49:18.336778Z",
     "shell.execute_reply": "2025-02-23T10:49:18.335777Z"
    },
    "papermill": {
     "duration": 0.036305,
     "end_time": "2025-02-23T10:49:18.338774",
     "exception": false,
     "start_time": "2025-02-23T10:49:18.302469",
     "status": "completed"
    },
    "tags": []
   },
   "outputs": [],
   "source": [
    "sql_rename = \"\"\"\n",
    "ALTER TABLE securities RENAME COLUMN \"Ticker symbol\" TO symbol;\n",
    "ALTER TABLE securities RENAME COLUMN \"GICS Sector\" TO sector;\n",
    "\"\"\"\n",
    "cur = conn.cursor()\n",
    "cur.executescript(sql_rename)\n",
    "conn.commit()\n",
    "cur.close()"
   ]
  },
  {
   "cell_type": "markdown",
   "id": "12bdbf60",
   "metadata": {
    "papermill": {
     "duration": 0.006418,
     "end_time": "2025-02-23T10:49:18.351872",
     "exception": false,
     "start_time": "2025-02-23T10:49:18.345454",
     "status": "completed"
    },
    "tags": []
   },
   "source": [
    "We can now join them with the stock data in a new view, we also add a column with the return values which we'll need to compute the Sharpe ratio:"
   ]
  },
  {
   "cell_type": "code",
   "execution_count": 10,
   "id": "65739762",
   "metadata": {
    "execution": {
     "iopub.execute_input": "2025-02-23T10:49:18.366368Z",
     "iopub.status.busy": "2025-02-23T10:49:18.365997Z",
     "iopub.status.idle": "2025-02-23T10:49:18.382313Z",
     "shell.execute_reply": "2025-02-23T10:49:18.381235Z"
    },
    "papermill": {
     "duration": 0.025846,
     "end_time": "2025-02-23T10:49:18.384273",
     "exception": false,
     "start_time": "2025-02-23T10:49:18.358427",
     "status": "completed"
    },
    "tags": []
   },
   "outputs": [],
   "source": [
    "def get_return(x):\n",
    "    try:\n",
    "        return np.log(x) + 1\n",
    "    except:\n",
    "        return x\n",
    "\n",
    "conn.create_function('GET_RETURN', 1, get_return)\n",
    "\n",
    "sql_symb_sec = \"\"\"\n",
    "DROP VIEW IF EXISTS symbol_sector;\n",
    "CREATE VIEW IF NOT EXISTS symbol_sector AS\n",
    "SELECT \n",
    "prices.*,\n",
    "securities.sector,\n",
    "get_return(close / (LAG(close, 1, NULL) OVER (PARTITION BY prices.symbol ORDER BY date ASC))) AS return\n",
    "FROM prices INNER JOIN securities ON prices.symbol = securities.symbol;\n",
    "\"\"\"\n",
    "\n",
    "cur = conn.cursor()\n",
    "cur.executescript(sql_symb_sec)\n",
    "cur.close()"
   ]
  },
  {
   "cell_type": "markdown",
   "id": "189418e7",
   "metadata": {
    "papermill": {
     "duration": 0.006538,
     "end_time": "2025-02-23T10:49:18.397929",
     "exception": false,
     "start_time": "2025-02-23T10:49:18.391391",
     "status": "completed"
    },
    "tags": []
   },
   "source": [
    "With the aid of user defined function we can write a query to return the Sharpe ration of each sector:"
   ]
  },
  {
   "cell_type": "code",
   "execution_count": 11,
   "id": "3b8fe43f",
   "metadata": {
    "execution": {
     "iopub.execute_input": "2025-02-23T10:49:18.412912Z",
     "iopub.status.busy": "2025-02-23T10:49:18.412535Z",
     "iopub.status.idle": "2025-02-23T10:49:35.238126Z",
     "shell.execute_reply": "2025-02-23T10:49:35.236943Z"
    },
    "papermill": {
     "duration": 16.83624,
     "end_time": "2025-02-23T10:49:35.240698",
     "exception": false,
     "start_time": "2025-02-23T10:49:18.404458",
     "status": "completed"
    },
    "tags": []
   },
   "outputs": [
    {
     "name": "stdout",
     "output_type": "stream",
     "text": [
      "['    sector     ', ' sharpe_ratio  ']\n",
      "----------------------------------------\n",
      "['  Real Estate  ', '4.250370932863932']\n",
      "['  Health Care  ', '4.197227442768982']\n",
      "['  Industrials  ', '3.9404631973390454']\n",
      "['Consumer Discretionary', '3.4998512756938203']\n",
      "['  Financials   ', '3.3456772677837137']\n",
      "['Consumer Staples', '2.7012396022606118']\n",
      "['Information Technology', '2.298128249883806']\n",
      "['   Utilities   ', '2.190323941203284']\n",
      "['Telecommunications Services', '1.70501159249443']\n",
      "['   Materials   ', '0.9834609384066598']\n",
      "['    Energy     ', '-1.2573757842416295']\n",
      "\n",
      "\n"
     ]
    }
   ],
   "source": [
    "def get_sqrt(x):\n",
    "    try:\n",
    "        return np.sqrt(x)\n",
    "    except:\n",
    "        return x\n",
    "\n",
    "conn.create_function('SQRT', 1, get_sqrt)\n",
    "\n",
    "def get_return(risk_free):\n",
    "    \n",
    "    params_dict = {'risk_free' : risk_free}\n",
    "    \n",
    "    sql_rtrn = \"\"\"\n",
    "    WITH return_avg AS\n",
    "    (SELECT sector, AVG(return) AS return_mean FROM symbol_sector GROUP BY sector),\n",
    "    sector_mean_std AS\n",
    "    (SELECT symbol_sector.sector, return_mean, SQRT(SUM((return - return_mean)*(return - return_mean))/(COUNT(return) - 1)) AS return_std \n",
    "    FROM symbol_sector JOIN return_avg ON symbol_sector.sector = return_avg.sector GROUP BY symbol_sector.sector)\n",
    "    SELECT sector, (((return_mean - 1) * 252) - :risk_free) / return_std AS sharpe_ratio  FROM sector_mean_std ORDER BY sharpe_ratio DESC;\n",
    "    \"\"\"\n",
    "    cur = conn.cursor()\n",
    "    cur.execute(sql_rtrn, params_dict)\n",
    "    rows = cur.fetchall()\n",
    "    cnames = list(map(lambda x : x[0], cur.description))\n",
    "    cur.close()\n",
    "    format_table(cnames, rows, rows_limit = 15)\n",
    "\n",
    "get_return(0.032)"
   ]
  },
  {
   "cell_type": "markdown",
   "id": "6bb56ec9",
   "metadata": {
    "papermill": {
     "duration": 0.011707,
     "end_time": "2025-02-23T10:49:35.264614",
     "exception": false,
     "start_time": "2025-02-23T10:49:35.252907",
     "status": "completed"
    },
    "tags": []
   },
   "source": [
    "A value greater than 1 is considered acceptable, therefore a resonable portfolio would include stocks in:\n",
    "<ul>\n",
    "    <li>Real Estate</li>\n",
    "    <li>Health Care</li>\n",
    "    <li>Industrials</li>\n",
    "    <li>Consumer Discretionary</li>\n",
    "    <li>Financials</li>\n",
    "    <li>Consumer Staples</li>\n",
    "    <li>Information Technology</li>\n",
    "    <li>Utilities</li>\n",
    "    <li>Telecommunications Services</li>\n",
    "</ul>"
   ]
  },
  {
   "cell_type": "markdown",
   "id": "cf3f0f45",
   "metadata": {
    "papermill": {
     "duration": 0.006574,
     "end_time": "2025-02-23T10:49:35.280256",
     "exception": false,
     "start_time": "2025-02-23T10:49:35.273682",
     "status": "completed"
    },
    "tags": []
   },
   "source": [
    "<h2>STRATEGIES COMPARISON</h2>"
   ]
  },
  {
   "cell_type": "markdown",
   "id": "c3eb696b",
   "metadata": {
    "papermill": {
     "duration": 0.00637,
     "end_time": "2025-02-23T10:49:35.293542",
     "exception": false,
     "start_time": "2025-02-23T10:49:35.287172",
     "status": "completed"
    },
    "tags": []
   },
   "source": [
    "In this section we implement three (very simple) trading models with comparative results to check which one it's the best performing; we consider three strategies:\n",
    "<ul>\n",
    "    <li>Overall buy-and-hold: buying shares for a stock at the Open price on the first trading day (2010-01-04) and selling them at the Close price of the last trading day.</li>\n",
    "    <li>Monthly buy-and-hold: buying shares for a stock at the Open price on the first trading day of each month and selling them at the Close price of the last trading day of the same month.</li>\n",
    "    <li>Conditional buy-and-hold: buying shares for a stock at the Open price on the first trading day of a month and selling them at the Close price of the last trading day of the same month IF there's an \"upward trend\", i.e. a 10-day moving average at the beginning of the month is higher than a 30-day moving average.</li>\n",
    "</ul>\n",
    "We'll compute the results both per share and multiplied by a lot size, focus on the top 10 shares in terms if closing price:"
   ]
  },
  {
   "cell_type": "code",
   "execution_count": 12,
   "id": "38564d32",
   "metadata": {
    "execution": {
     "iopub.execute_input": "2025-02-23T10:49:35.308519Z",
     "iopub.status.busy": "2025-02-23T10:49:35.308153Z",
     "iopub.status.idle": "2025-02-23T10:49:35.862199Z",
     "shell.execute_reply": "2025-02-23T10:49:35.860952Z"
    },
    "papermill": {
     "duration": 0.56406,
     "end_time": "2025-02-23T10:49:35.864457",
     "exception": false,
     "start_time": "2025-02-23T10:49:35.300397",
     "status": "completed"
    },
    "tags": []
   },
   "outputs": [
    {
     "name": "stdout",
     "output_type": "stream",
     "text": [
      "['  top_symbol   ', '     Total     ']\n",
      "----------------------------------------\n",
      "['     PCLN      ', '1521411.018718999']\n",
      "['     GOOGL     ', '1190377.8586189984']\n",
      "['     GOOG      ', '1176544.1359700002']\n",
      "['      AZO      ', ' 826391.649805 ']\n",
      "['     ISRG      ', '813999.7806260004']\n",
      "['      CMG      ', ' 724629.530008 ']\n",
      "['     AMZN      ', '595378.1406979997']\n",
      "['     AAPL      ', '551377.4896539997']\n",
      "['      MA       ', '472034.4399309996']\n",
      "['      BLK      ', '461275.46024000045']\n",
      "\n",
      "\n"
     ]
    }
   ],
   "source": [
    "sql = \"\"\"\n",
    "SELECT symbol as top_symbol, SUM(close) as Total\n",
    "FROM price_uniformed\n",
    "GROUP BY symbol\n",
    "ORDER BY Total DESC\n",
    "LIMIT 10\n",
    ";\n",
    "\"\"\"\n",
    "\n",
    "cur = conn.cursor()\n",
    "cur.execute(sql)\n",
    "rows = cur.fetchall()\n",
    "cnames = list(map(lambda x: x[0], cur.description))\n",
    "cur.close()\n",
    "format_table(cnames, rows)"
   ]
  },
  {
   "cell_type": "markdown",
   "id": "3dea614b",
   "metadata": {
    "papermill": {
     "duration": 0.006753,
     "end_time": "2025-02-23T10:49:35.883926",
     "exception": false,
     "start_time": "2025-02-23T10:49:35.877173",
     "status": "completed"
    },
    "tags": []
   },
   "source": [
    "The top stocks for closing prices are:\n",
    "<ul>\n",
    "    <li>PCLN (Now Booking Holdings Inc.)</li>\n",
    "    <li>AAPL (Apple Inc.)</li>\n",
    "    <li>GOOGL (Alphabet Inc.)</li>\n",
    "    <li>ISRG (Intuitive Surgical Inc.)</li>\n",
    "    <li>GOOG (Alphabet Inc.)</li>\n",
    "    <li>CMG (Chipotle Mexican Grill Inc.)</li>\n",
    "    <li>AMZN (Amazon.com Inc.)</li>\n",
    "    <li>BLK (BlackRock Inc.)</li>\n",
    "    <li>MA (Mastercard Inc.)</li>\n",
    "    <li>MTD (Mettler-Toledo International Inc.)</li>\n",
    "</ul>"
   ]
  },
  {
   "cell_type": "code",
   "execution_count": 13,
   "id": "c6f1b3a3",
   "metadata": {
    "execution": {
     "iopub.execute_input": "2025-02-23T10:49:35.899989Z",
     "iopub.status.busy": "2025-02-23T10:49:35.899494Z",
     "iopub.status.idle": "2025-02-23T10:49:35.906780Z",
     "shell.execute_reply": "2025-02-23T10:49:35.905531Z"
    },
    "papermill": {
     "duration": 0.017871,
     "end_time": "2025-02-23T10:49:35.908963",
     "exception": false,
     "start_time": "2025-02-23T10:49:35.891092",
     "status": "completed"
    },
    "tags": []
   },
   "outputs": [],
   "source": [
    "sql_results = \"\"\"\n",
    "/* Creating a table holding the summary results */\n",
    "DROP TABLE IF EXISTS strategies_results;\n",
    "CREATE TABLE IF NOT EXISTS strategies_results(\n",
    "symbol text,\n",
    "lot_size integer,\n",
    "G_L_share_hold real,\n",
    "G_L_lot_hold real,\n",
    "G_L_share_monthly real,\n",
    "G_L_lot_monthly real,\n",
    "G_L_share_mav real,\n",
    "G_L_lot_mav real\n",
    ");\n",
    "\"\"\"\n",
    "\n",
    "\n",
    "sql_smd = \"\"\"\n",
    "/* Creating a temporary table with all the data necessary for the three trading rules \n",
    "(first day Open price and last day Close price for each month, Monving Averages values \n",
    "for the first day of each month) */\n",
    "\n",
    "CREATE TEMPORARY TABLE IF NOT EXISTS symbol_monthly_data AS SELECT * FROM\n",
    "        (\n",
    "        WITH first_day AS\n",
    "        (SELECT * FROM \n",
    "        (SELECT symbol,\n",
    "            date,\n",
    "            Open,\n",
    "            CAST(substr(date, 1, 4) AS INTEGER) AS year,\n",
    "            CAST(substr(date, 6, 2) AS INTEGER) AS month,\n",
    "            AVG(Close) OVER (\n",
    "                ORDER BY date\n",
    "                ROWS BETWEEN 9 PRECEDING AND CURRENT ROW\n",
    "                ) mav_10, \n",
    "            AVG(Close) OVER (\n",
    "                ORDER BY date\n",
    "                ROWS BETWEEN 29 PRECEDING AND CURRENT ROW\n",
    "                ) mav_30\n",
    "            FROM price_uniformed\n",
    "            WHERE symbol = :symbol)\n",
    "        GROUP BY year, month\n",
    "        HAVING date = MIN(date)),\n",
    "        \n",
    "        last_day AS\n",
    "        (SELECT symbol, year, month, Close FROM \n",
    "        (SELECT symbol,\n",
    "            date,\n",
    "            CAST(substr(date, 1, 4) AS INTEGER) AS year,\n",
    "            CAST(substr(date, 6, 2) AS INTEGER) AS month,\n",
    "            Close\n",
    "            FROM price_uniformed\n",
    "            WHERE symbol = :symbol)\n",
    "        GROUP BY year, month\n",
    "        HAVING date = MAX(date))\n",
    "        SELECT first_day.symbol, first_day.year, first_day.month, first_day.Open, first_day.mav_10, first_day.mav_30, last_day.Close\n",
    "        FROM first_day INNER JOIN last_day ON (first_day.year = last_day.year AND first_day.month = last_day.month)\n",
    "        );\n",
    "        \"\"\"\n",
    "\n",
    "sql_insert = \"\"\"\n",
    "/* Populating the results table with data for each share and the entire lot */\n",
    "\n",
    "INSERT INTO strategies_results SELECT * FROM (\n",
    "WITH fo AS \n",
    "(SELECT Open AS First_Open \n",
    "FROM symbol_monthly_data WHERE \n",
    "(year = (SELECT MIN(year) FROM symbol_monthly_data) AND month = (SELECT MIN(month) FROM symbol_monthly_data))\n",
    "),\n",
    "lc AS\n",
    "(SELECT Close AS Last_Close \n",
    "FROM symbol_monthly_data WHERE \n",
    "(year = (SELECT MAX(year) FROM symbol_monthly_data) AND month = (SELECT MAX(month) FROM symbol_monthly_data))\n",
    "),\n",
    "monthly AS\n",
    "(SELECT\n",
    "SUM(Close - Open) AS monthly_share,\n",
    "SUM(Close - Open) * :lot_size AS monthly_lot\n",
    "FROM symbol_monthly_data),\n",
    "mav AS\n",
    "(SELECT\n",
    "SUM(Close - Open) AS mav_share,\n",
    "SUM(Close - Open) * :lot_size AS mav_lot\n",
    "FROM symbol_monthly_data WHERE mav_10 > mav_30)\n",
    "SELECT DISTINCT\n",
    "symbol_monthly_data.symbol,\n",
    ":lot_size,\n",
    "lc.Last_Close - fo.First_Open,\n",
    "(lc.Last_Close - fo.First_Open) * :lot_size,\n",
    "monthly.monthly_share,\n",
    "monthly.monthly_lot,\n",
    "mav.mav_share,\n",
    "mav.mav_lot\n",
    "FROM symbol_monthly_data, fo, lc, monthly, mav\n",
    ");\n",
    "\"\"\"\n",
    "\n",
    "sql_clean = \"\"\"\n",
    "        /* Dropping the temporary table when all the results are computed */\n",
    "        DROP TABLE IF EXISTS temp.symbol_monthly_data;\n",
    "        \"\"\""
   ]
  },
  {
   "cell_type": "markdown",
   "id": "ca751699",
   "metadata": {
    "papermill": {
     "duration": 0.012438,
     "end_time": "2025-02-23T10:49:35.934232",
     "exception": false,
     "start_time": "2025-02-23T10:49:35.921794",
     "status": "completed"
    },
    "tags": []
   },
   "source": [
    "We'll compute the results using the same lot size for all stocks:"
   ]
  },
  {
   "cell_type": "code",
   "execution_count": 14,
   "id": "acd55dd5",
   "metadata": {
    "execution": {
     "iopub.execute_input": "2025-02-23T10:49:35.950551Z",
     "iopub.status.busy": "2025-02-23T10:49:35.950084Z",
     "iopub.status.idle": "2025-02-23T10:49:37.957500Z",
     "shell.execute_reply": "2025-02-23T10:49:37.956447Z"
    },
    "papermill": {
     "duration": 2.017489,
     "end_time": "2025-02-23T10:49:37.959477",
     "exception": false,
     "start_time": "2025-02-23T10:49:35.941988",
     "status": "completed"
    },
    "tags": []
   },
   "outputs": [
    {
     "name": "stdout",
     "output_type": "stream",
     "text": [
      "Summary results produced!\n"
     ]
    }
   ],
   "source": [
    "top10_symbols = ['PCLN', 'GOOGL', 'GOOG', 'AZO', 'ISRG', 'CMG', 'AMZN', 'AAPL', 'MA', 'BLK']\n",
    "lot_sizes = [150 for _ in range(len(top10_symbols))]\n",
    "cur = conn.cursor()\n",
    "cur.executescript(sql_results)\n",
    "cur.executescript(sql_clean)\n",
    "conn.commit()\n",
    "cur.close()\n",
    "for symbol, lot_size in zip(top10_symbols, lot_sizes):\n",
    "    params_dict = {\"symbol\" : symbol, \"lot_size\" : lot_size}\n",
    "    cur = conn.cursor()\n",
    "    cur.execute(sql_smd, params_dict)\n",
    "    conn.commit()\n",
    "    cur.execute(sql_insert, params_dict)\n",
    "    conn.commit()\n",
    "    cur.executescript(sql_clean)\n",
    "    conn.commit()\n",
    "    cur.close()\n",
    "print('Summary results produced!')"
   ]
  },
  {
   "cell_type": "markdown",
   "id": "d0de0122",
   "metadata": {
    "papermill": {
     "duration": 0.00654,
     "end_time": "2025-02-23T10:49:37.973141",
     "exception": false,
     "start_time": "2025-02-23T10:49:37.966601",
     "status": "completed"
    },
    "tags": []
   },
   "source": [
    "Finally we show the results for the whole lot size for the three different strategies:"
   ]
  },
  {
   "cell_type": "code",
   "execution_count": 15,
   "id": "ac2715d0",
   "metadata": {
    "execution": {
     "iopub.execute_input": "2025-02-23T10:49:37.988256Z",
     "iopub.status.busy": "2025-02-23T10:49:37.987903Z",
     "iopub.status.idle": "2025-02-23T10:49:37.997695Z",
     "shell.execute_reply": "2025-02-23T10:49:37.995963Z"
    },
    "papermill": {
     "duration": 0.019611,
     "end_time": "2025-02-23T10:49:37.999604",
     "exception": false,
     "start_time": "2025-02-23T10:49:37.979993",
     "status": "completed"
    },
    "tags": []
   },
   "outputs": [
    {
     "name": "stdout",
     "output_type": "stream",
     "text": [
      "['    symbol     ', '   lot_size    ', ' G_L_lot_hold  ', 'G_L_lot_monthly', '  G_L_lot_mav  ']\n",
      "----------------------------------------------------------------------------------------------------\n",
      "['     PCLN      ', '      150      ', '   186561.01   ', '   166999.47   ', '   30511.54    ']\n",
      "['     GOOGL     ', '      150      ', '    24825.0    ', '    14125.5    ', '   39262.46    ']\n",
      "['     GOOG      ', '      150      ', '   21730.34    ', '   12509.76    ', '   -55786.39   ']\n",
      "['      AZO      ', '      150      ', '    94620.0    ', '   89667.02    ', '    40558.5    ']\n",
      "['     ISRG      ', '      150      ', '    49045.5    ', '   28603.49    ', '    9063.01    ']\n",
      "['      CMG      ', '      150      ', '    43158.0    ', '   42637.51    ', '   26467.53    ']\n",
      "['     AMZN      ', '      150      ', '    92043.0    ', '   92245.53    ', '   65389.52    ']\n",
      "['     AAPL      ', '      150      ', '   -14641.5    ', '   -30991.5    ', '   -34755.0    ']\n",
      "['      MA       ', '      150      ', '   -23211.0    ', '   -28696.49   ', '   -63265.48   ']\n",
      "['      BLK      ', '      150      ', '    21673.5    ', '   19385.99    ', '    6264.0     ']\n",
      "\n",
      "\n"
     ]
    }
   ],
   "source": [
    "sql_results = \"\"\"\n",
    "SELECT \n",
    "symbol,\n",
    "lot_size,\n",
    "ROUND(G_L_lot_hold, 2) AS G_L_lot_hold,\n",
    "ROUND(G_L_lot_monthly, 2) AS G_L_lot_monthly,\n",
    "ROUND(G_L_lot_mav, 2) AS G_L_lot_mav\n",
    "FROM strategies_results;\n",
    "\"\"\"\n",
    "\n",
    "cur = conn.cursor()\n",
    "cur.execute(sql_results)\n",
    "rows = cur.fetchall()\n",
    "cnames = list(map(lambda x : x[0], cur.description))\n",
    "cur.close()\n",
    "format_table(cnames, rows, rows_limit = 11)"
   ]
  },
  {
   "cell_type": "markdown",
   "id": "5588b3e8",
   "metadata": {
    "papermill": {
     "duration": 0.006884,
     "end_time": "2025-02-23T10:49:38.015249",
     "exception": false,
     "start_time": "2025-02-23T10:49:38.008365",
     "status": "completed"
    },
    "tags": []
   },
   "source": [
    "In this case the overall buy-and-hold rule outperforms the other two for almost all the stocks; it's worth stressing however that these trading rules are overly simplistic and to be considered as benchmarks rather than recommended strategies."
   ]
  },
  {
   "cell_type": "code",
   "execution_count": 16,
   "id": "8458feec",
   "metadata": {
    "execution": {
     "iopub.execute_input": "2025-02-23T10:49:38.030826Z",
     "iopub.status.busy": "2025-02-23T10:49:38.030413Z",
     "iopub.status.idle": "2025-02-23T10:49:38.053453Z",
     "shell.execute_reply": "2025-02-23T10:49:38.052252Z"
    },
    "papermill": {
     "duration": 0.033074,
     "end_time": "2025-02-23T10:49:38.055527",
     "exception": false,
     "start_time": "2025-02-23T10:49:38.022453",
     "status": "completed"
    },
    "tags": []
   },
   "outputs": [],
   "source": [
    "#Cleaning remaining views\n",
    "\n",
    "sql = \"\"\"\n",
    "DROP VIEW IF EXISTS symbols_uniformed;\n",
    "DROP VIEW IF EXISTS symbol_sector;\n",
    "\"\"\"\n",
    "\n",
    "cur = conn.cursor()\n",
    "cur.executescript(sql)\n",
    "cur.close()"
   ]
  }
 ],
 "metadata": {
  "kaggle": {
   "accelerator": "none",
   "dataSources": [
    {
     "datasetId": 854,
     "sourceId": 1575,
     "sourceType": "datasetVersion"
    }
   ],
   "dockerImageVersionId": 30886,
   "isGpuEnabled": false,
   "isInternetEnabled": true,
   "language": "python",
   "sourceType": "notebook"
  },
  "kernelspec": {
   "display_name": "Python 3",
   "language": "python",
   "name": "python3"
  },
  "language_info": {
   "codemirror_mode": {
    "name": "ipython",
    "version": 3
   },
   "file_extension": ".py",
   "mimetype": "text/x-python",
   "name": "python",
   "nbconvert_exporter": "python",
   "pygments_lexer": "ipython3",
   "version": "3.10.12"
  },
  "papermill": {
   "default_parameters": {},
   "duration": 36.072905,
   "end_time": "2025-02-23T10:49:38.683738",
   "environment_variables": {},
   "exception": null,
   "input_path": "__notebook__.ipynb",
   "output_path": "__notebook__.ipynb",
   "parameters": {},
   "start_time": "2025-02-23T10:49:02.610833",
   "version": "2.6.0"
  }
 },
 "nbformat": 4,
 "nbformat_minor": 5
}
