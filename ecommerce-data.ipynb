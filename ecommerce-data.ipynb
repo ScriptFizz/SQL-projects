{
 "cells": [
  {
   "cell_type": "code",
   "execution_count": 1,
   "id": "f89abb54",
   "metadata": {
    "_cell_guid": "b1076dfc-b9ad-4769-8c92-a6c4dae69d19",
    "_uuid": "8f2839f25d086af736a60e9eeb907d3b93b6e0e5",
    "execution": {
     "iopub.execute_input": "2025-02-09T10:15:13.414297Z",
     "iopub.status.busy": "2025-02-09T10:15:13.413940Z",
     "iopub.status.idle": "2025-02-09T10:15:14.402411Z",
     "shell.execute_reply": "2025-02-09T10:15:14.401224Z"
    },
    "papermill": {
     "duration": 0.996601,
     "end_time": "2025-02-09T10:15:14.404221",
     "exception": false,
     "start_time": "2025-02-09T10:15:13.407620",
     "status": "completed"
    },
    "tags": []
   },
   "outputs": [
    {
     "name": "stdout",
     "output_type": "stream",
     "text": [
      "SQLite version:  3.37.2\n",
      "/kaggle/input/ecommerce-data/Sales target.csv\n",
      "/kaggle/input/ecommerce-data/Order Details.csv\n",
      "/kaggle/input/ecommerce-data/List of Orders.csv\n"
     ]
    }
   ],
   "source": [
    "# This Python 3 environment comes with many helpful analytics libraries installed\n",
    "# It is defined by the kaggle/python Docker image: https://github.com/kaggle/docker-python\n",
    "# For example, here's several helpful packages to load\n",
    "\n",
    "import numpy as np # linear algebra\n",
    "import pandas as pd # data processing, CSV file I/O (e.g. pd.read_csv)\n",
    "import sqlite3\n",
    "print('SQLite version: ', sqlite3.sqlite_version)\n",
    "import warnings; \n",
    "warnings.simplefilter('ignore')\n",
    "\n",
    "# Input data files are available in the read-only \"../input/\" directory\n",
    "# For example, running this (by clicking run or pressing Shift+Enter) will list all files under the input directory\n",
    "\n",
    "import os\n",
    "for dirname, _, filenames in os.walk('/kaggle/input'):\n",
    "    for filename in filenames:\n",
    "        print(os.path.join(dirname, filename))\n",
    "\n",
    "# You can write up to 20GB to the current directory (/kaggle/working/) that gets preserved as output when you create a version using \"Save & Run All\" \n",
    "# You can also write temporary files to /kaggle/temp/, but they won't be saved outside of the current session"
   ]
  },
  {
   "cell_type": "markdown",
   "id": "d7cd64bf",
   "metadata": {
    "papermill": {
     "duration": 0.004001,
     "end_time": "2025-02-09T10:15:14.412989",
     "exception": false,
     "start_time": "2025-02-09T10:15:14.408988",
     "status": "completed"
    },
    "tags": []
   },
   "source": [
    "The dataset is retrieved from <a href=\"https://www.kaggle.com/datasets/benroshan/ecommerce-data\">this page</a>.</br>\n",
    "**Context**\n",
    "<ul>\n",
    "<li>List of Orders: This dataset contains purchase information. The information includes ID, Date of Purchase and customer details.</li>\n",
    "<li>Order Details: This dataset contains order ID, with the order price, quantity,profit, category and subcategory of product</li>\n",
    "<li>Sales target: This dataset contains sales target amount and date for each product category</li>\n",
    "</ul>"
   ]
  },
  {
   "cell_type": "code",
   "execution_count": 2,
   "id": "abbe7cc1",
   "metadata": {
    "execution": {
     "iopub.execute_input": "2025-02-09T10:15:14.422549Z",
     "iopub.status.busy": "2025-02-09T10:15:14.422072Z",
     "iopub.status.idle": "2025-02-09T10:15:14.461121Z",
     "shell.execute_reply": "2025-02-09T10:15:14.460120Z"
    },
    "papermill": {
     "duration": 0.045906,
     "end_time": "2025-02-09T10:15:14.463046",
     "exception": false,
     "start_time": "2025-02-09T10:15:14.417140",
     "status": "completed"
    },
    "tags": []
   },
   "outputs": [],
   "source": [
    "order_list_df = pd.read_csv('/kaggle/input/ecommerce-data/List of Orders.csv')\n",
    "order_details_df = pd.read_csv('/kaggle/input/ecommerce-data/Order Details.csv')\n",
    "sales_target_df = pd.read_csv('/kaggle/input/ecommerce-data/Sales target.csv')"
   ]
  },
  {
   "cell_type": "code",
   "execution_count": 3,
   "id": "c224e5e5",
   "metadata": {
    "execution": {
     "iopub.execute_input": "2025-02-09T10:15:14.473104Z",
     "iopub.status.busy": "2025-02-09T10:15:14.472703Z",
     "iopub.status.idle": "2025-02-09T10:15:14.565328Z",
     "shell.execute_reply": "2025-02-09T10:15:14.564353Z"
    },
    "papermill": {
     "duration": 0.099678,
     "end_time": "2025-02-09T10:15:14.567169",
     "exception": false,
     "start_time": "2025-02-09T10:15:14.467491",
     "status": "completed"
    },
    "tags": []
   },
   "outputs": [
    {
     "data": {
      "text/plain": [
       "36"
      ]
     },
     "execution_count": 3,
     "metadata": {},
     "output_type": "execute_result"
    }
   ],
   "source": [
    "conn = sqlite3.connect('ecommerce.db')\n",
    "order_list_df.to_sql('order_list', conn, if_exists = 'replace', index = False)\n",
    "order_details_df.to_sql('order_details', conn, if_exists = 'replace', index = False)\n",
    "sales_target_df.to_sql('sales_target', conn, if_exists = 'replace', index = False)"
   ]
  },
  {
   "cell_type": "markdown",
   "id": "26413d4d",
   "metadata": {
    "papermill": {
     "duration": 0.004326,
     "end_time": "2025-02-09T10:15:14.575909",
     "exception": false,
     "start_time": "2025-02-09T10:15:14.571583",
     "status": "completed"
    },
    "tags": []
   },
   "source": [
    "We first show the first 5 rows of all the tables:"
   ]
  },
  {
   "cell_type": "code",
   "execution_count": 4,
   "id": "668c202f",
   "metadata": {
    "execution": {
     "iopub.execute_input": "2025-02-09T10:15:14.586007Z",
     "iopub.status.busy": "2025-02-09T10:15:14.585613Z",
     "iopub.status.idle": "2025-02-09T10:15:14.601139Z",
     "shell.execute_reply": "2025-02-09T10:15:14.599817Z"
    },
    "papermill": {
     "duration": 0.022649,
     "end_time": "2025-02-09T10:15:14.602956",
     "exception": false,
     "start_time": "2025-02-09T10:15:14.580307",
     "status": "completed"
    },
    "tags": []
   },
   "outputs": [
    {
     "name": "stdout",
     "output_type": "stream",
     "text": [
      "                                        ORDER_LIST\n",
      "\n",
      "['   Order ID    ', '  Order Date   ', ' CustomerName  ', '     State     ', '     City      ']\n",
      "----------------------------------------------------------------------------------------------------\n",
      "['    B-25601    ', '  01-04-2018   ', '    Bharat     ', '    Gujarat    ', '   Ahmedabad   ']\n",
      "['    B-25602    ', '  01-04-2018   ', '     Pearl     ', '  Maharashtra  ', '     Pune      ']\n",
      "['    B-25603    ', '  03-04-2018   ', '     Jahan     ', 'Madhya Pradesh ', '    Bhopal     ']\n",
      "['    B-25604    ', '  03-04-2018   ', '    Divsha     ', '   Rajasthan   ', '    Jaipur     ']\n",
      "['    B-25605    ', '  05-04-2018   ', '    Kasheen    ', '  West Bengal  ', '    Kolkata    ']\n",
      "\n",
      "\n",
      "\n",
      "                                        ORDER_DETAILS\n",
      "\n",
      "['   Order ID    ', '    Amount     ', '    Profit     ', '   Quantity    ', '   Category    ', ' Sub-Category  ']\n",
      "------------------------------------------------------------------------------------------------------------------------\n",
      "['    B-25601    ', '    1275.0     ', '    -1148.0    ', '       7       ', '   Furniture   ', '   Bookcases   ']\n",
      "['    B-25601    ', '     66.0      ', '     -12.0     ', '       5       ', '   Clothing    ', '     Stole     ']\n",
      "['    B-25601    ', '      8.0      ', '     -2.0      ', '       3       ', '   Clothing    ', '  Hankerchief  ']\n",
      "['    B-25601    ', '     80.0      ', '     -56.0     ', '       4       ', '  Electronics  ', 'Electronic Games']\n",
      "['    B-25602    ', '     168.0     ', '    -111.0     ', '       2       ', '  Electronics  ', '    Phones     ']\n",
      "\n",
      "\n",
      "\n",
      "                                        SALES_TARGET\n",
      "\n",
      "['Month of Order Date', '   Category    ', '    Target     ']\n",
      "------------------------------------------------------------\n",
      "['    Apr-18     ', '   Furniture   ', '    10400.0    ']\n",
      "['    May-18     ', '   Furniture   ', '    10500.0    ']\n",
      "['    Jun-18     ', '   Furniture   ', '    10600.0    ']\n",
      "['    Jul-18     ', '   Furniture   ', '    10800.0    ']\n",
      "['    Aug-18     ', '   Furniture   ', '    10900.0    ']\n",
      "\n",
      "\n",
      "\n"
     ]
    }
   ],
   "source": [
    "TABLES = ['order_list', 'order_details', 'sales_target']\n",
    "\n",
    "def format_table(column_names, rows):\n",
    "    print([f\"{cname : ^15}\" for cname in column_names])\n",
    "    print('-' * 20 * len(column_names))\n",
    "    for row in rows:\n",
    "        print([f\"{entry : ^15}\" for entry in row])\n",
    "    print('\\n\\n')\n",
    "\n",
    "def show_tables(tables = TABLES):\n",
    "    for table in tables:\n",
    "        cur = conn.cursor()\n",
    "        sql = f\"SELECT * FROM {table} LIMIT 5\"\n",
    "        cur.execute(sql)\n",
    "        rows = cur.fetchall()\n",
    "        column_names = list(map(lambda x : x[0], cur.description))\n",
    "        print(' ' * 40 + table.upper() + '\\n')\n",
    "        print([f\"{cname : ^15}\" for cname in column_names])\n",
    "        print('-' * 20 * len(column_names))\n",
    "        for row in rows:\n",
    "            print([f\"{entry : ^15}\" for entry in row])\n",
    "        print('\\n\\n')\n",
    "        cur.close()\n",
    "\n",
    "show_tables()"
   ]
  },
  {
   "cell_type": "markdown",
   "id": "4958d07a",
   "metadata": {
    "papermill": {
     "duration": 0.004189,
     "end_time": "2025-02-09T10:15:14.611763",
     "exception": false,
     "start_time": "2025-02-09T10:15:14.607574",
     "status": "completed"
    },
    "tags": []
   },
   "source": [
    "I prefer to format the column names with the snake case concention:"
   ]
  },
  {
   "cell_type": "code",
   "execution_count": 5,
   "id": "f48ea314",
   "metadata": {
    "execution": {
     "iopub.execute_input": "2025-02-09T10:15:14.621941Z",
     "iopub.status.busy": "2025-02-09T10:15:14.621537Z",
     "iopub.status.idle": "2025-02-09T10:15:14.766837Z",
     "shell.execute_reply": "2025-02-09T10:15:14.765642Z"
    },
    "papermill": {
     "duration": 0.152266,
     "end_time": "2025-02-09T10:15:14.768529",
     "exception": false,
     "start_time": "2025-02-09T10:15:14.616263",
     "status": "completed"
    },
    "tags": []
   },
   "outputs": [
    {
     "name": "stdout",
     "output_type": "stream",
     "text": [
      "                                        ORDER_LIST\n",
      "\n",
      "['   order_id    ', '  order_date   ', ' customer_name ', '     state     ', '     city      ']\n",
      "----------------------------------------------------------------------------------------------------\n",
      "['    B-25601    ', '  01-04-2018   ', '    Bharat     ', '    Gujarat    ', '   Ahmedabad   ']\n",
      "['    B-25602    ', '  01-04-2018   ', '     Pearl     ', '  Maharashtra  ', '     Pune      ']\n",
      "['    B-25603    ', '  03-04-2018   ', '     Jahan     ', 'Madhya Pradesh ', '    Bhopal     ']\n",
      "['    B-25604    ', '  03-04-2018   ', '    Divsha     ', '   Rajasthan   ', '    Jaipur     ']\n",
      "['    B-25605    ', '  05-04-2018   ', '    Kasheen    ', '  West Bengal  ', '    Kolkata    ']\n",
      "\n",
      "\n",
      "\n",
      "                                        ORDER_DETAILS\n",
      "\n",
      "['   order_id    ', '    amount     ', '    profit     ', '   quantity    ', '   category    ', ' sub_category  ']\n",
      "------------------------------------------------------------------------------------------------------------------------\n",
      "['    B-25601    ', '    1275.0     ', '    -1148.0    ', '       7       ', '   Furniture   ', '   Bookcases   ']\n",
      "['    B-25601    ', '     66.0      ', '     -12.0     ', '       5       ', '   Clothing    ', '     Stole     ']\n",
      "['    B-25601    ', '      8.0      ', '     -2.0      ', '       3       ', '   Clothing    ', '  Hankerchief  ']\n",
      "['    B-25601    ', '     80.0      ', '     -56.0     ', '       4       ', '  Electronics  ', 'Electronic Games']\n",
      "['    B-25602    ', '     168.0     ', '    -111.0     ', '       2       ', '  Electronics  ', '    Phones     ']\n",
      "\n",
      "\n",
      "\n",
      "                                        SALES_TARGET\n",
      "\n",
      "['month_of_order ', '   category    ', '    target     ']\n",
      "------------------------------------------------------------\n",
      "['    Apr-18     ', '   Furniture   ', '    10400.0    ']\n",
      "['    May-18     ', '   Furniture   ', '    10500.0    ']\n",
      "['    Jun-18     ', '   Furniture   ', '    10600.0    ']\n",
      "['    Jul-18     ', '   Furniture   ', '    10800.0    ']\n",
      "['    Aug-18     ', '   Furniture   ', '    10900.0    ']\n",
      "\n",
      "\n",
      "\n"
     ]
    }
   ],
   "source": [
    "sql_rename = \"\"\"\n",
    "ALTER TABLE order_list RENAME COLUMN 'Order ID' TO order_id;\n",
    "ALTER TABLE order_list RENAME COLUMN 'Order Date' TO order_date;\n",
    "ALTER TABLE order_list RENAME COLUMN 'CustomerName' TO customer_name;\n",
    "ALTER TABLE order_list RENAME COLUMN 'State' TO  state;\n",
    "ALTER TABLE order_list RENAME COLUMN 'City' TO city;\n",
    "\n",
    "--Rename ORDER_DETAILS columns\n",
    "ALTER TABLE order_details RENAME COLUMN 'Order ID' TO order_id;\n",
    "ALTER TABLE order_details RENAME COLUMN 'Amount' TO amount;\n",
    "ALTER TABLE order_details RENAME COLUMN 'Profit' TO profit;\n",
    "ALTER TABLE order_details RENAME COLUMN 'Quantity' TO quantity;\n",
    "ALTER TABLE order_details RENAME COLUMN 'Category' TO category;\n",
    "ALTER TABLE order_details RENAME COLUMN 'Sub-Category' TO sub_category;\n",
    "\n",
    "--Rename SALES_TARGET columns\n",
    "ALTER TABLE sales_target RENAME COLUMN 'Month of Order Date' TO month_of_order;\n",
    "ALTER TABLE sales_target RENAME COLUMN 'Category' TO category;\n",
    "ALTER TABLE sales_target RENAME COLUMN 'Target' TO target;\n",
    "\"\"\"\n",
    "\n",
    "cur = conn.cursor()\n",
    "cur.executescript(sql_rename)\n",
    "conn.commit()\n",
    "cur.close()\n",
    "show_tables()"
   ]
  },
  {
   "cell_type": "code",
   "execution_count": 6,
   "id": "0ffefe6d",
   "metadata": {
    "execution": {
     "iopub.execute_input": "2025-02-09T10:15:14.779062Z",
     "iopub.status.busy": "2025-02-09T10:15:14.778726Z",
     "iopub.status.idle": "2025-02-09T10:15:14.793021Z",
     "shell.execute_reply": "2025-02-09T10:15:14.791781Z"
    },
    "papermill": {
     "duration": 0.021858,
     "end_time": "2025-02-09T10:15:14.795132",
     "exception": false,
     "start_time": "2025-02-09T10:15:14.773274",
     "status": "completed"
    },
    "tags": []
   },
   "outputs": [],
   "source": [
    "sql_combined_view = \"\"\"\n",
    "CREATE VIEW IF NOT EXISTS order_combined AS\n",
    "SELECT d.order_id, d.amount, d.profit, d.quantity, d.category, d.sub_category, \n",
    "DATE(substr(l.order_date, -4, 4)||'-'||substr(l.order_date, 4, 2)||'-'||substr(l.order_date, 1, 2)) as order_date, \n",
    "l.customer_name, l.state, l.city\n",
    "FROM order_details as d\n",
    "INNER JOIN order_list as l\n",
    "ON d.order_id  = l.order_id;\n",
    "\"\"\"\n",
    "cur = conn.cursor()\n",
    "cur.executescript(sql_combined_view)\n",
    "conn.commit()\n",
    "cur.close()"
   ]
  },
  {
   "cell_type": "markdown",
   "id": "6d9e2426",
   "metadata": {
    "papermill": {
     "duration": 0.004295,
     "end_time": "2025-02-09T10:15:14.804279",
     "exception": false,
     "start_time": "2025-02-09T10:15:14.799984",
     "status": "completed"
    },
    "tags": []
   },
   "source": [
    "<h2>QUERY 1: How many...?</h2>"
   ]
  },
  {
   "cell_type": "markdown",
   "id": "1b625b4e",
   "metadata": {
    "papermill": {
     "duration": 0.006447,
     "end_time": "2025-02-09T10:15:14.815201",
     "exception": false,
     "start_time": "2025-02-09T10:15:14.808754",
     "status": "completed"
    },
    "tags": []
   },
   "source": [
    "As a first query I just want to get an idea of the size of traffic we're dealing, I'll first count the unique instances of customer, orders, states and cities:"
   ]
  },
  {
   "cell_type": "code",
   "execution_count": 7,
   "id": "1cc6195d",
   "metadata": {
    "execution": {
     "iopub.execute_input": "2025-02-09T10:15:14.826092Z",
     "iopub.status.busy": "2025-02-09T10:15:14.825733Z",
     "iopub.status.idle": "2025-02-09T10:15:14.835077Z",
     "shell.execute_reply": "2025-02-09T10:15:14.833855Z"
    },
    "papermill": {
     "duration": 0.016745,
     "end_time": "2025-02-09T10:15:14.836971",
     "exception": false,
     "start_time": "2025-02-09T10:15:14.820226",
     "status": "completed"
    },
    "tags": []
   },
   "outputs": [
    {
     "name": "stdout",
     "output_type": "stream",
     "text": [
      "[' num_customers ', '  num_orders   ', '  num_states   ', '   num_city    ']\n",
      "--------------------------------------------------------------------------------\n",
      "['      332      ', '      500      ', '      19       ', '      24       ']\n",
      "\n",
      "\n",
      "\n"
     ]
    }
   ],
   "source": [
    "sql_count = \"\"\"\n",
    "SELECT COUNT(DISTINCT customer_name) as num_customers,\n",
    "\t   COUNT(DISTINCT order_id) as num_orders,\n",
    "\t   COUNT(DISTINCT state) as num_states,\n",
    "\t   COUNT(DISTINCT city) as num_city\n",
    "FROM order_combined;\n",
    "\"\"\"\n",
    "\n",
    "cur = conn.cursor()\n",
    "cur.execute(sql_count)\n",
    "rows = cur.fetchall()\n",
    "column_names = list(map(lambda x : x[0], cur.description))\n",
    "format_table(column_names, rows)\n",
    "cur.close()"
   ]
  },
  {
   "cell_type": "markdown",
   "id": "a062a834",
   "metadata": {
    "papermill": {
     "duration": 0.004317,
     "end_time": "2025-02-09T10:15:14.846131",
     "exception": false,
     "start_time": "2025-02-09T10:15:14.841814",
     "status": "completed"
    },
    "tags": []
   },
   "source": [
    "<h2>QUERY 2: Amount/Profit/Quantity over time</h2>"
   ]
  },
  {
   "cell_type": "markdown",
   "id": "b1d07063",
   "metadata": {
    "papermill": {
     "duration": 0.004203,
     "end_time": "2025-02-09T10:15:14.854862",
     "exception": false,
     "start_time": "2025-02-09T10:15:14.850659",
     "status": "completed"
    },
    "tags": []
   },
   "source": [
    "We aim to check the sales trend, therefore we monitor the total values of amount (proceeds), profit and quantity over time:"
   ]
  },
  {
   "cell_type": "code",
   "execution_count": 8,
   "id": "14abd7fb",
   "metadata": {
    "execution": {
     "iopub.execute_input": "2025-02-09T10:15:14.865410Z",
     "iopub.status.busy": "2025-02-09T10:15:14.865078Z",
     "iopub.status.idle": "2025-02-09T10:15:14.880443Z",
     "shell.execute_reply": "2025-02-09T10:15:14.879116Z"
    },
    "papermill": {
     "duration": 0.022876,
     "end_time": "2025-02-09T10:15:14.882341",
     "exception": false,
     "start_time": "2025-02-09T10:15:14.859465",
     "status": "completed"
    },
    "tags": []
   },
   "outputs": [
    {
     "name": "stdout",
     "output_type": "stream",
     "text": [
      "['     year      ', '     month     ', ' total_amount  ', ' total_profit  ', 'total_quantity ']\n",
      "----------------------------------------------------------------------------------------------------\n",
      "['     2018      ', '       4       ', '    32726.0    ', '    -3960.0    ', '      389      ']\n",
      "['     2018      ', '       5       ', '    28545.0    ', '    -3584.0    ', '      423      ']\n",
      "['     2018      ', '       6       ', '    23658.0    ', '    -4970.0    ', '      369      ']\n",
      "['     2018      ', '       7       ', '    12966.0    ', '    -2138.0    ', '      240      ']\n",
      "['     2018      ', '       8       ', '    30899.0    ', '    -2180.0    ', '      446      ']\n",
      "['     2018      ', '       9       ', '    26628.0    ', '    -4963.0    ', '      331      ']\n",
      "['     2018      ', '      10       ', '    31615.0    ', '    3093.0     ', '      419      ']\n",
      "['     2018      ', '      11       ', '    48086.0    ', '    11619.0    ', '      578      ']\n",
      "['     2018      ', '      12       ', '    37579.0    ', '    5284.0     ', '      412      ']\n",
      "['     2019      ', '       1       ', '    61439.0    ', '    9760.0     ', '      745      ']\n",
      "['     2019      ', '       2       ', '    38424.0    ', '    5917.0     ', '      512      ']\n",
      "['     2019      ', '       3       ', '    58937.0    ', '    10077.0    ', '      751      ']\n",
      "\n",
      "\n",
      "\n"
     ]
    }
   ],
   "source": [
    "sql_ts = \"\"\"\n",
    "SELECT CAST(substr(order_date, 1, 4) AS INTEGER) as year,\n",
    "CAST(substr(order_date, 6, 2) AS INTEGER) as month,\n",
    "SUM(amount) as total_amount,\n",
    "SUM(profit) as total_profit,\n",
    "SUM(quantity) as total_quantity\n",
    "FROM order_combined\n",
    "GROUP BY year, month;\n",
    "\"\"\"\n",
    "\n",
    "cur = conn.cursor()\n",
    "cur.execute(sql_ts)\n",
    "rows = cur.fetchall()\n",
    "column_names = list(map(lambda x : x[0], cur.description))\n",
    "format_table(column_names, rows)\n",
    "cur.close()"
   ]
  },
  {
   "cell_type": "markdown",
   "id": "1998f697",
   "metadata": {
    "papermill": {
     "duration": 0.004418,
     "end_time": "2025-02-09T10:15:14.891662",
     "exception": false,
     "start_time": "2025-02-09T10:15:14.887244",
     "status": "completed"
    },
    "tags": []
   },
   "source": [
    "<h2>QUERY 3: Performance by state</h2>"
   ]
  },
  {
   "cell_type": "markdown",
   "id": "772c136d",
   "metadata": {
    "papermill": {
     "duration": 0.004404,
     "end_time": "2025-02-09T10:15:14.901145",
     "exception": false,
     "start_time": "2025-02-09T10:15:14.896741",
     "status": "completed"
    },
    "tags": []
   },
   "source": [
    "A possible question would be to check which state are more profitable by sales, that is which states generate more revenue for each transaction:"
   ]
  },
  {
   "cell_type": "code",
   "execution_count": 9,
   "id": "95b392e9",
   "metadata": {
    "execution": {
     "iopub.execute_input": "2025-02-09T10:15:14.912004Z",
     "iopub.status.busy": "2025-02-09T10:15:14.911599Z",
     "iopub.status.idle": "2025-02-09T10:15:14.924332Z",
     "shell.execute_reply": "2025-02-09T10:15:14.923196Z"
    },
    "papermill": {
     "duration": 0.020312,
     "end_time": "2025-02-09T10:15:14.926208",
     "exception": false,
     "start_time": "2025-02-09T10:15:14.905896",
     "status": "completed"
    },
    "tags": []
   },
   "outputs": [
    {
     "name": "stdout",
     "output_type": "stream",
     "text": [
      "['     state     ', ' total_profit  ', 'total_quantity ', 'profit_per_item']\n",
      "--------------------------------------------------------------------------------\n",
      "['    Haryana    ', '    1325.0     ', '      111      ', '     11.94     ']\n",
      "['    Kerala     ', '    1871.0     ', '      157      ', '     11.92     ']\n",
      "['  West Bengal  ', '    2500.0     ', '      216      ', '     11.57     ']\n",
      "[' Uttar Pradesh ', '    3237.0     ', '      288      ', '     11.24     ']\n",
      "['     Delhi     ', '    2987.0     ', '      277      ', '     10.78     ']\n",
      "['  Maharashtra  ', '    6176.0     ', '     1056      ', '     5.85      ']\n",
      "['Himachal Pradesh', '     656.0     ', '      113      ', '     5.81      ']\n",
      "['   Rajasthan   ', '    1257.0     ', '      282      ', '     4.46      ']\n",
      "['    Sikkim     ', '     401.0     ', '      93       ', '     4.31      ']\n",
      "['Madhya Pradesh ', '    5551.0     ', '     1360      ', '     4.08      ']\n",
      "['   Karnataka   ', '     645.0     ', '      180      ', '     3.58      ']\n",
      "['      Goa      ', '     370.0     ', '      145      ', '     2.55      ']\n",
      "['    Gujarat    ', '     465.0     ', '      328      ', '     1.42      ']\n",
      "['   Nagaland    ', '     148.0     ', '      173      ', '     0.86      ']\n",
      "['Jammu and Kashmir', '      8.0      ', '      177      ', '     0.05      ']\n",
      "['     Bihar     ', '    -321.0     ', '      206      ', '     -1.56     ']\n",
      "['    Punjab     ', '    -609.0     ', '      216      ', '     -2.82     ']\n",
      "['Andhra Pradesh ', '    -496.0     ', '      146      ', '     -3.4      ']\n",
      "['  Tamil Nadu   ', '    -2216.0    ', '      91       ', '    -24.35     ']\n",
      "\n",
      "\n",
      "\n"
     ]
    }
   ],
   "source": [
    "sql_state = \"\"\"\n",
    "SELECT state, \n",
    "\t   SUM(profit) as total_profit,\n",
    "\t   SUM(quantity) as total_quantity,\n",
    "\t   ROUND(CAST(SUM(profit) AS FLOAT) / SUM(quantity), 2) as profit_per_item\n",
    "FROM order_combined\n",
    "GROUP BY state\n",
    "ORDER BY profit_per_item DESC;\n",
    "\"\"\"\n",
    "\n",
    "cur = conn.cursor()\n",
    "cur.execute(sql_state)\n",
    "rows = cur.fetchall()\n",
    "column_names = list(map(lambda x : x[0], cur.description))\n",
    "format_table(column_names, rows)\n",
    "cur.close()"
   ]
  },
  {
   "cell_type": "markdown",
   "id": "d9283e04",
   "metadata": {
    "papermill": {
     "duration": 0.004675,
     "end_time": "2025-02-09T10:15:14.935907",
     "exception": false,
     "start_time": "2025-02-09T10:15:14.931232",
     "status": "completed"
    },
    "tags": []
   },
   "source": [
    "<h2>QUERY 4: RFM customer segmentation</h2>"
   ]
  },
  {
   "cell_type": "markdown",
   "id": "6b513ccd",
   "metadata": {
    "papermill": {
     "duration": 0.004433,
     "end_time": "2025-02-09T10:15:14.945127",
     "exception": false,
     "start_time": "2025-02-09T10:15:14.940694",
     "status": "completed"
    },
    "tags": []
   },
   "source": [
    "Finally, we perform a RFM segmentation on the customer.</br>\n",
    "RFM analysis is a technique used by marketers to identify the most valuable customer, allowing them to tailor marketing, sales-driven strategies to boost lifetime value and loyalty.</br>\n",
    "To each customer is assigned a RFM score based on:\n",
    "<ul>\n",
    "    <li>RECENCY: how recently a customer has made a purchase.</li>\n",
    "    <li>FREQUENCY: how often a customer make purchases.</li>\n",
    "    <li>Monetary: hoe much a customer spends.</li>\n",
    "</ul>\n",
    "Higher scores represents more engaged, valuable customers."
   ]
  },
  {
   "cell_type": "code",
   "execution_count": 10,
   "id": "8ee43434",
   "metadata": {
    "execution": {
     "iopub.execute_input": "2025-02-09T10:15:14.956019Z",
     "iopub.status.busy": "2025-02-09T10:15:14.955644Z",
     "iopub.status.idle": "2025-02-09T10:15:15.018447Z",
     "shell.execute_reply": "2025-02-09T10:15:15.009845Z"
    },
    "papermill": {
     "duration": 0.071346,
     "end_time": "2025-02-09T10:15:15.021293",
     "exception": false,
     "start_time": "2025-02-09T10:15:14.949947",
     "status": "completed"
    },
    "tags": []
   },
   "outputs": [
    {
     "name": "stdout",
     "output_type": "stream",
     "text": [
      "[' customer_name ', '       R       ', '       F       ', '       M       ', '      RFM      ']\n",
      "----------------------------------------------------------------------------------------------------\n",
      "['    Shubham    ', '       5       ', '       5       ', '       5       ', '      5.0      ']\n",
      "['     Pooja     ', '       5       ', '       5       ', '       5       ', '      5.0      ']\n",
      "['     Parth     ', '       5       ', '       5       ', '       5       ', '      5.0      ']\n",
      "['    Paridhi    ', '       5       ', '       5       ', '       5       ', '      5.0      ']\n",
      "['    Parishi    ', '       5       ', '       5       ', '       5       ', '      5.0      ']\n",
      "['     Kirti     ', '       5       ', '       5       ', '       5       ', '      5.0      ']\n",
      "['    Yaanvi     ', '       5       ', '       5       ', '       5       ', '      5.0      ']\n",
      "['    Chirag     ', '       5       ', '       5       ', '       5       ', '      5.0      ']\n",
      "['    Anurag     ', '       5       ', '       5       ', '       5       ', '      5.0      ']\n",
      "['     Farah     ', '       5       ', '       5       ', '       5       ', '      5.0      ']\n",
      "['    Tulika     ', '       5       ', '       5       ', '       5       ', '      5.0      ']\n",
      "['   Priyanka    ', '       5       ', '       5       ', '       5       ', '      5.0      ']\n",
      "['    Shruti     ', '       5       ', '       5       ', '       5       ', '      5.0      ']\n",
      "['  Pournamasi   ', '       5       ', '       5       ', '       5       ', '      5.0      ']\n",
      "['     Jahan     ', '       5       ', '       5       ', '       5       ', '      5.0      ']\n",
      "['     Pearl     ', '       5       ', '       5       ', '       5       ', '      5.0      ']\n",
      "['    Aarushi    ', '       5       ', '       5       ', '       5       ', '      5.0      ']\n",
      "['    Yogesh     ', '       5       ', '       5       ', '       5       ', '      5.0      ']\n",
      "['    Mukesh     ', '       5       ', '       5       ', '       5       ', '      5.0      ']\n",
      "['   Shrichand   ', '       5       ', '       5       ', '       5       ', '      5.0      ']\n",
      "['     Manju     ', '       5       ', '       5       ', '       5       ', '      5.0      ']\n",
      "['    Sarita     ', '       5       ', '       5       ', '       5       ', '      5.0      ']\n",
      "['     Vini      ', '       5       ', '       5       ', '       5       ', '      5.0      ']\n",
      "['    Atharv     ', '       5       ', '       5       ', '       5       ', '      5.0      ']\n",
      "['     Pinky     ', '       5       ', '       5       ', '       5       ', '      5.0      ']\n",
      "['    Bhishm     ', '       5       ', '       5       ', '       5       ', '      5.0      ']\n",
      "['    Krutika    ', '       4       ', '       5       ', '       5       ', '4.666666666666667']\n",
      "['    Mahima     ', '       4       ', '       5       ', '       5       ', '4.666666666666667']\n",
      "['    Shreya     ', '       4       ', '       5       ', '       5       ', '4.666666666666667']\n",
      "['    Soumya     ', '       4       ', '       5       ', '       5       ', '4.666666666666667']\n",
      "['    Shweta     ', '       4       ', '       5       ', '       5       ', '4.666666666666667']\n",
      "['    Anjali     ', '       4       ', '       5       ', '       5       ', '4.666666666666667']\n",
      "['    Gaurav     ', '       4       ', '       5       ', '       5       ', '4.666666666666667']\n",
      "['     Amit      ', '       5       ', '       5       ', '       4       ', '4.666666666666667']\n",
      "['     Ajay      ', '       5       ', '       5       ', '       4       ', '4.666666666666667']\n",
      "['    Bharat     ', '       5       ', '       5       ', '       4       ', '4.666666666666667']\n",
      "['    Jitesh     ', '       5       ', '       5       ', '       4       ', '4.666666666666667']\n",
      "['    Vandana    ', '       5       ', '       5       ', '       4       ', '4.666666666666667']\n",
      "['    Hitika     ', '       5       ', '       5       ', '       4       ', '4.666666666666667']\n",
      "['   Abhijeet    ', '       3       ', '       5       ', '       5       ', '4.333333333333333']\n",
      "['     Rohan     ', '       3       ', '       5       ', '       5       ', '4.333333333333333']\n",
      "['   Abhishek    ', '       3       ', '       5       ', '       5       ', '4.333333333333333']\n",
      "['    Swapnil    ', '       3       ', '       5       ', '       5       ', '4.333333333333333']\n",
      "['     Ankit     ', '       4       ', '       5       ', '       4       ', '4.333333333333333']\n",
      "['    Muskan     ', '       4       ', '       4       ', '       5       ', '4.333333333333333']\n",
      "['   Shreyshi    ', '       4       ', '       4       ', '       5       ', '4.333333333333333']\n",
      "['     Seema     ', '       4       ', '       4       ', '       5       ', '4.333333333333333']\n",
      "['    Harshal    ', '       4       ', '       4       ', '       5       ', '4.333333333333333']\n",
      "['    Diwakar    ', '       4       ', '       4       ', '       5       ', '4.333333333333333']\n",
      "['    Hitesh     ', '       4       ', '       4       ', '       5       ', '4.333333333333333']\n",
      "['     Harsh     ', '       4       ', '       5       ', '       4       ', '4.333333333333333']\n",
      "['     Komal     ', '       5       ', '       5       ', '       3       ', '4.333333333333333']\n",
      "['    Hemant     ', '       5       ', '       4       ', '       4       ', '4.333333333333333']\n",
      "['     Sahil     ', '       5       ', '       4       ', '       4       ', '4.333333333333333']\n",
      "['    Sanjay     ', '       5       ', '       5       ', '       3       ', '4.333333333333333']\n",
      "['     Nidhi     ', '       5       ', '       4       ', '       4       ', '4.333333333333333']\n",
      "['     Lisha     ', '       5       ', '       4       ', '       4       ', '4.333333333333333']\n",
      "['    Mayank     ', '       5       ', '       4       ', '       4       ', '4.333333333333333']\n",
      "['    Sharda     ', '       5       ', '       4       ', '       4       ', '4.333333333333333']\n",
      "['     Sonal     ', '       5       ', '       4       ', '       4       ', '4.333333333333333']\n",
      "['    Aditya     ', '       5       ', '       5       ', '       3       ', '4.333333333333333']\n",
      "['     Nida      ', '       5       ', '       4       ', '       4       ', '4.333333333333333']\n",
      "['     Hazel     ', '       5       ', '       5       ', '       3       ', '4.333333333333333']\n",
      "['    Kasheen    ', '       5       ', '       5       ', '       3       ', '4.333333333333333']\n",
      "['    Divsha     ', '       5       ', '       5       ', '       3       ', '4.333333333333333']\n",
      "['     Anita     ', '       5       ', '       5       ', '       3       ', '4.333333333333333']\n",
      "['     Kanak     ', '       5       ', '       5       ', '       3       ', '4.333333333333333']\n",
      "['    Ramesh     ', '       5       ', '       5       ', '       3       ', '4.333333333333333']\n",
      "['    Deepak     ', '       5       ', '       5       ', '       3       ', '4.333333333333333']\n",
      "['    Monisha    ', '       5       ', '       5       ', '       3       ', '4.333333333333333']\n",
      "['    Surabhi    ', '       2       ', '       5       ', '       5       ', '      4.0      ']\n",
      "['     Ayush     ', '       2       ', '       5       ', '       5       ', '      4.0      ']\n",
      "['    Kartik     ', '       2       ', '       5       ', '       5       ', '      4.0      ']\n",
      "['    Sanjana    ', '       2       ', '       5       ', '       5       ', '      4.0      ']\n",
      "['    Sheetal    ', '       2       ', '       5       ', '       5       ', '      4.0      ']\n",
      "['     Amol      ', '       3       ', '       4       ', '       5       ', '      4.0      ']\n",
      "['    Akshay     ', '       3       ', '       5       ', '       4       ', '      4.0      ']\n",
      "['    Vedant     ', '       3       ', '       4       ', '       5       ', '      4.0      ']\n",
      "['   Ishpreet    ', '       3       ', '       4       ', '       5       ', '      4.0      ']\n",
      "['     Sujay     ', '       3       ', '       4       ', '       5       ', '      4.0      ']\n",
      "['      Jay      ', '       3       ', '       4       ', '       5       ', '      4.0      ']\n",
      "['     Neha      ', '       3       ', '       4       ', '       5       ', '      4.0      ']\n",
      "['   Vishakha    ', '       3       ', '       4       ', '       5       ', '      4.0      ']\n",
      "['    Sudhir     ', '       4       ', '       4       ', '       4       ', '      4.0      ']\n",
      "['    Trupti     ', '       4       ', '       4       ', '       4       ', '      4.0      ']\n",
      "['    Surbhi     ', '       4       ', '       4       ', '       4       ', '      4.0      ']\n",
      "['     Rhea      ', '       4       ', '       4       ', '       4       ', '      4.0      ']\n",
      "['    Aayushi    ', '       4       ', '       5       ', '       3       ', '      4.0      ']\n",
      "['     Nishi     ', '       5       ', '       4       ', '       3       ', '      4.0      ']\n",
      "['    Tushina    ', '       5       ', '       4       ', '       3       ', '      4.0      ']\n",
      "['  Subhashree   ', '       5       ', '       4       ', '       3       ', '      4.0      ']\n",
      "['     Sweta     ', '       5       ', '       4       ', '       3       ', '      4.0      ']\n",
      "['   Sonakshi    ', '       5       ', '       5       ', '       2       ', '      4.0      ']\n",
      "['    Bhavna     ', '       5       ', '       5       ', '       2       ', '      4.0      ']\n",
      "['     Sagar     ', '       5       ', '       5       ', '       2       ', '      4.0      ']\n",
      "['    Sauptik    ', '       2       ', '       4       ', '       5       ', '3.6666666666666665']\n",
      "['    Shishu     ', '       2       ', '       4       ', '       5       ', '3.6666666666666665']\n",
      "['   Shivanshu   ', '       2       ', '       4       ', '       5       ', '3.6666666666666665']\n",
      "['    Aastha     ', '       2       ', '       4       ', '       5       ', '3.6666666666666665']\n",
      "['    Pranav     ', '       3       ', '       4       ', '       4       ', '3.6666666666666665']\n",
      "['   Siddharth   ', '       3       ', '       4       ', '       4       ', '3.6666666666666665']\n",
      "['    Aashna     ', '       3       ', '       4       ', '       4       ', '3.6666666666666665']\n",
      "['     Aditi     ', '       3       ', '       4       ', '       4       ', '3.6666666666666665']\n",
      "['     Aman      ', '       3       ', '       4       ', '       4       ', '3.6666666666666665']\n",
      "['     Anand     ', '       3       ', '       4       ', '       4       ', '3.6666666666666665']\n",
      "['    Shikhar    ', '       4       ', '       4       ', '       3       ', '3.6666666666666665']\n",
      "['     Ankur     ', '       4       ', '       4       ', '       3       ', '3.6666666666666665']\n",
      "['    Shardul    ', '       4       ', '       3       ', '       4       ', '3.6666666666666665']\n",
      "['    Mhatre     ', '       4       ', '       3       ', '       4       ', '3.6666666666666665']\n",
      "['     Jesal     ', '       4       ', '       3       ', '       4       ', '3.6666666666666665']\n",
      "['     Oshin     ', '       4       ', '       3       ', '       4       ', '3.6666666666666665']\n",
      "['    Mitali     ', '       4       ', '       4       ', '       3       ', '3.6666666666666665']\n",
      "['     Parin     ', '       4       ', '       3       ', '       4       ', '3.6666666666666665']\n",
      "['   Shivangi    ', '       4       ', '       4       ', '       3       ', '3.6666666666666665']\n",
      "['    Amruta     ', '       4       ', '       3       ', '       4       ', '3.6666666666666665']\n",
      "['     Kajal     ', '       4       ', '       4       ', '       3       ', '3.6666666666666665']\n",
      "['    Yohann     ', '       4       ', '       3       ', '       4       ', '3.6666666666666665']\n",
      "['    Arpita     ', '       4       ', '       3       ', '       4       ', '3.6666666666666665']\n",
      "['   Kartikay    ', '       5       ', '       3       ', '       3       ', '3.6666666666666665']\n",
      "['     Ritu      ', '       5       ', '       4       ', '       2       ', '3.6666666666666665']\n",
      "['     Ashmi     ', '       5       ', '       4       ', '       2       ', '3.6666666666666665']\n",
      "['    Shefali    ', '       5       ', '       4       ', '       2       ', '3.6666666666666665']\n",
      "['   Sanskriti   ', '       5       ', '       4       ', '       2       ', '3.6666666666666665']\n",
      "['    Chandni    ', '       1       ', '       4       ', '       5       ', '3.3333333333333335']\n",
      "['    Bhawna     ', '       1       ', '       4       ', '       5       ', '3.3333333333333335']\n",
      "['    Ameesha    ', '       1       ', '       4       ', '       5       ', '3.3333333333333335']\n",
      "['    Vaibhav    ', '       1       ', '       4       ', '       5       ', '3.3333333333333335']\n",
      "['    Shourya    ', '       1       ', '       4       ', '       5       ', '3.3333333333333335']\n",
      "['     Mohan     ', '       1       ', '       4       ', '       5       ', '3.3333333333333335']\n",
      "['     Mohit     ', '       1       ', '       4       ', '       5       ', '3.3333333333333335']\n",
      "['    Sakshi     ', '       2       ', '       4       ', '       4       ', '3.3333333333333335']\n",
      "['    Kushal     ', '       3       ', '       3       ', '       4       ', '3.3333333333333335']\n",
      "['  Soumyabrata  ', '       3       ', '       3       ', '       4       ', '3.3333333333333335']\n",
      "['    Vikash     ', '       3       ', '       3       ', '       4       ', '3.3333333333333335']\n",
      "['    Divyeta    ', '       3       ', '       3       ', '       4       ', '3.3333333333333335']\n",
      "['    Dashyam    ', '       3       ', '       3       ', '       4       ', '3.3333333333333335']\n",
      "['    Mrinal     ', '       3       ', '       3       ', '       4       ', '3.3333333333333335']\n",
      "['     Megha     ', '       3       ', '       4       ', '       3       ', '3.3333333333333335']\n",
      "['    Shatayu    ', '       3       ', '       3       ', '       4       ', '3.3333333333333335']\n",
      "['     Monu      ', '       3       ', '       3       ', '       4       ', '3.3333333333333335']\n",
      "['     Amlan     ', '       3       ', '       3       ', '       4       ', '3.3333333333333335']\n",
      "['    Girase     ', '       3       ', '       3       ', '       4       ', '3.3333333333333335']\n",
      "['    Monica     ', '       3       ', '       3       ', '       4       ', '3.3333333333333335']\n",
      "['    Vineet     ', '       4       ', '       3       ', '       3       ', '3.3333333333333335']\n",
      "['    Saurabh    ', '       4       ', '       4       ', '       2       ', '3.3333333333333335']\n",
      "['   Tejeswini   ', '       4       ', '       3       ', '       3       ', '3.3333333333333335']\n",
      "['   Paromita    ', '       4       ', '       3       ', '       3       ', '3.3333333333333335']\n",
      "['    Manisha    ', '       4       ', '       3       ', '       3       ', '3.3333333333333335']\n",
      "['     Atul      ', '       4       ', '       3       ', '       3       ', '3.3333333333333335']\n",
      "['   Prashant    ', '       4       ', '       3       ', '       3       ', '3.3333333333333335']\n",
      "['    Manish     ', '       5       ', '       4       ', '       1       ', '3.3333333333333335']\n",
      "['    Rachna     ', '       5       ', '       4       ', '       1       ', '3.3333333333333335']\n",
      "['     Vijay     ', '       1       ', '       4       ', '       4       ', '      3.0      ']\n",
      "['    Rishabh    ', '       1       ', '       4       ', '       4       ', '      3.0      ']\n",
      "['    Shivam     ', '       1       ', '       4       ', '       4       ', '      3.0      ']\n",
      "['    Anudeep    ', '       2       ', '       3       ', '       4       ', '      3.0      ']\n",
      "['   Shreyoshe   ', '       2       ', '       3       ', '       4       ', '      3.0      ']\n",
      "['     Savi      ', '       2       ', '       3       ', '       4       ', '      3.0      ']\n",
      "['    Rutuja     ', '       2       ', '       3       ', '       4       ', '      3.0      ']\n",
      "['    Sukrith    ', '       2       ', '       3       ', '       4       ', '      3.0      ']\n",
      "['    Nripraj    ', '       2       ', '       3       ', '       4       ', '      3.0      ']\n",
      "['     Arti      ', '       2       ', '       3       ', '       4       ', '      3.0      ']\n",
      "['   Pranjali    ', '       2       ', '       3       ', '       4       ', '      3.0      ']\n",
      "['     Snel      ', '       2       ', '       3       ', '       4       ', '      3.0      ']\n",
      "['    Chikku     ', '       3       ', '       3       ', '       3       ', '      3.0      ']\n",
      "['    Brijesh    ', '       3       ', '       3       ', '       3       ', '      3.0      ']\n",
      "['    Shivani    ', '       3       ', '       4       ', '       2       ', '      3.0      ']\n",
      "['   Aishwarya   ', '       3       ', '       3       ', '       3       ', '      3.0      ']\n",
      "['    Chetan     ', '       4       ', '       2       ', '       3       ', '      3.0      ']\n",
      "['   Aparajita   ', '       4       ', '       2       ', '       3       ', '      3.0      ']\n",
      "['    Ankita     ', '       5       ', '       2       ', '       2       ', '      3.0      ']\n",
      "['     Sabah     ', '       1       ', '       3       ', '       4       ', '2.6666666666666665']\n",
      "['  Pratyusmita  ', '       1       ', '       3       ', '       4       ', '2.6666666666666665']\n",
      "['    Noopur     ', '       1       ', '       3       ', '       4       ', '2.6666666666666665']\n",
      "['    Shaily     ', '       1       ', '       3       ', '       4       ', '2.6666666666666665']\n",
      "['     Ekta      ', '       1       ', '       4       ', '       3       ', '2.6666666666666665']\n",
      "['   Madhulika   ', '       1       ', '       3       ', '       4       ', '2.6666666666666665']\n",
      "['    Nishant    ', '       1       ', '       3       ', '       4       ', '2.6666666666666665']\n",
      "['   Priyanshu   ', '       1       ', '       3       ', '       4       ', '2.6666666666666665']\n",
      "['    Sanjova    ', '       2       ', '       3       ', '       3       ', '2.6666666666666665']\n",
      "['     Asish     ', '       2       ', '       3       ', '       3       ', '2.6666666666666665']\n",
      "['     Avish     ', '       2       ', '       3       ', '       3       ', '2.6666666666666665']\n",
      "['     Yash      ', '       2       ', '       3       ', '       3       ', '2.6666666666666665']\n",
      "['    Dhanraj    ', '       2       ', '       3       ', '       3       ', '2.6666666666666665']\n",
      "['  Hrisheekesh  ', '       2       ', '       3       ', '       3       ', '2.6666666666666665']\n",
      "['    Praneet    ', '       2       ', '       3       ', '       3       ', '2.6666666666666665']\n",
      "['   Tanushree   ', '       2       ', '       3       ', '       3       ', '2.6666666666666665']\n",
      "['    Nikita     ', '       2       ', '       3       ', '       3       ', '2.6666666666666665']\n",
      "['     Sneha     ', '       2       ', '       3       ', '       3       ', '2.6666666666666665']\n",
      "['    Aniket     ', '       2       ', '       3       ', '       3       ', '2.6666666666666665']\n",
      "['    Aayush     ', '       3       ', '       2       ', '       3       ', '2.6666666666666665']\n",
      "['   Divyansha   ', '       3       ', '       2       ', '       3       ', '2.6666666666666665']\n",
      "['     Suraj     ', '       3       ', '       2       ', '       3       ', '2.6666666666666665']\n",
      "['    Jaideep    ', '       4       ', '       2       ', '       2       ', '2.6666666666666665']\n",
      "['     Syed      ', '       4       ', '       2       ', '       2       ', '2.6666666666666665']\n",
      "['    Mukund     ', '       4       ', '       2       ', '       2       ', '2.6666666666666665']\n",
      "['   Shantanu    ', '       4       ', '       2       ', '       2       ', '2.6666666666666665']\n",
      "['     Piyam     ', '       4       ', '       2       ', '       2       ', '2.6666666666666665']\n",
      "['     Ginny     ', '       4       ', '       2       ', '       2       ', '2.6666666666666665']\n",
      "['    Manjiri    ', '       4       ', '       2       ', '       2       ', '2.6666666666666665']\n",
      "['     Omkar     ', '       4       ', '       2       ', '       2       ', '2.6666666666666665']\n",
      "['     Mansi     ', '       4       ', '       2       ', '       2       ', '2.6666666666666665']\n",
      "['     Patil     ', '       4       ', '       2       ', '       2       ', '2.6666666666666665']\n",
      "['    Nandita    ', '       4       ', '       2       ', '       2       ', '2.6666666666666665']\n",
      "['    Kalyani    ', '       4       ', '       2       ', '       2       ', '2.6666666666666665']\n",
      "['     Tanvi     ', '       1       ', '       3       ', '       3       ', '2.3333333333333335']\n",
      "['    Piyali     ', '       1       ', '       3       ', '       3       ', '2.3333333333333335']\n",
      "['    Charika    ', '       1       ', '       3       ', '       3       ', '2.3333333333333335']\n",
      "['    Sanjna     ', '       1       ', '       3       ', '       3       ', '2.3333333333333335']\n",
      "['  Bhaggyasree  ', '       1       ', '       3       ', '       3       ', '2.3333333333333335']\n",
      "['    Akancha    ', '       1       ', '       3       ', '       3       ', '2.3333333333333335']\n",
      "['     Parna     ', '       1       ', '       3       ', '       3       ', '2.3333333333333335']\n",
      "['    Amisha     ', '       1       ', '       3       ', '       3       ', '2.3333333333333335']\n",
      "['    Kishwar    ', '       1       ', '       3       ', '       3       ', '2.3333333333333335']\n",
      "['    Manshul    ', '       1       ', '       3       ', '       3       ', '2.3333333333333335']\n",
      "['    Rashmi     ', '       1       ', '       4       ', '       2       ', '2.3333333333333335']\n",
      "['    Ashmeet    ', '       2       ', '       2       ', '       3       ', '2.3333333333333335']\n",
      "['    Sudheer    ', '       2       ', '       2       ', '       3       ', '2.3333333333333335']\n",
      "['  Apsingekar   ', '       2       ', '       2       ', '       3       ', '2.3333333333333335']\n",
      "['   Harshita    ', '       2       ', '       2       ', '       3       ', '2.3333333333333335']\n",
      "['    Mrunal     ', '       2       ', '       2       ', '       3       ', '2.3333333333333335']\n",
      "['    Aromal     ', '       3       ', '       2       ', '       2       ', '2.3333333333333335']\n",
      "['   Manibalan   ', '       3       ', '       2       ', '       2       ', '2.3333333333333335']\n",
      "[' Divyeshkumar  ', '       3       ', '       2       ', '       2       ', '2.3333333333333335']\n",
      "['    Bhosale    ', '       3       ', '       2       ', '       2       ', '2.3333333333333335']\n",
      "['   Saptadeep   ', '       3       ', '       2       ', '       2       ', '2.3333333333333335']\n",
      "['    Sathya     ', '       3       ', '       2       ', '       2       ', '2.3333333333333335']\n",
      "['    Bhargav    ', '       3       ', '       2       ', '       2       ', '2.3333333333333335']\n",
      "['    Pradeep    ', '       3       ', '       2       ', '       2       ', '2.3333333333333335']\n",
      "['    Sukruta    ', '       3       ', '       2       ', '       2       ', '2.3333333333333335']\n",
      "['   Karandeep   ', '       3       ', '       2       ', '       2       ', '2.3333333333333335']\n",
      "['    Sandra     ', '       3       ', '       2       ', '       2       ', '2.3333333333333335']\n",
      "['     Kiran     ', '       1       ', '       2       ', '       3       ', '      2.0      ']\n",
      "['    Navdeep    ', '       1       ', '       2       ', '       3       ', '      2.0      ']\n",
      "['   Vaibhavi    ', '       2       ', '       2       ', '       2       ', '      2.0      ']\n",
      "['    Sukant     ', '       2       ', '       2       ', '       2       ', '      2.0      ']\n",
      "['     Aryan     ', '       2       ', '       2       ', '       2       ', '      2.0      ']\n",
      "['     Ishit     ', '       2       ', '       2       ', '       2       ', '      2.0      ']\n",
      "['   Divyansh    ', '       2       ', '       2       ', '       2       ', '      2.0      ']\n",
      "['     Suman     ', '       2       ', '       2       ', '       2       ', '      2.0      ']\n",
      "['    Kshitij    ', '       2       ', '       2       ', '       2       ', '      2.0      ']\n",
      "['     Mane      ', '       2       ', '       2       ', '       2       ', '      2.0      ']\n",
      "['    Sandeep    ', '       2       ', '       2       ', '       2       ', '      2.0      ']\n",
      "['    Apoorva    ', '       2       ', '       2       ', '       2       ', '      2.0      ']\n",
      "['    Moumita    ', '       2       ', '       2       ', '       2       ', '      2.0      ']\n",
      "['     Palak     ', '       2       ', '       2       ', '       2       ', '      2.0      ']\n",
      "['       K       ', '       2       ', '       2       ', '       2       ', '      2.0      ']\n",
      "['   Prajakta    ', '       3       ', '       1       ', '       2       ', '      2.0      ']\n",
      "['    Smriti     ', '       3       ', '       1       ', '       2       ', '      2.0      ']\n",
      "['   Sidharth    ', '       4       ', '       1       ', '       1       ', '      2.0      ']\n",
      "['     Rahul     ', '       4       ', '       1       ', '       1       ', '      2.0      ']\n",
      "['    Nikhil     ', '       4       ', '       1       ', '       1       ', '      2.0      ']\n",
      "['     Vivek     ', '       4       ', '       1       ', '       1       ', '      2.0      ']\n",
      "['   Pratiksha   ', '       4       ', '       1       ', '       1       ', '      2.0      ']\n",
      "['    Saloni     ', '       4       ', '       1       ', '       1       ', '      2.0      ']\n",
      "['    Jesslyn    ', '       4       ', '       1       ', '       1       ', '      2.0      ']\n",
      "['    Hemangi    ', '       4       ', '       1       ', '       1       ', '      2.0      ']\n",
      "['     Nirja     ', '       4       ', '       1       ', '       1       ', '      2.0      ']\n",
      "['    Mugdha     ', '       4       ', '       1       ', '       1       ', '      2.0      ']\n",
      "['     Anmol     ', '       4       ', '       1       ', '       1       ', '      2.0      ']\n",
      "['    Parnavi    ', '       4       ', '       1       ', '       1       ', '      2.0      ']\n",
      "['   Chayanika   ', '       1       ', '       2       ', '       2       ', '1.6666666666666667']\n",
      "['    Arsheen    ', '       1       ', '       2       ', '       2       ', '1.6666666666666667']\n",
      "['    Bathina    ', '       1       ', '       2       ', '       2       ', '1.6666666666666667']\n",
      "['    Swetha     ', '       1       ', '       2       ', '       2       ', '1.6666666666666667']\n",
      "['  Subhasmita   ', '       1       ', '       2       ', '       2       ', '1.6666666666666667']\n",
      "['    Suhani     ', '       1       ', '       2       ', '       2       ', '1.6666666666666667']\n",
      "['    Shubhi     ', '       1       ', '       2       ', '       2       ', '1.6666666666666667']\n",
      "['   Maithilee   ', '       1       ', '       2       ', '       2       ', '1.6666666666666667']\n",
      "['     Riya      ', '       1       ', '       2       ', '       2       ', '1.6666666666666667']\n",
      "['   Adhvaita    ', '       1       ', '       2       ', '       2       ', '1.6666666666666667']\n",
      "['    Raksha     ', '       1       ', '       2       ', '       2       ', '1.6666666666666667']\n",
      "['     Stuti     ', '       1       ', '       2       ', '       2       ', '1.6666666666666667']\n",
      "['    Srishti    ', '       1       ', '       2       ', '       2       ', '1.6666666666666667']\n",
      "['    Anchal     ', '       1       ', '       2       ', '       2       ', '1.6666666666666667']\n",
      "['    Anisha     ', '       1       ', '       2       ', '       2       ', '1.6666666666666667']\n",
      "['   Turumella   ', '       1       ', '       2       ', '       2       ', '1.6666666666666667']\n",
      "['   Devendra    ', '       1       ', '       2       ', '       2       ', '1.6666666666666667']\n",
      "['    Nitant     ', '       1       ', '       2       ', '       2       ', '1.6666666666666667']\n",
      "['     Arun      ', '       3       ', '       1       ', '       1       ', '1.6666666666666667']\n",
      "['    Parakh     ', '       3       ', '       1       ', '       1       ', '1.6666666666666667']\n",
      "['    Gunjal     ', '       3       ', '       1       ', '       1       ', '1.6666666666666667']\n",
      "['    Apoorv     ', '       3       ', '       1       ', '       1       ', '1.6666666666666667']\n",
      "['   Masurkar    ', '       3       ', '       1       ', '       1       ', '1.6666666666666667']\n",
      "['    Sumeet     ', '       3       ', '       1       ', '       1       ', '1.6666666666666667']\n",
      "['    Jaydeep    ', '       3       ', '       1       ', '       1       ', '1.6666666666666667']\n",
      "['    Abhijit    ', '       3       ', '       1       ', '       1       ', '1.6666666666666667']\n",
      "['   Phalguni    ', '       3       ', '       1       ', '       1       ', '1.6666666666666667']\n",
      "['    Preksha    ', '       3       ', '       1       ', '       1       ', '1.6666666666666667']\n",
      "['  Geetanjali   ', '       3       ', '       1       ', '       1       ', '1.6666666666666667']\n",
      "['    Utkarsh    ', '       3       ', '       1       ', '       1       ', '1.6666666666666667']\n",
      "['    Jayanti    ', '       3       ', '       1       ', '       1       ', '1.6666666666666667']\n",
      "['    Akshata    ', '       3       ', '       1       ', '       1       ', '1.6666666666666667']\n",
      "['    Dipali     ', '       3       ', '       1       ', '       1       ', '1.6666666666666667']\n",
      "['   Bhutekar    ', '       3       ', '       1       ', '       1       ', '1.6666666666666667']\n",
      "['    Noshiba    ', '       2       ', '       1       ', '       1       ', '1.3333333333333333']\n",
      "['    Meghana    ', '       2       ', '       1       ', '       1       ', '1.3333333333333333']\n",
      "['    Snehal     ', '       2       ', '       1       ', '       1       ', '1.3333333333333333']\n",
      "['    Duhita     ', '       2       ', '       1       ', '       1       ', '1.3333333333333333']\n",
      "['    Mousam     ', '       2       ', '       1       ', '       1       ', '1.3333333333333333']\n",
      "['     Teena     ', '       2       ', '       1       ', '       1       ', '1.3333333333333333']\n",
      "['     Rohit     ', '       2       ', '       1       ', '       1       ', '1.3333333333333333']\n",
      "['    Dinesh     ', '       2       ', '       1       ', '       1       ', '1.3333333333333333']\n",
      "['     Sajal     ', '       2       ', '       1       ', '       1       ', '1.3333333333333333']\n",
      "['     Vipul     ', '       2       ', '       1       ', '       1       ', '1.3333333333333333']\n",
      "['     Utsav     ', '       2       ', '       1       ', '       1       ', '1.3333333333333333']\n",
      "['    Dheeraj    ', '       2       ', '       1       ', '       1       ', '1.3333333333333333']\n",
      "['     Tejas     ', '       2       ', '       1       ', '       1       ', '1.3333333333333333']\n",
      "['     Shyam     ', '       2       ', '       1       ', '       1       ', '1.3333333333333333']\n",
      "['    Ananya     ', '       2       ', '       1       ', '       1       ', '1.3333333333333333']\n",
      "['    Krishna    ', '       2       ', '       1       ', '       1       ', '1.3333333333333333']\n",
      "['    Ashvini    ', '       2       ', '       1       ', '       1       ', '1.3333333333333333']\n",
      "['     Swati     ', '       2       ', '       1       ', '       1       ', '1.3333333333333333']\n",
      "['    Soodesh    ', '       2       ', '       1       ', '       1       ', '1.3333333333333333']\n",
      "['   Akanksha    ', '       1       ', '       1       ', '       1       ', '      1.0      ']\n",
      "['     Avni      ', '       1       ', '       1       ', '       1       ', '      1.0      ']\n",
      "['   Samiksha    ', '       1       ', '       1       ', '       1       ', '      1.0      ']\n",
      "['    Gunjan     ', '       1       ', '       1       ', '       1       ', '      1.0      ']\n",
      "['    Kritika    ', '       1       ', '       1       ', '       1       ', '      1.0      ']\n",
      "['   Swetlana    ', '       1       ', '       1       ', '       1       ', '      1.0      ']\n",
      "['   Aakanksha   ', '       1       ', '       1       ', '       1       ', '      1.0      ']\n",
      "['    Namrata    ', '       1       ', '       1       ', '       1       ', '      1.0      ']\n",
      "['  Inderpreet   ', '       1       ', '       1       ', '       1       ', '      1.0      ']\n",
      "['     Wale      ', '       1       ', '       1       ', '       1       ', '      1.0      ']\n",
      "['     Akash     ', '       1       ', '       1       ', '       1       ', '      1.0      ']\n",
      "['    Anubhaw    ', '       1       ', '       1       ', '       1       ', '      1.0      ']\n",
      "['  Dhirajendu   ', '       1       ', '       1       ', '       1       ', '      1.0      ']\n",
      "['    Arindam    ', '       1       ', '       1       ', '       1       ', '      1.0      ']\n",
      "['    Akshat     ', '       1       ', '       1       ', '       1       ', '      1.0      ']\n",
      "['    Ashwin     ', '       1       ', '       1       ', '       1       ', '      1.0      ']\n",
      "['     Rane      ', '       1       ', '       1       ', '       1       ', '      1.0      ']\n",
      "['     Daksh     ', '       1       ', '       1       ', '       1       ', '      1.0      ']\n",
      "\n",
      "\n",
      "\n"
     ]
    }
   ],
   "source": [
    "sql_rfm = \"\"\"\n",
    "WITH customer_data AS(\n",
    "SELECT \n",
    "customer_name,\n",
    "julianday('2019-03-31') - MAX(julianday(order_date)) as recency,\n",
    "COUNT(DISTINCT order_id) AS frequency,\n",
    "SUM(amount) as monetary\n",
    "FROM order_combined\n",
    "GROUP BY customer_name\n",
    ")\n",
    "SELECT \n",
    "customer_name,\n",
    "R,F,M, \n",
    "(R+F+M)/3.0 as RFM \n",
    "FROM (\n",
    "SELECT\n",
    "customer_name,\n",
    "NTILE(5) OVER (ORDER BY recency DESC) AS R,\n",
    "NTILE(5) OVER (ORDER BY frequency ASC) AS F,\n",
    "NTILE(5) OVER (ORDER BY monetary ASC) AS M\n",
    "FROM customer_data)\n",
    "ORDER BY RFM DESC;\n",
    "\"\"\"\n",
    "\n",
    "cur = conn.cursor()\n",
    "cur.execute(sql_rfm)\n",
    "#conn.commit()\n",
    "rows = cur.fetchall()\n",
    "column_names = list(map(lambda x : x[0], cur.description))\n",
    "format_table(column_names, rows)\n",
    "cur.close()"
   ]
  }
 ],
 "metadata": {
  "kaggle": {
   "accelerator": "none",
   "dataSources": [
    {
     "datasetId": 615631,
     "sourceId": 1100614,
     "sourceType": "datasetVersion"
    }
   ],
   "dockerImageVersionId": 30839,
   "isGpuEnabled": false,
   "isInternetEnabled": true,
   "language": "python",
   "sourceType": "notebook"
  },
  "kernelspec": {
   "display_name": "Python 3",
   "language": "python",
   "name": "python3"
  },
  "language_info": {
   "codemirror_mode": {
    "name": "ipython",
    "version": 3
   },
   "file_extension": ".py",
   "mimetype": "text/x-python",
   "name": "python",
   "nbconvert_exporter": "python",
   "pygments_lexer": "ipython3",
   "version": "3.10.12"
  },
  "papermill": {
   "default_parameters": {},
   "duration": 5.182297,
   "end_time": "2025-02-09T10:15:15.651059",
   "environment_variables": {},
   "exception": null,
   "input_path": "__notebook__.ipynb",
   "output_path": "__notebook__.ipynb",
   "parameters": {},
   "start_time": "2025-02-09T10:15:10.468762",
   "version": "2.6.0"
  }
 },
 "nbformat": 4,
 "nbformat_minor": 5
}
